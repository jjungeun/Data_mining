{
 "cells": [
  {
   "cell_type": "code",
   "execution_count": 1,
   "metadata": {},
   "outputs": [],
   "source": [
    "import requests\n",
    "import json\n",
    "from bs4 import BeautifulSoup\n",
    "import base64\n",
    "import urllib"
   ]
  },
  {
   "cell_type": "code",
   "execution_count": 2,
   "metadata": {},
   "outputs": [],
   "source": [
    "login_form = {\n",
    "    'email' : '821080299729',\n",
    "    'pass' : 'godforever01',\n",
    "}"
   ]
  },
  {
   "cell_type": "markdown",
   "metadata": {},
   "source": [
    "cursor & page num & 날짜\n",
    "\n",
    "좋아요순서"
   ]
  },
  {
   "cell_type": "code",
   "execution_count": 3,
   "metadata": {},
   "outputs": [],
   "source": [
    "q = '{\"view\":\"list\",\\\n",
    "\"encoded_query\":\"{\\\"bqf\\\":\\\"keywords_blended_posts(\\\\u0025ED\\\\u00258C\\\\u00258C\\\\u0025EC\\\\u00259D\\\\u0025B4\\\\u0025EC\\\\u00258D\\\\u0025AC)\\\",\\\"browse_sid\\\":\\\"136fc5fde0581d7cb6bdba76470ea230\\\",\\\"typeahead_sid\\\":null,\\\"vertical\\\":\\\"content\\\",\\\"post_search_vertical\\\":null,\\\"intent_data\\\":null,\\\"requestParams\\\":{\\\"filter_config\\\":\\\"merged_public_posts_see_more\\\",\\\"kw_blender_module_dependency_graph_config\\\":\\\"merged_public_posts_see_more\\\",\\\"kw_blender_wpr_sizing_config\\\":\\\"merged_public_posts_see_more_wpr_sizing\\\",\\\"no_override_params\\\":\\\"[\\\\\\\"kw_blender_wpr_sizing_config\\\\\\\"]\\\"},\\\"has_chrono_sort\\\":false,\\\"query_analysis\\\":null,\\\"subrequest_disabled\\\":false,\\\"token_role\\\":\\\"NONE\\\",\\\"preloaded_story_ids\\\":[],\\\"extra_data\\\":null,\\\"disable_main_browse_unicorn\\\":false,\\\"entry_point_scope\\\":null,\\\"entry_point_surface\\\":null,\\\"entry_point_action\\\":\\\"FILTERS\\\",\\\"squashed_ent_ids\\\":[],\\\"source_session_id\\\":null,\\\"preloaded_entity_ids\\\":[],\\\"preloaded_entity_type\\\":null,\\\"block_preloaded_entity_ids_deduping\\\":false,\\\"high_confidence_argument\\\":null,\\\"query_source\\\":null,\\\"logging_unit_id\\\":\\\"browse_serp:68bdd8cf-a446-3d78-6b91-522f09d237b0\\\",\\\"query_title\\\":null,\\\"serp_decider_outcome\\\":null,\\\"infobox_context\\\":{\\\"kgid\\\":null}}\",\\\n",
    "\"encoded_title\":\"WyJcdTAwMjVFRFx1MDAyNThDXHUwMDI1OENcdTAwMjVFQ1x1MDAyNTlEXHUwMDI1QjRcdTAwMjVFQ1x1MDAyNThEXHUwMDI1QUMiXQ\",\\\n",
    "\"ref\":\"unknown\",\\\n",
    "\"logger_source\":\"www_main\",\\\n",
    "\"typeahead_sid\":\"\",\\\n",
    "\"tl_log\":true,\\\n",
    "\"impression_id\":\"0RxrqmHKm1DqizFY0\",\\\n",
    "\"지움->filter_ids\":{\"113537842660287:314346595912743\":\"113537842660287:314346595912743\",\"100005394011648:2838336286206889\":\"100005394011648:2838336286206889\"},\\\n",
    "\"experience_type\":\"grammar\",\\\n",
    "\"exclude_ids\":null,\\\n",
    "\"browse_location\":\"browse_location:browse\",\\\n",
    "\"trending_source\":null,\"reaction_surface\":null,\"reaction_session_id\":null,\"ref_path\":\"/search/posts/\",\"is_trending\":false,\"topic_id\":null,\"place_id\":null,\"story_id\":null,\"callsite\":\"browse_ui:init_result_set\",\"has_top_pagelet\":true,\\\n",
    "\"display_params\":{\"crct\":\"none\",\"mrss\":true},\\\n",
    "\"cursor\":\"AbpJGMog0OMkA5Uzrfx7fJoFiSwBYhBb7ma3nzj1D1AVnkaDUofBG_KWWMLvIC8OqxLhZU6h1YxTM7GRICjVTRjvr2G61D3G3yT8q4daua6igugCdbox6_hVcK2qcDY5k-JjDBV5QnzGGclxi64HA4wB_tMD1S_KWoAovZUEwhgt0Tw3wvJXHBm_2U1kMRAC0Dv8mE6TAK3Q6sAUU_3aWYebp4w1Nxjn-Jf1YkuDzRGQu4ddP-p54hYCXLPZimMAJJVQ5TqxPOKVsrqaE_9WRVIDu2VC9magKm_LL-HxZqv4r40KWlBCogPp9_QnnGhm9j-YzHKuH6WKYoFZgOKycgWRoqr96zMF-ufEmY7uDJ9VpsBWYYLnYM-xIke6KZukjxned462ZmbUa35cE2w2-ypno4wGF6DVjKKFSr6IXOqNeTgW89EwNycr0AkvCOG5-Z3OuuNGUcHf0wnuq_MJzxpqx16Wsv8gwWX2_Ks8_Mx3bs1DsdmCRiEBdweAsd2fnxuYiZ0lods5UkqDFv5SD0JtajO1ScrhH1_RSOIzIEgmBKp9H3YeRXRixObLSwrBVrm-cy5xJlB_sNffSFvXVwI1DvU9ZnHisKJVnAwywCYxgQXRl5DcpTOjZqSL2OJNU5b5KuIAfvBeutSbnQfWK5w9w3vCC0qKg2kSJtmUh7tHgerVWZzFdrbX8zN5gsyXKJSpjnPOJyCBoMLvTxP9SdlWi7TID26kRgXadeQhCSARE3W9j3Tx64XFHHcYSp0Jv_Rd5MyyZKgiSa6dHUaZonjsdDXuYNJGtTT8D9HE9ii2TYpjmtcCB0tLM9V6evbZTIJ0UWheO9h1E1CwOTwNu7kC6RVkmRVKGUjz0parFPbFasOuQEzfoGNuP6usKgol_3bNO6g1JiYFjN2hdzlZuHx0rGveGfVKkhb_byz_AQ_Z1YFgi55ZmI7IV0lKQFnunPTkQ9GJus5XpWXSwneeSSdmd31PE3g6VX0J5VyOuhgVUEK2OPemWZuuh4GcV08wjJOQzTVO-mw9PJACRekJKy4KGH1dyDA2Y1x086IBmknDpGgvUTe6cvIV2gXnkrUvEqM-UcZm5-0pvh_k9XPHvkgE42LflKFy9NjluOnQDUTYJnHCzXHPQKnf8Neok6xZCsA5t8o7HsxzwqW9dEE2G_U6bmdjFRJ88Qv1MzXk0YWAp2s1jHGbjlNgSNMUEx2ZFy3jHJDCyU3zdenWlrWXHsgWC_6mT-3fHCOSS7bKZ8NLMfVC85LySYBdZloi7Mt6MYhk4GH3prCAiA8Vz5PfB5JhMFcmBgtQrKZ7WoIOPOBo5Enx4ECM9MPylOaLDu6mVEcE2jDO6zfuZskK_BjtMnrN9shI_pjHSQ5t08wuhIDWYpyJT9yERiQgEaGWYr_KaX-5KULUj_Wcx9Ct-KcxiW-wZEJRpUdVn6G98bf3j2aV34AyYBGVjfNgOg9PFNCVdOUWMkP6rmbB47pdGB5GzBf4ZoRgpl9jgLVlF1pqmOOe3sF-ZjUCkPJaN7_WWj8oOLkBSd_Arnu04UKEKmjzVc_Dh89eoDCUMGcajxEhCHBQDwCjeCIs5FbnmCYS7ikC3C0\",\\\n",
    "\"page_number\":2,\"em\":false,\"tr\":null}'"
   ]
  },
  {
   "cell_type": "code",
   "execution_count": 4,
   "metadata": {},
   "outputs": [],
   "source": [
    "def encode_query(query):\n",
    "    encode_query = ''\n",
    "    for c in query:\n",
    "        if ord('가') <= ord(c) <= ord('힣'):\n",
    "            b = c.encode('utf-8')\n",
    "            s = bytes(b).hex().upper()\n",
    "            for i,v in enumerate(s):\n",
    "                if i % 2 is 0:\n",
    "                    encode_query += '{}{}'.format('\\\\u0025',v)\n",
    "                else:\n",
    "                    encode_query += v\n",
    "        else:\n",
    "            encode_query += c\n",
    "    \n",
    "    title = '[\"'+encode_query+'\"]'\n",
    "    encode_title = base64.b64encode(title.encode())[:-2].decode('ascii')\n",
    "    return encode_query, encode_title"
   ]
  },
  {
   "cell_type": "markdown",
   "metadata": {},
   "source": [
    "keywords_search, encoded_title, page_number 고치기 &'('는 decode '\\'는 encode\n",
    "json.dumps : dict to json\n",
    "json.loads : json to dict"
   ]
  },
  {
   "cell_type": "code",
   "execution_count": 5,
   "metadata": {},
   "outputs": [],
   "source": [
    "URL1 = 'https://www.facebook.com/'\n",
    "URL2 = 'https://www.facebook.com/login/device-based/regular/login/?login_attempt=1&lwv=111'\n",
    "URL3 = 'https://www.facebook.com/'\n",
    "URL4 = 'https://www.facebook.com/search/?searchtype=posts&ref=side_filter&epa=FILTERS&fb_dtsg_ag=AQz-9-RsKjuxpJ7zjPpzSPE3mQvjmZOLkSGIgKCcGRE-_w%3AAQwn-gojmwVFltFwnzdVrIcZW-LtaL7ys1iXNcGvYbznwQ&jazoest=28427&filters=eyJycF9hdXRob3IiOiJ7XCJuYW1lXCI6XCJtZXJnZWRfcHVibGljX3Bvc3RzXCIsXCJhcmdzXCI6XCJcIn0ifQ%3D%3D&ajaxpipe=1&ajaxpipe_token=AXgQP9SiecVn2g3G&quickling[version]=1000612571%3B0%3B&q='\n",
    "URL5 = 'https://www.facebook.com/ajax/pagelet/generic.php/BrowseScrollingSetPagelet?fb_dtsg_ag=AQw3EznKMKwEmrV66Y9qM3Gx0Ra95SWwDjV17NZZBFZe4A%3AAQxAslqxlsLam2UNG_wRXVNb8cZ7lvlbONlc4XXNMlEEJA&__user=100010743251101&__a=1&__dyn=7AgNe-4amaAxd2u6aJGeFxqeCwDKEyGzEy4arWo8ovxGdwIhE98nwgUau3u2lu9xK5WwIKaxeUW3KFUe8HzobrCCx3wCgoDxicxu5od8cEiwBx61zwzU5KEuxm1VDBwm88o99UhKEtxy5UrwFwgElx-bx-2KfwnK59o_Wx28CwKwPG8AhUix62PK6UylxfwzAx2cGcBKm4U-4K2i6ElxS4p8yEnHxC6oOh4Bx3CDKi8wGxm4UGqfwPxecxyEmwAwUzFKcxp2Utwwx-2y8wioowOxG3u36&__req=81&__be=1&__pc=PHASED%3Aufi_home_page_pkg&dpr=1.5&__rev=1000680358&__comet_req=false&jazoest=27863&__spin_r=1000680358&__spin_b=trunk&__spin_t=1557211858&'"
   ]
  },
  {
   "cell_type": "markdown",
   "metadata": {},
   "source": [
    "print(urllib.parse.urlencode(data))"
   ]
  },
  {
   "cell_type": "code",
   "execution_count": 6,
   "metadata": {
    "scrolled": true
   },
   "outputs": [],
   "source": [
    "with requests.Session() as session:\n",
    "    r = session.get(URL1)\n",
    "    cookie = r.headers['set-cookie']\n",
    "    headers = {\n",
    "        'User-Agent': 'Mozilla/5.0 (Windows NT 10.0; Win64; x64) AppleWebKit/537.36 (KHTML, like Gecko) Chrome/73.0.3683.103 Safari/537.36', \n",
    "        'Accept-Encoding': 'gzip, deflate', \n",
    "        'Accept': '*/*', \n",
    "        'Connection': 'keep-alive',\n",
    "        'cookie' : cookie,\n",
    "    }\n",
    "    session.headers['user-agent'] = 'Mozilla/5.0 (Windows NT 10.0; Win64; x64) AppleWebKit/537.36 (KHTML, like Gecko) Chrome/73.0.3683.103 Safari/537.36'\n",
    "    r = session.post(URL2, data = login_form, headers = headers)\n",
    "\n",
    "#     print(dict(session.cookies))\n",
    "#     r = session.get(URL3)\n",
    "#     print(session.headers,'\\n')\n",
    "\n",
    "#     URL4 += urllib.parse.quote('파이썬')\n",
    "#     print(URL4)\n",
    "#     r = session.get(URL4)\n",
    "\n",
    "\n",
    "    query, title = encode_query('파이썬')\n",
    "    \n",
    "    URL6 = URL5 + 'data=%7B%22view%22%3A%22list%22%2C%22encoded_query%22%3A%22%7B%5C%22bqf%5C%22%3A%5C%22keywords_blended_posts('+query+')%5C%22%2C%5C%22browse_sid%5C%22%3A%5C%2295f39b9c0660b382ac1c474239ecdadc%5C%22%2C%5C%22typeahead_sid%5C%22%3Anull%2C%5C%22vertical%5C%22%3A%5C%22content%5C%22%2C%5C%22post_search_vertical%5C%22%3Anull%2C%5C%22intent_data%5C%22%3Anull%2C%5C%22requestParams%5C%22%3A%7B%5C%22filter_config%5C%22%3A%5C%22merged_public_posts_see_more%5C%22%2C%5C%22kw_blender_module_dependency_graph_config%5C%22%3A%5C%22merged_public_posts_see_more%5C%22%2C%5C%22kw_blender_wpr_sizing_config%5C%22%3A%5C%22merged_public_posts_see_more_wpr_sizing%5C%22%2C%5C%22no_override_params%5C%22%3A%5C%22[%5C%5C%5C%22kw_blender_wpr_sizing_config%5C%5C%5C%22]%5C%22%7D%2C%5C%22has_chrono_sort%5C%22%3Afalse%2C%5C%22query_analysis%5C%22%3Anull%2C%5C%22subrequest_disabled%5C%22%3Afalse%2C%5C%22token_role%5C%22%3A%5C%22NONE%5C%22%2C%5C%22preloaded_story_ids%5C%22%3A[]%2C%5C%22extra_data%5C%22%3Anull%2C%5C%22disable_main_browse_unicorn%5C%22%3Afalse%2C%5C%22entry_point_scope%5C%22%3Anull%2C%5C%22entry_point_surface%5C%22%3Anull%2C%5C%22entry_point_action%5C%22%3A%5C%22FILTERS%5C%22%2C%5C%22squashed_ent_ids%5C%22%3A[]%2C%5C%22source_session_id%5C%22%3Anull%2C%5C%22preloaded_entity_ids%5C%22%3A[]%2C%5C%22preloaded_entity_type%5C%22%3Anull%2C%5C%22block_preloaded_entity_ids_deduping%5C%22%3Afalse%2C%5C%22high_confidence_argument%5C%22%3Anull%2C%5C%22query_source%5C%22%3Anull%2C%5C%22logging_unit_id%5C%22%3A%5C%22browse_serp%3A0851d177-a112-eac9-dd0a-59fd9c4c209b%5C%22%2C%5C%22query_title%5C%22%3Anull%2C%5C%22serp_decider_outcome%5C%22%3Anull%2C%5C%22infobox_context%5C%22%3A%7B%5C%22kgid%5C%22%3Anull%7D%7D%22%2C%22encoded_title%22%3A%22'+title+'%22%2C%22ref%22%3A%22unknown%22%2C%22logger_source%22%3A%22www_main%22%2C%22typeahead_sid%22%3A%22%22%2C%22tl_log%22%3Afalse%2C%22impression_id%22%3A%220VVSqd0y4WRK5TIIK%22%2C%22filter_ids%22%3A%7B%7D%2C%22experience_type%22%3A%22grammar%22%2C%22exclude_ids%22%3Anull%2C%22browse_location%22%3A%22browse_location%3Abrowse%22%2C%22trending_source%22%3Anull%2C%22reaction_surface%22%3Anull%2C%22reaction_session_id%22%3Anull%2C%22ref_path%22%3A%22%2Fsearch%2Fposts%2F%22%2C%22is_trending%22%3Afalse%2C%22topic_id%22%3Anull%2C%22place_id%22%3Anull%2C%22story_id%22%3Anull%2C%22callsite%22%3A%22browse_ui%3Ainit_result_set%22%2C%22has_top_pagelet%22%3Atrue%2C%22display_params%22%3A%7B%22crct%22%3A%22none%22%2C%22mrss%22%3Atrue%7D%2C%22cursor%22%3A%22AbrYLY9NGFhdeuGAG1-MIciqZVB6cGMUBmgX2VfJ1UJrDghSxFv17czOok3Cr6jm-ZYI8TWhYlAnVARqdBbphjHSu6WpKrNNcjmQjgc-VpJFXY6NzW7El6ptAF6JJq6tCdKV74nh06MhOaGHx8S2x_fEVBgjbQovAVgj362tyEyby93IBZaVaRIMMF7Rsnxux3WK2j4PdlB-7BGscMowVn8M-HzBE9CBboWXK_f_XjEgV952C3EcYttIB74SkQZkPxyeGe2tO9YI92yDQj4Vf0xndvzk4REAaDyHLyt3uALkyEYlpCnBT31UigSgQ1B4yIA5HOoSZWZmyjB-cPdIwTjKqUOLzj3zT9s4rnTpwgUSswhPvT_Ezuy9qGJIndOlKDf0kj5U7rPEhDPQ7ySh2bjLGJvHgAqxK5jRxBAdtKODABqaX5MLKDIYtelVqajRyx6IuS5OWDYISOFhK-rEf2NlU1tvarEW6mO-S_-MO_9srKrjB8WjPybxIOXpQp-TypP9n4ECnr-4l41VVnEBsa7-pg4_rmjyC46IwdweEQNlsx4AJ_5sdXoUMAVZQCgEA1fWqZx8Hzjf_wlJpIUkbgGzTfw8gO5Yq-TtUh_SIa5n80MSpdP-8JDmneTG_jUETpNb-K1-lmhVJn_-MwaVdrbatOkI0spE9cbbanZGhE56_xPqh17edp31IEpUkTzNQIFlPOlSBhR5TRTndsSpvrj9c7cZHFKs3UlFSqLvOOMFON9kCbf_UG4tpLhvs3_rkVFAJXPT0DBkSiqbNKto1bcDGyEeM_R3ZQKcGBZGmYz_4-NanPow916F_N8A7yNz7n5irzEM3q12qrFoB70XHJJlt9cCesYiwt33FSWq2GR5BGMmArX40RTdr21IDHn0r7ie7e-iXubEN29obeQNvwep0X9FtH3W-zkfLS-_ahOEqYD2n2D-esPzCQemf11HJdZvRSkLmvv5g_aTgdju2Kjrcj9T6oflkYilrUaXye9HAjtV2Hh7lLg8-fk5zDxc89ddLPNl6C8zga_iTtzFEvRgM7UX19lni4scqbF_axLqLM_6l4g-jjScjC9_QMOvAbBBzyGTvPwwOR8bIPI9GqYDXNqorlUtIVYWaOfBLKjz_yoEXIMDDf5E2z4OUb7ewzVo36NNExcZK8LBGPz3wdMHq1cFQ6V3gottD3ls9Lm90NMWtrnzL3F_cvVO5OLoMxV3xLSZQIllnKp02SPYXFO_lDbBkoF8lAjO3WiAFHtuAuNxykvpOTZsdVWynQOaxFudxf8ocsRttWTnfjD3wo1CEJoSUgWXmblaVg-wHncnJ0eYt4BncACFlofxpM5J70R6w_o-P-KuBAoSGV1fynZsuU89dyy_kDLvR8V-KVAnxqAGann6WLeAb3_2ZmAhfarZ1byVZQMxmd9kIbBQCEll7pNnPZIoaAecnwb4Ck2OWPhQER9fJc_siFOVrlgK8o4wpBjOquSQngCIv0Cvk8uVJtIqi-isi8C_4yNk0ezAB_xYWLNpWqlKWQC8P9yjGKm6r0ayEqL04kSai4hqn3ykTplorYi862GWG2pezQnTeqT8eVSPneXuJ-HRNbYq7T-ywrdwXRaumDPn85X5Hja4%22%2C%22page_number%22%3A2%2C%22em%22%3Afalse%2C%22tr%22%3Anull%7D'\n",
    "#     print(URL6)\n",
    "    r = session.get(URL6)\n",
    "    j = r.text"
   ]
  },
  {
   "cell_type": "code",
   "execution_count": 7,
   "metadata": {},
   "outputs": [],
   "source": [
    "post = j.split(';',3)[3]"
   ]
  },
  {
   "cell_type": "code",
   "execution_count": 8,
   "metadata": {},
   "outputs": [],
   "source": [
    "# print(post)"
   ]
  },
  {
   "cell_type": "code",
   "execution_count": 9,
   "metadata": {},
   "outputs": [],
   "source": [
    "payload = json.loads(post)['payload']\n",
    "soup = BeautifulSoup(payload,'html.parser')"
   ]
  },
  {
   "cell_type": "code",
   "execution_count": 10,
   "metadata": {},
   "outputs": [],
   "source": [
    "posts = {\n",
    "    'date' : '',\n",
    "    'writer' : '',\n",
    "    'text' : '',\n",
    "    'emotion' : {},\n",
    "}"
   ]
  },
  {
   "cell_type": "code",
   "execution_count": 11,
   "metadata": {},
   "outputs": [],
   "source": [
    "date = []\n",
    "crawl_date = soup.select('abbr')\n",
    "for c in crawl_date:\n",
    "    date.append(c['title'])"
   ]
  },
  {
   "cell_type": "code",
   "execution_count": 12,
   "metadata": {
    "scrolled": true
   },
   "outputs": [],
   "source": [
    "writer = []\n",
    "crawl_writer = soup.select('h5 span span a')\n",
    "for i,c in enumerate(crawl_writer):\n",
    "    if c.text == '' and c['href'][0] != '/':\n",
    "        writer.append(c['href'])"
   ]
  },
  {
   "cell_type": "code",
   "execution_count": 13,
   "metadata": {},
   "outputs": [],
   "source": [
    "text = []\n",
    "crawl_text = soup.select('div[data-testid=\"post_message\"]')\n",
    "for c in crawl_text:\n",
    "    text.append(c.text)"
   ]
  },
  {
   "cell_type": "code",
   "execution_count": 14,
   "metadata": {},
   "outputs": [
    {
     "name": "stdout",
     "output_type": "stream",
     "text": [
      "https://www.facebook.com/groups/mogaco/permalink/1764543920311983/\n",
      "https://www.facebook.com/KaDaejeon/posts/2278588239126553\n",
      "https://www.facebook.com/Starhighlights/videos/1703102366594974/\n"
     ]
    }
   ],
   "source": [
    "emotions = []\n",
    "jsmods = json.loads(post)['jsmods']['pre_display_requires']\n",
    "for jsmod in jsmods:\n",
    "    emotion = {}\n",
    "    if jsmod[0] == 'AsyncData':\n",
    "        continue\n",
    "    js = jsmod[3][1]['__bbox']['result']['data']['feedback']['top_reactions']['edges']\n",
    "    print(jsmod[3][1]['__bbox']['result']['data']['feedback']['url'])\n",
    "    for emo in js:\n",
    "        react = str(emo['node']['key'])\n",
    "        count = emo['reaction_count']\n",
    "        emotion.update({react:count})\n",
    "    emotions.append(emotion)"
   ]
  },
  {
   "cell_type": "markdown",
   "metadata": {},
   "source": [
    "좋아요 : 1,\n",
    "최고에요 : 2,\n",
    "멋져요 : 3,\n",
    "웃겨요 : 4,\n",
    "슬퍼요 : 7,\n",
    "화나요 : 8\n",
    "\n",
    "좋아요 순서 고치기"
   ]
  },
  {
   "cell_type": "code",
   "execution_count": 15,
   "metadata": {},
   "outputs": [
    {
     "name": "stdout",
     "output_type": "stream",
     "text": [
      "{'date': '19. 4. 29. 오후 12:18', 'writer': 'https://www.facebook.com/KaDaejeon/?__tn__=kC-R&eid=ARBo3mVBYFTJ7FN-3QyxW3NGwfnnafXsrfsAxRv82eW-J8Ti_2F9N7tcjQasLoUCiii3Amny3Sls0qSQ&hc_ref=ARRSWTNr71_7TtQLWpXktdX4pw0qoBVZCZk5u0asMXTUS52Z_LSNKmSEYAlylGe089w&fref=nf&__xts__%5B0%5D=68.ARBlfxjFFv1pvTGUNsfkOSEnIEl6KigZZvyFs-Svifu-aEX7Pt0XdVi5FIlH3B-q0waWcDMaN59nX9sRm7XwK3a5Vmx-WPcu86TrpMYGc083g8cho1zjqeYJnjJ0E7VbY9tLp1NhbRaMIzcTpDzylx5C27xgBtL7ipPsrUGyldup24HfyXWmDUfG9adQ5st7jIm5gPBp9DGRku5AF8gtGAhwDcSyJpHl02GFC2C2VbbE2NWip1Bj14SF1W_IimxEyIhT8uvVtp4rSWyMwIcLm19IEpTzE1w-1C7rKcN5j1ajftYuahX_kiOLh_DRdnmhBKk', 'text': '[프밍기 랩세션 모 조교님께 부탁드립니다] 프밍기 과목을 수강하는 많은 학생들은 프로그래밍을, 알고리즘을 처음 접하는 학생들로 알고 있습니다. 물론 매번 나오는 랩 세션의 과제나 HW의 난이도가 파이썬 프로그래밍에 있어서 정말 난이도가 낮은 편인 것 역시 알고 있습니다만, 프로그래밍을 처음 접하는 사람에게 충분히 낯설 수 있는 부분이며 그렇기에 랩세션에서 조교님에게 모르는 부분에 대해 질문하고 답변을 받는 것은 프밍기 과목 자체의 수강을 위해서 상당히 중요한 부분이라 생각합니다. ... 프밍기 랩 세션 중 모 조교님께서 질문한 학생에게 상당히 귀찮다는 말투로 코드를 이렇게 짰으니 이건 당연히 안되는거다. 이해를 못했으면 얘기나 제대로 해달라. 처럼 따지는 식으로 말씀하시더군요. 물론 제가 그 코드를 보지 않았으니까, 정말 멍청하게 코딩이 되었을 수 있으니까, 이 부분은 그렇다고 할 수 있더라도, 그 학생이 코딩하고 있는 옆자리에서 코딩하는거 진짜 답답해 죽겠다는 말을 굳이 해야 하나 싶었습니다.  답답할 수 있습니다. 당연하지요. 어쩌면 그 학생이 수업시간에 다 나간 명령어들을 다 잊어버리고 렉쳐노트를 뒤져가며 공부하지 않아서 모르는 것일지 모릅니다. 아니면 그저 오류코드 하나 이해하지 못해서 어떤 오류인지 빤히 써져 있는데도 이해하지 못하는 것일 수 있죠. 하지만 그런 답답한 점에 대해서 속편하게 질문할 수 있고 그저 해당 과제를 해결하기 위한 코드를 듣는 것만이 아니라 어떤 부분이 어떻게 문제가 되는지에 대해 설명을 들을 수 있는것이 랩세션의 목적이라고 생각합니다.  저에게 그러신건 아니셨지만, 매 랩세션마다 유독 모 조교님께서만 항상 이런 태도로 임하셔서 개인적으로 기분 나빠할, 주눅들 학생들이 있을거라 생각해 글 남깁니다. ---------- #잡담  https://talkyou.in/pages/KaDaejeon/posts/23836/ 익명 아바타 더 보기', 'emotion': {'1': 17}} \n",
      "\n",
      "{'date': '19. 4. 28. 오후 2:50', 'writer': 'https://www.facebook.com/kimozex?__tn__=C-R&eid=ARB0r_e_kIF_cNCiEoFi4Dyrv5UU2nX8p7qBIfLPLqaNdP2dpeUK_fsLhq2o9Lg8GdvxCERpFVXuLbTv&hc_ref=ARQ4308oObpee5imvUZVJi2Gg1YR_1rsI_jS0O8N4TP2Qmd_Xq9jIQ6xso7WULnJk-g&fref=nf&__xts__%5B0%5D=68.ARBbw9bwebziVpl-wgP5UevlT58D5fP1qrZQocris4lo_ImwyhBdEfdUGvH92Gt1IJldn2rtpQMz6drXkAICyYFL2jaMgQXnk7pxGbSKN8zRa7DX_Q0-EFTYtD9hKpDbrle1bo-7X8E4yuqcqvdoqF8iro1DrI6D_QDz7KcJ4v--G1SwO_iO0w2qVLIwLKtPffLI8FNCceUHUSqOJMy2mWFuGLyRyOnJpcmLIB7ntREYDwlBoH5hAqr14OVzz9b5QJBJ9jnjxzUReBo', 'text': '파이썬 스터디 전에 내용정리 중입니다. 그리고 스터디원들이랑 영화보러가네요 :) #서울극장 #스타벅스 #종로3가 — 서울 다이아몬드에서', 'emotion': {'1': 19, '7': 9, '8': 2}} \n",
      "\n",
      "{'date': '16. 1. 8. 오후 3:52', 'writer': 'https://www.facebook.com/Starhighlights/?__tn__=kC-R&eid=ARBOfN7QAFsxS3zVVzNW07vrJVwq6u4-oYhc59G8Fm1XvPOvZFh1_n6fvhks8VJwIWpEvlDX5sfjIIkz&hc_ref=ARQyb3nKdRCVfVgqUKZnGrmn60dYJc7kHTgBD93V3sfoMmqiiWKg3FRiN3kxEzosf7Q&fref=nf&__xts__%5B0%5D=68.ARATx0iFM9PIBM4VAvE7d1lbxDxcwDPccYUy464B25I3S-oz7qie9Xx64VUBc8InWsNHe5x7d-SW0FHjV90MolrrNpXAsE48QZtxhIotVexk1OZPgVVtXO_yS71XDWJlMvqPOkhXDAAoi-v2UyLxgS035yAG_kPxhXrmWc-BauRyNc2IHn3amygXdYwdeVZ3IYtPr7gRY4Ux8QI9eRjG99jKAO11_Vk-zisjhlWCa7q2v46dv78ZxStzI0Zdr2EyYI5M9JubJyJuPCsj9-bwU0QEBYMHWTUhSfXQVKfGfFoYomQgUR5i9_VmPubVNaHf_2lhutg8Nz_aF5sAdmw', 'text': '도재욱 이영호 파이썬', 'emotion': {'1': 56}} \n",
      "\n"
     ]
    }
   ],
   "source": [
    "for i in range(len(date)):\n",
    "    posts['date'] = date[i]\n",
    "    posts['writer'] = writer[i]\n",
    "    posts['text'] = text[i]\n",
    "    posts['emotion'] = emotions[i]\n",
    "    print(posts,'\\n')"
   ]
  },
  {
   "cell_type": "code",
   "execution_count": null,
   "metadata": {},
   "outputs": [],
   "source": []
  },
  {
   "cell_type": "code",
   "execution_count": null,
   "metadata": {},
   "outputs": [],
   "source": []
  }
 ],
 "metadata": {
  "kernelspec": {
   "display_name": "Python 3",
   "language": "python",
   "name": "python3"
  },
  "language_info": {
   "codemirror_mode": {
    "name": "ipython",
    "version": 3
   },
   "file_extension": ".py",
   "mimetype": "text/x-python",
   "name": "python",
   "nbconvert_exporter": "python",
   "pygments_lexer": "ipython3",
   "version": "3.6.7"
  }
 },
 "nbformat": 4,
 "nbformat_minor": 2
}
