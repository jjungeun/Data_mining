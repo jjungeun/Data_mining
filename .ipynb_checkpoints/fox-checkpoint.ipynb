{
 "cells": [
  {
   "cell_type": "code",
   "execution_count": null,
   "metadata": {},
   "outputs": [],
   "source": [
    "dimport requests\n",
    "import json\n",
    "from bs4 import BeautifulSoup"
   ]
  },
  {
   "cell_type": "code",
   "execution_count": null,
   "metadata": {},
   "outputs": [],
   "source": [
    "news = {\n",
    "    'us' : {\n",
    "        'topic' : ['crime','military','education','terror','immigration','economy','personal-freedoms','fox-news-investigates'],\n",
    "        'api' : ['us/crime','us/military','us/education','us/terror','us/immigration','us/economy','us/personal-freedoms','news-events/fox-news-investigates'],\n",
    "    },\n",
    "    'world' : {\n",
    "        'topic' : ['united-nations','conflicts','terrorism','disasters','global-economy','environment','religion','scandals'],\n",
    "        'api' : ['world/united-nations','world/conflicts','world/terrorism','world/disasters','world/global-economy','world/environment','world/religion','world/scandals']\n",
    "    },\n",
    "    'politics' : {\n",
    "        'topic' : ['executive','senate','house-of-representatives','judiciary','foreign-policy','elections','poll'],\n",
    "        'api' : ['politics/executive','politics/senate','politics/house-of-representatives','politics/judiciary','politics/foreign-policy','politics/elections','columns/fox-news-poll']\n",
    "    },\n",
    "    'entertainment' : {\n",
    "        'topic' : ['celebrity-news','movies','tv','music','style'],\n",
    "        'api' : ['entertainment/celebrity-news','entertainment/movies','entertainment/tv','entertainment/music','entertainment/style'],\n",
    "    },\n",
    "    'lifestyle' : {\n",
    "        'topic' : ['food-drink','auto','travel','real-estate','fitness-and-wellbeing','style-and-beauty'],\n",
    "        'api' : ['food-drink','auto','travel','real-estate','fitness-and-wellbeing','style-and-beauty'],\n",
    "    },\n",
    "    'science' : {\n",
    "        'topic' : ['archaeology','air-and-space','planet-earth','wild-nature','natural-science'],\n",
    "        'api' : ['science/archaeology','science/air-and-space','science/planet-earth','science/wild-nature','science/natural-science'],\n",
    "    },\n",
    "    'tech' : {\n",
    "        'topic' : ['security','innovation','drones','computers','video-games','topics'],\n",
    "        'api' : ['topics/security','topics/innovation','technologies/drones','topics/computers','topics/video-games','topics'],\n",
    "    },\n",
    "    'health' : {\n",
    "        'topic' : ['healthy-living','medical-research','mental-health','cancer','heart-health','healthy-living/childrens-health'],\n",
    "        'api' : ['health/healthy-living','health/medical-research','health/mental-health','health/cancer','health/heart-health','health/healthy-living/childrens-health'],\n",
    "    },\n",
    "}"
   ]
  },
  {
   "cell_type": "code",
   "execution_count": null,
   "metadata": {},
   "outputs": [],
   "source": [
    "# get article url\n",
    "def get_url(url):\n",
    "    urls = []\n",
    "    url_fox = 'https://www.foxnews.com' \n",
    "    for num in range(0,10000,100):\n",
    "        response = requests.get(url).text\n",
    "        json_response = json.loads(response)\n",
    "\n",
    "        for result in json_response:\n",
    "            if 'https' not in result['url']:\n",
    "                urls.append(url_fox+result['url'])\n",
    "    return urls"
   ]
  },
  {
   "cell_type": "code",
   "execution_count": null,
   "metadata": {},
   "outputs": [],
   "source": [
    "# get article content\n",
    "def get_content(url):\n",
    "    content = ''\n",
    "    response = requests.get(url).text\n",
    "    soup = BeautifulSoup(response, 'html.parser')\n",
    "    crawl = soup.select('.article-body p')\n",
    "    for line in crawl:\n",
    "        content += line.text.strip()\n",
    "    return content"
   ]
  },
  {
   "cell_type": "code",
   "execution_count": null,
   "metadata": {},
   "outputs": [],
   "source": [
    "file = open('fox_news.csv','w', encoding = 'utf-8')\n",
    "url = 'https://www.foxnews.com/api/article-search?isCategory=false&isTag=true&isKeyword=false&isFixed=false&isFeedUrl=false&searchSelected=fox-news/'\n",
    "url_ls = []\n",
    "\n",
    "for category in news:\n",
    "    print(category)\n",
    "    for topic,api in zip(news[category]['topic'], news[category]['api']):\n",
    "        url_api = url + api + '&size=100&offset='\n",
    "        url_ls = get_url(url_api)\n",
    "\n",
    "        for article in url_ls:\n",
    "            content = get_content(article)\n",
    "            file.write('\"{0}\",\"{1}\",\"{2}\"\\n'.format(category,topic,content))\n",
    "file.close()"
   ]
  },
  {
   "cell_type": "code",
   "execution_count": null,
   "metadata": {},
   "outputs": [],
   "source": [
    "f = open('./fox_news.csv','r',encoding='utf-8')\n",
    "line = f.read()\n",
    "f.close()"
   ]
  }
 ],
 "metadata": {
  "kernelspec": {
   "display_name": "Python 3",
   "language": "python",
   "name": "python3"
  },
  "language_info": {
   "codemirror_mode": {
    "name": "ipython",
    "version": 3
   },
   "file_extension": ".py",
   "mimetype": "text/x-python",
   "name": "python",
   "nbconvert_exporter": "python",
   "pygments_lexer": "ipython3",
   "version": "3.6.7"
  }
 },
 "nbformat": 4,
 "nbformat_minor": 2
}
