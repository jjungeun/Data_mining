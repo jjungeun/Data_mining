{
 "cells": [
  {
   "cell_type": "code",
   "execution_count": null,
   "metadata": {},
   "outputs": [],
   "source": [
    "import requests\n",
    "from bs4 import BeautifulSoup\n",
    "import json"
   ]
  },
  {
   "cell_type": "code",
   "execution_count": null,
   "metadata": {},
   "outputs": [],
   "source": [
    "# get article url\n",
    "def get_url(url):\n",
    "    urls = []\n",
    "    for num in range(0,10000,100):\n",
    "        response = requests.get(url + str(num)).text\n",
    "        json_response = json.loads(response)\n",
    "        \n",
    "        for result in json_response['data']['articles']:\n",
    "            if 'canonical_url' in result:\n",
    "                urls.append(result['canonical_url'])\n",
    "    return urls"
   ]
  },
  {
   "cell_type": "code",
   "execution_count": null,
   "metadata": {},
   "outputs": [],
   "source": [
    "# get article content\n",
    "def get_content(url):\n",
    "    content = ''\n",
    "    response = requests.get('https://'+url).text\n",
    "    soup = BeautifulSoup(response, 'html.parser')\n",
    "    crawl = soup.select('.article-text p')\n",
    "    for line in crawl:\n",
    "        content += line.text.strip()\n",
    "    return content"
   ]
  },
  {
   "cell_type": "code",
   "execution_count": null,
   "metadata": {},
   "outputs": [],
   "source": [
    "file = open('fox_news_business.csv','w',encoding = 'utf-8')"
   ]
  },
  {
   "cell_type": "code",
   "execution_count": null,
   "metadata": {},
   "outputs": [],
   "source": [
    "url_api = 'https://fb-api.foxbusiness.com/cm/prod/article-delivery?searchBy=tags&size=100'\n",
    "category = 'business'\n",
    "topics = ['financials','retail','energy','industrials','personal-finance','small-business','technology','luxury','business-leaders','politics']\n",
    "\n",
    "for topic in topics:\n",
    "    url = url_api + '&values=' + topic + '&from='\n",
    "    url_ls = get_url(url)\n",
    "    \n",
    "    for article in url_ls:\n",
    "        content = get_content(article)\n",
    "        file.write('\"{0}\",\"{1}\",\"{2}\"\\n'.format(category,topic,content))"
   ]
  },
  {
   "cell_type": "code",
   "execution_count": null,
   "metadata": {},
   "outputs": [],
   "source": [
    "file.close()"
   ]
  }
 ],
 "metadata": {
  "kernelspec": {
   "display_name": "Python 3",
   "language": "python",
   "name": "python3"
  },
  "language_info": {
   "codemirror_mode": {
    "name": "ipython",
    "version": 3
   },
   "file_extension": ".py",
   "mimetype": "text/x-python",
   "name": "python",
   "nbconvert_exporter": "python",
   "pygments_lexer": "ipython3",
   "version": "3.6.5"
  }
 },
 "nbformat": 4,
 "nbformat_minor": 2
}
