{
 "cells": [
  {
   "cell_type": "code",
   "execution_count": 1,
   "metadata": {},
   "outputs": [],
   "source": [
    "import requests\n",
    "import json\n",
    "from bs4 import BeautifulSoup"
   ]
  },
  {
   "cell_type": "code",
   "execution_count": null,
   "metadata": {},
   "outputs": [],
   "source": [
    "news = {\n",
    "    'politics' : {\n",
    "        'topic' : ['federal','nsw','victoria','queensland','act'],\n",
    "        'api' : ['federal','nsw','victoria','queensland','act'],\n",
    "    },\n",
    "    'business' : {\n",
    "        'topic' : ['economy','market','finance','small-business','consumer','workplace'],\n",
    "        'api' : ['the-economy','markets','banking-and-finance','small-business','consumer-affairs','workplace'],\n",
    "    },\n",
    "    'sport' : {\n",
    "        'topic' : ['soccer','cricket','racing','motorsport','netball','cycling','tennis','basketball',\n",
    "                   'golf','athletics','swimming','boxing','sailing'],\n",
    "        'api' : ['soccer','cricket','racing','motorsport','netball','cycling','tennis','basketball',\n",
    "                   'golf','athletics','swimming','boxing','sailing'],\n",
    "    },\n",
    "    'entertainment' : {\n",
    "        'topic' : ['movies','tv-radio','music','celebrity','book','comedy','dance','musical','opera','theatre','art'],\n",
    "        'api' : ['movies','tv-and-radio','music','celebrity','books','comedy','dance','musicals','opera','theatre','art-and-design'],\n",
    "    },\n",
    "    'lifestyle' : {\n",
    "        'topic' : ['life','health','fashion','beauty'],\n",
    "        'api' : ['life-and-relationships','health-and-wellness','fashion','beauty'],\n",
    "    },\n",
    "    'money' : {\n",
    "        'topic' : ['retirement','investing','banking','borrowing','saving','tax','planning','insurance'],\n",
    "        'api' : ['super-and-retirement','investing','banking','borrowing','saving','tax','planning-and-budgeting','insurance'],\n",
    "    },\n",
    "    'environment' : {\n",
    "        'topic' : ['conservation','climate-change','sustainability','weather'],\n",
    "        'api' : ['conservation','climate-change','sustainability','weather'],\n",
    "    },\n",
    "    'technology' : {\n",
    "        'topic' : ['game','tech','phone','gadget'],\n",
    "        'api' : ['video-games','home-tech','phones','gadgets'],\n",
    "    },\n",
    "}"
   ]
  },
  {
   "cell_type": "code",
   "execution_count": null,
   "metadata": {},
   "outputs": [],
   "source": [
    "# get article url\n",
    "def get_url(url):\n",
    "    urls = []\n",
    "#     for num in range(1,10000,87):\n",
    "    response = requests.get(url+str(num)).text\n",
    "    json_response = json.loads(response)\n",
    "\n",
    "    for result in json_response['promotedContent']['contentPositions']:\n",
    "        if 'uri' in result:\n",
    "            urls.append(result['uri'])\n",
    "    return urls"
   ]
  },
  {
   "cell_type": "code",
   "execution_count": null,
   "metadata": {},
   "outputs": [],
   "source": [
    "# get article content\n",
    "def get_content(url):\n",
    "    content = ''\n",
    "    response = requests.get(url).text\n",
    "    soup = BeautifulSoup(response, 'html.parser')\n",
    "    crawl = soup.select('div[\"_ngcontent-c14\"] p')\n",
    "    \n",
    "    for line in crawl:\n",
    "        content += line.text.strip()\n",
    "    return content"
   ]
  },
  {
   "cell_type": "code",
   "execution_count": null,
   "metadata": {},
   "outputs": [],
   "source": []
  },
  {
   "cell_type": "code",
   "execution_count": null,
   "metadata": {},
   "outputs": [],
   "source": []
  },
  {
   "cell_type": "code",
   "execution_count": null,
   "metadata": {},
   "outputs": [],
   "source": []
  },
  {
   "cell_type": "code",
   "execution_count": null,
   "metadata": {},
   "outputs": [],
   "source": []
  }
 ],
 "metadata": {
  "kernelspec": {
   "display_name": "Python 3",
   "language": "python",
   "name": "python3"
  },
  "language_info": {
   "codemirror_mode": {
    "name": "ipython",
    "version": 3
   },
   "file_extension": ".py",
   "mimetype": "text/x-python",
   "name": "python",
   "nbconvert_exporter": "python",
   "pygments_lexer": "ipython3",
   "version": "3.6.5"
  }
 },
 "nbformat": 4,
 "nbformat_minor": 2
}
