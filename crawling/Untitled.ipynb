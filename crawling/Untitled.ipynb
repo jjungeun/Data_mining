{
 "cells": [
  {
   "cell_type": "code",
   "execution_count": null,
   "metadata": {},
   "outputs": [],
   "source": [
    "import requests\n",
    "import json\n",
    "from bs4 import BeautifulSoup\n",
    "import urllib.request\n",
    "import base64\n",
    "import os\n",
    "from tika import parser\n",
    "import PyPDF2"
   ]
  },
  {
   "cell_type": "markdown",
   "metadata": {},
   "source": [
    "### parameter\n",
    "- seviceKey : id\n",
    "- target : admrul\n",
    "- query : 검색어(default: * \\)\n",
    "- numOfRows : 한 페이지 결과수\n",
    "- pageNo : 페이지 번호"
   ]
  },
  {
   "cell_type": "code",
   "execution_count": null,
   "metadata": {},
   "outputs": [],
   "source": [
    "ServiceKey ='qHBjb9yik8lx%2B3bJ3tLeWux4VlZOlRcSe0otBb3Yh4T5c24Yia5vI6e%2BVFFUYHRwWl8FgTAvgRJjWf9XiIlpQg%3D%3D'"
   ]
  },
  {
   "cell_type": "code",
   "execution_count": null,
   "metadata": {},
   "outputs": [],
   "source": [
    "url = 'http://apis.data.go.kr/1170000/law/admrulSearchList.do?'\n",
    "url += 'serviceKey=' + ServiceKey + '&query=*&target=admrul&numOfRows=10&pageNo=5'"
   ]
  },
  {
   "cell_type": "code",
   "execution_count": null,
   "metadata": {},
   "outputs": [],
   "source": [
    "res = requests.get(url).text"
   ]
  },
  {
   "cell_type": "code",
   "execution_count": null,
   "metadata": {},
   "outputs": [],
   "source": [
    "soup = BeautifulSoup(res,'html.parser')"
   ]
  },
  {
   "cell_type": "code",
   "execution_count": null,
   "metadata": {},
   "outputs": [],
   "source": [
    "crawl_ls = soup.select('admrul')\n",
    "id_ls = []\n",
    "for crawl in crawl_ls:\n",
    "    crawl = str(crawl)\n",
    "    \n",
    "    start = crawl.index('ID=')\n",
    "    crawl = crawl[start+3:]\n",
    "    end = crawl.index('&')\n",
    "    crawl = crawl[:end]\n",
    "\n",
    "    id_ls.append(crawl)"
   ]
  },
  {
   "cell_type": "code",
   "execution_count": null,
   "metadata": {},
   "outputs": [],
   "source": [
    "params = {}\n",
    "url_detail = 'http://www.law.go.kr/LSW/admRulAttFlList.do' \n",
    "file_ls = []\n",
    "for admid in id_ls:\n",
    "    file_info = []\n",
    "    params.update({'admRulSeq':admid})\n",
    "    res = requests.post(url_detail, data=params).text\n",
    "    soup = BeautifulSoup(res,'html.parser')\n",
    "    files = soup.select('ul li a')\n",
    "    for file in files:\n",
    "        file_info.append([file['href'],file.text])\n",
    "    file_ls.append(file_info)"
   ]
  },
  {
   "cell_type": "code",
   "execution_count": null,
   "metadata": {},
   "outputs": [],
   "source": [
    "def download(url, filename):\n",
    "    if os.path.exists('out.pdf') is False:\n",
    "        with open('out.pdf',\"wb\") as file:\n",
    "            res = requests.get(url)\n",
    "            file.write(res.content)\n",
    "    \n",
    "#     pdf = PyPDF2.PdfFileReader(open('out.pdf','rb'))\n",
    "#     page = pdf.getNumPages()\n",
    "#     with open('a.txt','wb') as output:\n",
    "#         for i in range(page):\n",
    "#             page = pdf.getPage(i)\n",
    "#             print(page.extractText())\n",
    "#             output.write(page.extractText().encode('utf-8'))\n",
    "#             if i == 10:\n",
    "#                 break\n",
    "    with open(\"a.txt\",\"w\",encoding='utf-8') as fileOut:\n",
    "        parsed = parser.from_file('out.pdf')\n",
    "        fileOut.write(parsed['content'])"
   ]
  },
  {
   "cell_type": "code",
   "execution_count": null,
   "metadata": {},
   "outputs": [],
   "source": [
    "url_file = 'http://www.law.go.kr/LSW/'\n",
    "for files in file_ls:\n",
    "    for file in files:\n",
    "        if 'pdf' in file[1]:\n",
    "            print(url_file+file[0])\n",
    "            print(file[1])\n",
    "            download(url_file+file[0],file[1])\n",
    "            \n",
    "#         de_buf = base64.b64decode(buf).decode('utf-8')\n",
    "#         print(base64.b64encode(de_buf.encode('utf-8')))\n",
    "#         res = requests.get(url_file+file[0], stream=True)\n",
    "#         with open('~/Downloads/'+file[1], 'r') as f:\n",
    "#           f.read() \n",
    "    print('\\n')"
   ]
  },
  {
   "cell_type": "code",
   "execution_count": null,
   "metadata": {
    "scrolled": true
   },
   "outputs": [],
   "source": []
  },
  {
   "cell_type": "code",
   "execution_count": null,
   "metadata": {},
   "outputs": [],
   "source": []
  }
 ],
 "metadata": {
  "kernelspec": {
   "display_name": "Python 3",
   "language": "python",
   "name": "python3"
  },
  "language_info": {
   "codemirror_mode": {
    "name": "ipython",
    "version": 3
   },
   "file_extension": ".py",
   "mimetype": "text/x-python",
   "name": "python",
   "nbconvert_exporter": "python",
   "pygments_lexer": "ipython3",
   "version": "3.7.3"
  }
 },
 "nbformat": 4,
 "nbformat_minor": 2
}
