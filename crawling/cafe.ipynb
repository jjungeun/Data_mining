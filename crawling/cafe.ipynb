{
 "cells": [
  {
   "cell_type": "code",
   "execution_count": null,
   "metadata": {},
   "outputs": [],
   "source": [
    "import requests\n",
    "import json\n",
    "from bs4 import BeautifulSoup\n",
    "from urllib import parse"
   ]
  },
  {
   "cell_type": "markdown",
   "metadata": {},
   "source": [
    "쿠키 다시 보기"
   ]
  },
  {
   "cell_type": "code",
   "execution_count": null,
   "metadata": {},
   "outputs": [],
   "source": [
    "keyword = '패스트캠퍼스'"
   ]
  },
  {
   "cell_type": "code",
   "execution_count": null,
   "metadata": {},
   "outputs": [],
   "source": [
    "# url_ref = 'https://section.cafe.naver.com/'\n",
    "url_host = 'section.cafe.naver.com'\n",
    "url_ref = 'https://section.cafe.naver.com/cafe-home/search/articles?query=' + parse.quote(keyword)"
   ]
  },
  {
   "cell_type": "code",
   "execution_count": null,
   "metadata": {},
   "outputs": [],
   "source": [
    "url_cafe = 'https://section.cafe.naver.com/cafe-home-api/v1/search/articles'"
   ]
  },
  {
   "cell_type": "code",
   "execution_count": null,
   "metadata": {},
   "outputs": [],
   "source": [
    "payload = {\n",
    "    'query' : keyword,\n",
    "}"
   ]
  },
  {
   "cell_type": "code",
   "execution_count": null,
   "metadata": {},
   "outputs": [],
   "source": [
    "headers = {\n",
    "    'Referer' : url_ref,\n",
    "    'User-Agent' : 'Mozilla/5.0 (Windows NT 10.0; Win64; x64) AppleWebKit/537.36 (KHTML, like Gecko) Chrome/75.0.3770.100 Safari/537.36',\n",
    "}"
   ]
  },
  {
   "cell_type": "code",
   "execution_count": null,
   "metadata": {},
   "outputs": [],
   "source": [
    "def get_url(page):\n",
    "    urls = []\n",
    "    payload.update({'page': page})\n",
    "    res = requests.post(url_cafe,json = payload).text\n",
    "    json_res = json.loads(res)['message']['result']['searchResultArticle']['searchResult']\n",
    "    for result in json_res:\n",
    "        urls.append(result['linkUrl'])\n",
    "    \n",
    "    return urls"
   ]
  },
  {
   "cell_type": "code",
   "execution_count": null,
   "metadata": {},
   "outputs": [],
   "source": [
    "def set_session(session):\n",
    "    url_sess = 'https://section.cafe.naver.com/cafe-home/search/combinations?query='+parse.quote(keyword)\n",
    "    res = session.get(url_sess)\n",
    "    cookie = res.headers['Set-Cookie']\n",
    "    headers.update({'Cookie':cookie})\n",
    "    session.headers.update(headers)\n",
    "    return session"
   ]
  },
  {
   "cell_type": "code",
   "execution_count": null,
   "metadata": {},
   "outputs": [],
   "source": [
    "def get_content(url_ls,session):\n",
    "    content_ls = []\n",
    "    for url in url_ls:\n",
    "        content = ''\n",
    "        res = session.get(url).text\n",
    "        print(res)\n",
    "        break\n",
    "    return content_ls"
   ]
  },
  {
   "cell_type": "code",
   "execution_count": null,
   "metadata": {},
   "outputs": [],
   "source": [
    "url_ls = []\n",
    "con = []\n",
    "with requests.Session() as session:\n",
    "    session = set_session(session)\n",
    "    for page in range(1,5):\n",
    "        url_ls = get_url(page)\n",
    "        session.headers.update(headers)\n",
    "        con = get_content(url_ls,session)\n",
    "        break"
   ]
  },
  {
   "cell_type": "code",
   "execution_count": null,
   "metadata": {},
   "outputs": [],
   "source": [
    "con"
   ]
  },
  {
   "cell_type": "code",
   "execution_count": null,
   "metadata": {},
   "outputs": [],
   "source": []
  }
 ],
 "metadata": {
  "kernelspec": {
   "display_name": "Python 3",
   "language": "python",
   "name": "python3"
  },
  "language_info": {
   "codemirror_mode": {
    "name": "ipython",
    "version": 3
   },
   "file_extension": ".py",
   "mimetype": "text/x-python",
   "name": "python",
   "nbconvert_exporter": "python",
   "pygments_lexer": "ipython3",
   "version": "3.6.5"
  }
 },
 "nbformat": 4,
 "nbformat_minor": 2
}
