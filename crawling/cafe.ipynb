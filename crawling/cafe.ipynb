{
 "cells": [
  {
   "cell_type": "code",
   "execution_count": 1,
   "metadata": {},
   "outputs": [],
   "source": [
    "import requests\n",
    "import json\n",
    "from bs4 import BeautifulSoup\n",
    "from urllib import parse"
   ]
  },
  {
   "cell_type": "code",
   "execution_count": 2,
   "metadata": {},
   "outputs": [],
   "source": [
    "keyword = '패스트캠퍼스'"
   ]
  },
  {
   "cell_type": "code",
   "execution_count": 3,
   "metadata": {},
   "outputs": [],
   "source": [
    "url_ref = 'https://section.cafe.naver.com/cafe-home/search/articles?query=' + parse.quote(keyword)"
   ]
  },
  {
   "cell_type": "code",
   "execution_count": 4,
   "metadata": {},
   "outputs": [],
   "source": [
    "url_cafe = 'https://section.cafe.naver.com/cafe-home-api/v1/search/articles'"
   ]
  },
  {
   "cell_type": "code",
   "execution_count": 5,
   "metadata": {},
   "outputs": [],
   "source": [
    "payload = {\n",
    "    'query' : keyword,\n",
    "}"
   ]
  },
  {
   "cell_type": "code",
   "execution_count": 6,
   "metadata": {},
   "outputs": [],
   "source": [
    "headers = {\n",
    "    'user-agent' : 'Mozilla/5.0 (Windows NT 10.0; Win64; x64) AppleWebKit/537.36 (KHTML, like Gecko) Chrome/75.0.3770.100 Safari/537.36',\n",
    "    'upgrade-insecure-requests' : '1',\n",
    "}"
   ]
  },
  {
   "cell_type": "code",
   "execution_count": 7,
   "metadata": {},
   "outputs": [],
   "source": [
    "def get_url(page):\n",
    "    results = []\n",
    "    payload.update({'page': page})\n",
    "    res = requests.post(url_cafe,json = payload)\n",
    "    json_res = json.loads(res.text)['message']['result']['searchResultArticle']['searchResult']\n",
    "    for result in json_res:\n",
    "        results.append(result)\n",
    "\n",
    "    return results"
   ]
  },
  {
   "cell_type": "code",
   "execution_count": 10,
   "metadata": {},
   "outputs": [],
   "source": [
    "def get_content(result_ls):\n",
    "    content_ls = []\n",
    "    url = 'https://cafe.naver.com/ArticleRead.nhn?'\n",
    "    for result in result_ls:\n",
    "        content = ''\n",
    "        headers.update({'referer':result['linkUrl']})\n",
    "        url += 'clubid=' + str(result['clubid'])\n",
    "        url += '&articleid=' + str(result['articleid'])\n",
    "        url += '&tc=' + 'naver_search'\n",
    "        url += '&where=' + 'main'\n",
    "        \n",
    "        print(headers)\n",
    "        res = requests.get(url,headers=headers).text\n",
    "#         print(res)\n",
    "        \n",
    "    return content_ls"
   ]
  },
  {
   "cell_type": "code",
   "execution_count": 11,
   "metadata": {},
   "outputs": [
    {
     "name": "stdout",
     "output_type": "stream",
     "text": [
      "{'user-agent': 'Mozilla/5.0 (Windows NT 10.0; Win64; x64) AppleWebKit/537.36 (KHTML, like Gecko) Chrome/75.0.3770.100 Safari/537.36', 'upgrade-insecure-requests': '1', 'referer': 'https://cafe.naver.com/sineugene/1690'}\n",
      "{'user-agent': 'Mozilla/5.0 (Windows NT 10.0; Win64; x64) AppleWebKit/537.36 (KHTML, like Gecko) Chrome/75.0.3770.100 Safari/537.36', 'upgrade-insecure-requests': '1', 'referer': 'https://cafe.naver.com/unityhub/88414'}\n",
      "{'user-agent': 'Mozilla/5.0 (Windows NT 10.0; Win64; x64) AppleWebKit/537.36 (KHTML, like Gecko) Chrome/75.0.3770.100 Safari/537.36', 'upgrade-insecure-requests': '1', 'referer': 'https://cafe.naver.com/workee/463597'}\n",
      "{'user-agent': 'Mozilla/5.0 (Windows NT 10.0; Win64; x64) AppleWebKit/537.36 (KHTML, like Gecko) Chrome/75.0.3770.100 Safari/537.36', 'upgrade-insecure-requests': '1', 'referer': 'https://cafe.naver.com/hacosa/243802'}\n",
      "{'user-agent': 'Mozilla/5.0 (Windows NT 10.0; Win64; x64) AppleWebKit/537.36 (KHTML, like Gecko) Chrome/75.0.3770.100 Safari/537.36', 'upgrade-insecure-requests': '1', 'referer': 'https://cafe.naver.com/specup/5768013'}\n",
      "{'user-agent': 'Mozilla/5.0 (Windows NT 10.0; Win64; x64) AppleWebKit/537.36 (KHTML, like Gecko) Chrome/75.0.3770.100 Safari/537.36', 'upgrade-insecure-requests': '1', 'referer': 'https://cafe.naver.com/specup/5850482'}\n",
      "{'user-agent': 'Mozilla/5.0 (Windows NT 10.0; Win64; x64) AppleWebKit/537.36 (KHTML, like Gecko) Chrome/75.0.3770.100 Safari/537.36', 'upgrade-insecure-requests': '1', 'referer': 'https://cafe.naver.com/cgbrother/624'}\n",
      "{'user-agent': 'Mozilla/5.0 (Windows NT 10.0; Win64; x64) AppleWebKit/537.36 (KHTML, like Gecko) Chrome/75.0.3770.100 Safari/537.36', 'upgrade-insecure-requests': '1', 'referer': 'https://cafe.naver.com/joonggonara/587123349'}\n",
      "{'user-agent': 'Mozilla/5.0 (Windows NT 10.0; Win64; x64) AppleWebKit/537.36 (KHTML, like Gecko) Chrome/75.0.3770.100 Safari/537.36', 'upgrade-insecure-requests': '1', 'referer': 'https://cafe.naver.com/logosesang/3756703'}\n",
      "{'user-agent': 'Mozilla/5.0 (Windows NT 10.0; Win64; x64) AppleWebKit/537.36 (KHTML, like Gecko) Chrome/75.0.3770.100 Safari/537.36', 'upgrade-insecure-requests': '1', 'referer': 'https://cafe.naver.com/specup/5846834'}\n"
     ]
    }
   ],
   "source": [
    "result_ls = []\n",
    "con = []\n",
    "for page in range(1,5):\n",
    "    result_ls = get_url(page)\n",
    "    con = get_content(result_ls)\n",
    "    break"
   ]
  },
  {
   "cell_type": "code",
   "execution_count": null,
   "metadata": {},
   "outputs": [],
   "source": []
  }
 ],
 "metadata": {
  "kernelspec": {
   "display_name": "Python 3",
   "language": "python",
   "name": "python3"
  },
  "language_info": {
   "codemirror_mode": {
    "name": "ipython",
    "version": 3
   },
   "file_extension": ".py",
   "mimetype": "text/x-python",
   "name": "python",
   "nbconvert_exporter": "python",
   "pygments_lexer": "ipython3",
   "version": "3.6.8"
  }
 },
 "nbformat": 4,
 "nbformat_minor": 2
}
