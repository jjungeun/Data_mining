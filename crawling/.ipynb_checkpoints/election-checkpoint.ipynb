{
 "cells": [
  {
   "cell_type": "code",
   "execution_count": null,
   "metadata": {},
   "outputs": [],
   "source": [
    "import requests\n",
    "from bs4 import BeautifulSoup\n",
    "import pymysql"
   ]
  },
  {
   "cell_type": "code",
   "execution_count": null,
   "metadata": {},
   "outputs": [],
   "source": [
    "def db_connect():\n",
    "    conn = pymysql.connect(\n",
    "        host='fininsightdevdb.mysql.database.azure.com', \n",
    "        user='election@fininsightdevdb',\n",
    "        port=3306,\n",
    "        password='election',\n",
    "        db='election',\n",
    "        charset='utf8'\n",
    "    )\n",
    "    \n",
    "    return conn"
   ]
  },
  {
   "cell_type": "code",
   "execution_count": null,
   "metadata": {},
   "outputs": [],
   "source": [
    "def db_close(conn):\n",
    "    conn.close()"
   ]
  },
  {
   "cell_type": "code",
   "execution_count": null,
   "metadata": {},
   "outputs": [],
   "source": [
    "def get_urls():\n",
    "    url = 'https://ko.wikipedia.org/wiki/%EB%8C%80%ED%95%9C%EB%AF%BC%EA%B5%AD%EC%9D%98_%EA%B5%AD%ED%9A%8C%EC%9D%98%EC%9B%90_%EC%84%A0%EA%B1%B0'\n",
    "    area_url = []\n",
    "    \n",
    "    res = requests.get(url).text\n",
    "    soup = BeautifulSoup(res,'html.parser')\n",
    "    crawls = soup.select('table[class=\"nowraplinks collapsible autocollapse navbox-inner\"] tbody')[6]\n",
    "    crawls = crawls.select('tr')[7]\n",
    "    \n",
    "    for crawl in crawls.select('li a'):\n",
    "        area_url.append('https://ko.wikipedia.org'+crawl.get('href'))\n",
    "    \n",
    "    return area_url"
   ]
  },
  {
   "cell_type": "code",
   "execution_count": null,
   "metadata": {},
   "outputs": [],
   "source": [
    "def get_area(area_url):\n",
    "    stopword = ['선거통계', '선거구별 결과', '지역구', '비례대표']\n",
    "    area_ls = []\n",
    "    for url in area_url:\n",
    "        res = requests.get(url).text\n",
    "        soup = BeautifulSoup(res,'html.parser')\n",
    "        crawl = soup.select('h3 span[class=\"mw-headline\"]')\n",
    "        for area in crawl:\n",
    "            if area.text not in stopword:\n",
    "                area_ls.append(\"('\"+area.text+\"')\")\n",
    "    \n",
    "    return area_ls"
   ]
  },
  {
   "cell_type": "code",
   "execution_count": null,
   "metadata": {},
   "outputs": [],
   "source": [
    "# conn = db_connect()\n",
    "area_url = get_urls()\n",
    "area_ls = get_area(area_url)\n",
    "# db_close(conn)"
   ]
  },
  {
   "cell_type": "code",
   "execution_count": null,
   "metadata": {},
   "outputs": [],
   "source": [
    "sql = \"insert into area (aname) values \"\n",
    "ls = []\n",
    "for area in area_ls:\n",
    "    print(area)\n"
   ]
  },
  {
   "cell_type": "code",
   "execution_count": null,
   "metadata": {},
   "outputs": [],
   "source": []
  }
 ],
 "metadata": {
  "kernelspec": {
   "display_name": "Python 3",
   "language": "python",
   "name": "python3"
  },
  "language_info": {
   "codemirror_mode": {
    "name": "ipython",
    "version": 3
   },
   "file_extension": ".py",
   "mimetype": "text/x-python",
   "name": "python",
   "nbconvert_exporter": "python",
   "pygments_lexer": "ipython3",
   "version": "3.6.8"
  }
 },
 "nbformat": 4,
 "nbformat_minor": 2
}
