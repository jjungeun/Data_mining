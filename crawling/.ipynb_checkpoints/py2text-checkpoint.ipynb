{
 "cells": [
  {
   "cell_type": "code",
   "execution_count": null,
   "metadata": {},
   "outputs": [],
   "source": [
    "import requests\n",
    "import json\n",
    "from bs4 import BeautifulSoup\n",
    "import urllib.request\n",
    "import base64"
   ]
  },
  {
   "cell_type": "code",
   "execution_count": null,
   "metadata": {
    "scrolled": true
   },
   "outputs": [],
   "source": [
    "import os\n",
    "import olefile\n",
    "import zlib\n",
    "# from hwp5 import hwp5txt"
   ]
  },
  {
   "cell_type": "markdown",
   "metadata": {},
   "source": [
    "### ```pip install olefile``` \n",
    "olefile 모듈 다운받기\n",
    "(hwp to text)"
   ]
  },
  {
   "cell_type": "markdown",
   "metadata": {},
   "source": [
    "### parameter\n",
    "- seviceKey : id\n",
    "- target : admrul\n",
    "- query : 검색어(default: * \\)\n",
    "- numOfRows : 한 페이지 결과수\n",
    "- pageNo : 페이지 번호"
   ]
  },
  {
   "cell_type": "markdown",
   "metadata": {},
   "source": [
    "공공데이터 포털API로 행정규칙 id리스트를 얻기 위해 ServiceKey 발급\n",
    "(https://www.data.go.kr/subMain.jsp?param=T1BFTkFQSUAxNTAwMDExNQ==#/L3B1YnIvcG90L215cC9Jcm9zTXlQYWdlL29wZW5EZXZHdWlkZVBhZ2UkQF4wMTJtMSRAXnB1YmxpY0RhdGFQaz0xNTAwMDExNSRAXnB1YmxpY0RhdGFEZXRhaWxQaz11ZGRpOjI5ZDBkZjIyLWQxOWItNGY2Ny04Y2YyLWI3ZTM3MDQyZDc3Yl8yMDE4MDUxMTE0MzEkQF5vcHJ0aW5TZXFObz0yMDI4NCRAXm1haW5GbGFnPXRydWU=)"
   ]
  },
  {
   "cell_type": "code",
   "execution_count": null,
   "metadata": {},
   "outputs": [],
   "source": [
    "ServiceKey ='qHBjb9yik8lx%2B3bJ3tLeWux4VlZOlRcSe0otBb3Yh4T5c24Yia5vI6e%2BVFFUYHRwWl8FgTAvgRJjWf9XiIlpQg%3D%3D'"
   ]
  },
  {
   "cell_type": "code",
   "execution_count": null,
   "metadata": {},
   "outputs": [],
   "source": [
    "def get_url(page):\n",
    "    id_ls = []\n",
    "    url = 'http://apis.data.go.kr/1170000/law/admrulSearchList.do?'\n",
    "    url += 'serviceKey=' + ServiceKey + '&query=*&target=admrul&numOfRows=10&pageNo='+ str(page)\n",
    "    \n",
    "    res = requests.get(url).text\n",
    "    soup = BeautifulSoup(res,'html.parser')\n",
    "    crawl_ls = soup.select('admrul')\n",
    "\n",
    "    for crawl in crawl_ls:\n",
    "        crawl = str(crawl)\n",
    "\n",
    "        start = crawl.index('ID=')\n",
    "        crawl = crawl[start+3:]\n",
    "        end = crawl.index('&')\n",
    "        crawl = crawl[:end]\n",
    "\n",
    "        id_ls.append(crawl)\n",
    "    \n",
    "    return id_ls"
   ]
  },
  {
   "cell_type": "code",
   "execution_count": null,
   "metadata": {},
   "outputs": [],
   "source": [
    "def get_file(id_ls):\n",
    "    params = {}\n",
    "    url_detail = 'http://www.law.go.kr/LSW/admRulAttFlList.do' \n",
    "    file_ls = []\n",
    "    for admid in id_ls:\n",
    "        file_info = []\n",
    "        params.update({'admRulSeq':admid})\n",
    "        res = requests.post(url_detail, data=params).text\n",
    "        soup = BeautifulSoup(res,'html.parser')\n",
    "        files = soup.select('ul li a')\n",
    "        for file in files:\n",
    "            file_info.append([file['href'],file.text])\n",
    "        file_ls.append(file_info)\n",
    "    \n",
    "    return file_ls"
   ]
  },
  {
   "cell_type": "code",
   "execution_count": null,
   "metadata": {},
   "outputs": [],
   "source": [
    "def download(url, filename):\n",
    "    if os.path.exists(filename) is False:\n",
    "        with open(filename,\"wb\") as file:\n",
    "            res = requests.get(url)\n",
    "            file.write(res.content)"
   ]
  },
  {
   "cell_type": "code",
   "execution_count": null,
   "metadata": {},
   "outputs": [],
   "source": [
    "def read_pdf_file(pdfFile):\n",
    "    rsrcmgr = PDFResourceManager()\n",
    "    retstr = StringIO()\n",
    "    laparams = LAParams()\n",
    "    device = TextConverter(rsrcmgr, retstr, laparams=laparams)\n",
    "\n",
    "    process_pdf(rsrcmgr, device, pdfFile)\n",
    "    device.close()\n",
    "\n",
    "    content = retstr.getvalue()\n",
    "    retstr.close()\n",
    "    \n",
    "    return content"
   ]
  },
  {
   "cell_type": "code",
   "execution_count": null,
   "metadata": {},
   "outputs": [],
   "source": [
    "def read_hwp_file(hwpFile): \n",
    "    # PrvText부분은 압축되어 있지 않아 바로 보임\n",
    "    with olefile.OleFileIO(hwpFile) as ole:\n",
    "        f = ole.openstream('PrvText')\n",
    "        encoded_text = f.read()\n",
    "        decoded_text = encoded_text.decode('UTF-16')\n",
    "        print(decoded_text)\n",
    "\n",
    "    # 진짜 내용이 들어있는 BOdyText부분 - zlib 압축풀고 decoding\n",
    "    with olefile.OleFileIO(hwpFile) as ole:\n",
    "        print(ole.listdir())\n",
    "        for section in ole.listdir():\n",
    "            if 'BodyText' in section:\n",
    "                f = ole.openstream(section)\n",
    "                encoded_text = f.read()\n",
    "                zobj = zlib.decompressobj(-zlib.MAX_WBITS)\n",
    "                data = zobj.decompress(encoded_text)\n",
    "                print(data)"
   ]
  },
  {
   "cell_type": "code",
   "execution_count": null,
   "metadata": {
    "scrolled": true
   },
   "outputs": [],
   "source": [
    "url_file = 'http://www.law.go.kr/LSW/'\n",
    "for page in range(1,10):\n",
    "    id_ls = get_url(page)\n",
    "    file_ls = get_file(id_ls)\n",
    "    \n",
    "    for files in file_ls:\n",
    "        for file in files:\n",
    "            print(url_file+file[0])\n",
    "            print(file[1])\n",
    "            download(url_file+file[0],file[1])\n",
    "            \n",
    "            if 'hwp' in file[1]:\n",
    "                read_hwp_file(file[1])\n",
    "            elif 'pdf' in file[1]:\n",
    "                pass    # read_pdf_file(file[1])\n",
    "            else:\n",
    "                pass    # xls파일인 경우\n",
    "            \n",
    "        break\n",
    "    break"
   ]
  },
  {
   "cell_type": "code",
   "execution_count": null,
   "metadata": {
    "scrolled": true
   },
   "outputs": [],
   "source": [
    "# pdf_file = urlopen(\"http://pythonscraping.com/pages/warandpeace/chapter1.pdf\")                                 \n",
    "# contents = read_pdf_file(pdf_file)\n",
    "# print(contents)\n",
    "# pdf_file.close()"
   ]
  }
 ],
 "metadata": {
  "kernelspec": {
   "display_name": "Python 3",
   "language": "python",
   "name": "python3"
  },
  "language_info": {
   "codemirror_mode": {
    "name": "ipython",
    "version": 3
   },
   "file_extension": ".py",
   "mimetype": "text/x-python",
   "name": "python",
   "nbconvert_exporter": "python",
   "pygments_lexer": "ipython3",
   "version": "3.7.3"
  }
 },
 "nbformat": 4,
 "nbformat_minor": 2
}
