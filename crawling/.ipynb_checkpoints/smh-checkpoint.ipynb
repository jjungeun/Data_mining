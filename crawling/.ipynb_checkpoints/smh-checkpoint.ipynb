{
 "cells": [
  {
   "cell_type": "code",
   "execution_count": null,
   "metadata": {},
   "outputs": [],
   "source": [
    "import requests\n",
    "import json\n",
    "from bs4 import BeautifulSoup\n",
    "import base64"
   ]
  },
  {
   "cell_type": "code",
   "execution_count": null,
   "metadata": {},
   "outputs": [],
   "source": [
    "news = {\n",
    "    'politics' : {\n",
    "        'topic' : ['federal','nsw','victoria','queensland','act'],\n",
    "        'api' : ['federal','nsw','victoria','queensland','act'],\n",
    "    },\n",
    "    'business' : {\n",
    "        'topic' : ['economy','market','company','finance','small-business','consumer','workplace'],\n",
    "        'api' : ['the-economy','markets','companies','banking-and-finance','small-business','consumer-affairs','workplace'],\n",
    "    },\n",
    "    'sport' : {\n",
    "        'topic' : ['soccer','cricket','racing','motorsport','netball','cycling','tennis','basketball',\n",
    "                   'golf','football','athletics','swimming','boxing','sailing'],\n",
    "        'api' : ['soccer','cricket','racing','motorsport','netball','cycling','tennis','basketball',\n",
    "                   'golf','nfl','athletics','swimming','boxing','sailing'],\n",
    "    },\n",
    "    'entertainment' : {\n",
    "        'topic' : ['movies','tv-radio','music','celebrity','book','comedy','dance','musical','opera','theatre','art'],\n",
    "        'api' : ['movies','tv-and-radio','music','celebrity','books','comedy','dance','musicals','opera','theatre','art-and-design'],\n",
    "    },\n",
    "    'lifestyle' : {\n",
    "        'topic' : ['life','health','gender','fashion','beauty'],\n",
    "        'api' : ['life-and-relationships','health-and-wellness','gender','fashion','beauty'],\n",
    "    },\n",
    "    'money' : {\n",
    "        'topic' : ['retirement','investing','banking','borrowing','saving','tax','planning','insurance'],\n",
    "        'api' : ['super-and-retirement','investing','banking','borrowing','saving','tax','planning-and-budgeting','insurance'],\n",
    "    },\n",
    "    'environment' : {\n",
    "        'topic' : ['conservation','climate','sustainability','weather'],\n",
    "        'api' : ['conservation','climate-change','sustainability','weather'],\n",
    "    },\n",
    "    'technology' : {\n",
    "        'topic' : ['game','tech','phone','gadget'],\n",
    "        'api' : ['video-games','home-tech','phones','gadgets'],\n",
    "    },\n",
    "}"
   ]
  },
  {
   "cell_type": "markdown",
   "metadata": {},
   "source": [
    "js처리가 되어 있어서 since 뒷 부분을 base64 to ascii로 decode해서 알아냄.\n",
    "\n",
    "\n",
    "마지막 기사의 id를 since 값으로 넘겨주어야함(\"since\" : \" **Asset:\"id\"** \" 굵은글씨부분을 base64로 encode해야함)"
   ]
  },
  {
   "cell_type": "code",
   "execution_count": null,
   "metadata": {},
   "outputs": [],
   "source": [
    "# get article url\n",
    "def get_url(url):\n",
    "    urls = []\n",
    "    asset = ''\n",
    "    url_smh = 'https://www.smh.com.au'\n",
    "    \n",
    "    for num in range(0,10000):\n",
    "        id = 'Asset:\"'+ asset +'\"'\n",
    "        url_req = url + base64.b64encode(id.encode()).decode('ascii') + '\"}'\n",
    "        \n",
    "        response = requests.get(url_req).text\n",
    "        json_response = json.loads(response)['data']['assetsConnection']\n",
    "\n",
    "        for result in json_response['assets']:\n",
    "            urls.append(url_smh + result['urls']['canonical']['path'])\n",
    "            asset = result['id']\n",
    "    \n",
    "    return urls"
   ]
  },
  {
   "cell_type": "markdown",
   "metadata": {},
   "source": [
    "필요없는 부분을 제외시키기 위해서 div태그의 class명이 noPrint가 있는 부분 위까지로 슬라이싱한다."
   ]
  },
  {
   "cell_type": "code",
   "execution_count": null,
   "metadata": {},
   "outputs": [],
   "source": [
    "# get article content\n",
    "def get_content(url):\n",
    "    content = ''\n",
    "    response = requests.get(url).text\n",
    "    soup = BeautifulSoup(response, 'html.parser')\n",
    "    crawl = soup.select('div[id=\"content\"] article > section')\n",
    "    \n",
    "    for html in crawl:\n",
    "        if html.select('div[class=\"noPrint\"]'):\n",
    "            html = str(html).split('\"noPrint\"')[0]\n",
    "            html = BeautifulSoup(html, 'html.parser')\n",
    "            \n",
    "        for line in html.select('p'):\n",
    "            content += line.text.strip()\n",
    "    \n",
    "    return content"
   ]
  },
  {
   "cell_type": "markdown",
   "metadata": {},
   "source": [
    "한번에 최대 49개까지 요청 가능"
   ]
  },
  {
   "cell_type": "code",
   "execution_count": null,
   "metadata": {},
   "outputs": [],
   "source": [
    "url = 'https://api.ffx.io/graphql?query=query%20CategoryIndexMoreQuery(%20%24brand%3A%20String!%20%24count%3A%20Int!%20%24path%3A%20String!%20%24since%3A%20ID%20%24types%3A%20%5BString!%5D!%20)%20%7B%20assetsConnection%3A%20assetsConnectionByNavigationPath(brand%3A%20%24brand%2C%20path%3A%20%24path%2C%20count%3A%20%24count%2C%20sinceID%3A%20%24since%2C%20types%3A%20%24types)%20%7B%20...AssetsConnectionFragment_showMoreData%20%7D%20%7D%20fragment%20AssetsConnectionFragment_showMoreData%20on%20AssetsConnection%20%7B%20assets%20%7B%20...AssetFragmentFragment_assetDataWithTag%20id%20%7D%20pageInfo%20%7B%20endCursor%20hasNextPage%20%7D%20%7D%20fragment%20AssetFragmentFragment_assetDataWithTag%20on%20Asset%20%7B%20...AssetFragmentFragment_assetData%20tags%20%7B%20primaryTag%20%7B%20...AssetFragment_tagFragment%20%7D%20%7D%20%7D%20fragment%20AssetFragmentFragment_assetData%20on%20Asset%20%7B%20id%20asset%20%7B%20about%20byline%20duration%20headlines%20%7B%20headline%20%7D%20live%20totalImages%20%7D%20label%20urls%20%7B%20canonical%20%7B%20path%20brand%20%7D%20published%20%7B%20brisbanetimes%20%7B%20path%20%7D%20canberratimes%20%7B%20path%20%7D%20smh%20%7B%20path%20%7D%20theage%20%7B%20path%20%7D%20watoday%20%7B%20path%20%7D%20%7D%20%7D%20featuredImages%20%7B%20landscape16x9%20%7B%20...ImageFragment%20%7D%20landscape3x2%20%7B%20...ImageFragment%20%7D%20portrait2x3%20%7B%20...ImageFragment%20%7D%20square1x1%20%7B%20...ImageFragment%20%7D%20%7D%20assetType%20dates%20%7B%20modified%20published%20%7D%20sponsor%20%7B%20name%20%7D%20%7D%20fragment%20AssetFragment_tagFragment%20on%20AssetTagDetails%20%7B%20displayName%20urls%20%7B%20published%20%7B%20brisbanetimes%20%7B%20path%20%7D%20canberratimes%20%7B%20path%20%7D%20smh%20%7B%20path%20%7D%20theage%20%7B%20path%20%7D%20watoday%20%7B%20path%20%7D%20%7D%20%7D%20%7D%20fragment%20ImageFragment%20on%20Image%20%7B%20data%20%7B%20animated%20aspect%20autocrop%20cropWidth%20id%20mimeType%20offsetX%20offsetY%20zoom%20%7D%20%7D%20\\\n",
    "&variables={\"brand\":\"smh\",\"count\":49,\"types\":[\"article\",\"bespoke\",\"featureArticle\",\"liveArticle\",\"video\"],\"path\":\"/'\n",
    "url_ls = []\n",
    "file = open('smh_news.csv','w',encoding = 'utf-8')"
   ]
  },
  {
   "cell_type": "code",
   "execution_count": null,
   "metadata": {},
   "outputs": [],
   "source": [
    "for category in news:\n",
    "    print(category)\n",
    "    for topic,api in zip(news[category]['topic'],news[category]['api']):\n",
    "        url_api = url + category + '/' + topic  + '\",\"since\":\"'\n",
    "        url_ls = get_url(url_api)\n",
    "        \n",
    "        for article in url_ls:\n",
    "            content = get_content(article)\n",
    "            if content is not '':\n",
    "                file.write('\"{0}\",\"{1}\",\"{2}\"\\n'.format(category,topic,content))\n",
    "                \n",
    "file.close()"
   ]
  },
  {
   "cell_type": "code",
   "execution_count": null,
   "metadata": {},
   "outputs": [],
   "source": [
    "f = open('./smh_news.csv','r',encoding='utf-8')\n",
    "line = f.read()\n",
    "print(line)\n",
    "f.close()"
   ]
  }
 ],
 "metadata": {
  "kernelspec": {
   "display_name": "Python 3",
   "language": "python",
   "name": "python3"
  },
  "language_info": {
   "codemirror_mode": {
    "name": "ipython",
    "version": 3
   },
   "file_extension": ".py",
   "mimetype": "text/x-python",
   "name": "python",
   "nbconvert_exporter": "python",
   "pygments_lexer": "ipython3",
   "version": "3.7.3"
  }
 },
 "nbformat": 4,
 "nbformat_minor": 2
}
