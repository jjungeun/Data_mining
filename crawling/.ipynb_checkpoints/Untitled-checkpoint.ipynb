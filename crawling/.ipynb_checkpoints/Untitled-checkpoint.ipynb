{
 "cells": [
  {
   "cell_type": "code",
   "execution_count": 1,
   "metadata": {},
   "outputs": [],
   "source": [
    "import requests\n",
    "import json\n",
    "from bs4 import BeautifulSoup"
   ]
  },
  {
   "cell_type": "markdown",
   "metadata": {},
   "source": [
    "### parameter\n",
    "- seviceKey : id\n",
    "- target : admrul\n",
    "- query : 검색어(default: * \\)\n",
    "- numOfRows : 한 페이지 결과수\n",
    "- pageNo : 페이지 번호"
   ]
  },
  {
   "cell_type": "code",
   "execution_count": 65,
   "metadata": {},
   "outputs": [],
   "source": [
    "ServiceKey ='qHBjb9yik8lx%2B3bJ3tLeWux4VlZOlRcSe0otBb3Yh4T5c24Yia5vI6e%2BVFFUYHRwWl8FgTAvgRJjWf9XiIlpQg%3D%3D'"
   ]
  },
  {
   "cell_type": "code",
   "execution_count": 66,
   "metadata": {},
   "outputs": [],
   "source": [
    "url = 'http://apis.data.go.kr/1170000/law/admrulSearchList.do?'\n",
    "url += 'serviceKey=' + ServiceKey + '&query=*&target=admrul&numOfRows=10&pageNo=1'"
   ]
  },
  {
   "cell_type": "code",
   "execution_count": 67,
   "metadata": {},
   "outputs": [],
   "source": [
    "res = requests.get(url).text"
   ]
  },
  {
   "cell_type": "code",
   "execution_count": 68,
   "metadata": {},
   "outputs": [],
   "source": [
    "soup = BeautifulSoup(res,'html.parser')"
   ]
  },
  {
   "cell_type": "code",
   "execution_count": 70,
   "metadata": {},
   "outputs": [],
   "source": [
    "crawl_ls = soup.select('admrul')\n",
    "id_ls = []\n",
    "for crawl in crawl_ls:\n",
    "    crawl = str(crawl)\n",
    "    \n",
    "    start = crawl.index('ID=')\n",
    "    crawl = crawl[start+3:]\n",
    "    end = crawl.index('&')\n",
    "    crawl = crawl[:end]\n",
    "\n",
    "    id_ls.append(crawl)"
   ]
  },
  {
   "cell_type": "code",
   "execution_count": 77,
   "metadata": {},
   "outputs": [
    {
     "name": "stdout",
     "output_type": "stream",
     "text": [
      "<li style=\"width:auto\"><a href=\"flDownload.do?flSeq=25381477\" target=\"_self\"><b>law0126192016072500671KC_ancb.hwp</b></a></li> \n",
      "\n",
      "<li style=\"width:auto\"><a href=\"flDownload.do?flSeq=19730730\" target=\"_self\"><b>008 [예규] 112종합상황실 운영 및 신고처리 규칙(예규 제496호, 15. 2. 6).hwp</b></a></li> \n",
      "\n",
      "<li style=\"width:auto\"><a href=\"flDownload.do?flSeq=31638226\" target=\"_self\"><b>119생활안전대 편성운영에 관한 규정.hwp</b></a></li> \n",
      "\n",
      "<li style=\"width:auto\"><a href=\"flDownload.do?flSeq=31464340\" target=\"_self\"><b>119 소방 강령 일부개정예규안(개정전문)_소방청예규 제1호(2017.7.26. 개정.시행).hwp</b></a></li> \n",
      "\n",
      "<li style=\"width:auto\"><a href=\"flDownload.do?flSeq=43097410\" target=\"_self\"><b>개정문(119의인의 예우에 관한 규정 일부개정안).hwp</b></a></li> \n",
      "\n",
      "<li style=\"width:auto\"><a href=\"flDownload.do?flSeq=32984594\" target=\"_self\"><b>(전문) 119화학구조센터 근무규정 개정(안).hwp</b></a></li> \n",
      "\n",
      "<li style=\"width:auto\"><a href=\"flDownload.do?flSeq=42460099\" target=\"_self\"><b>(대검예규 제995호)1301검찰콜센터 설치 및 운영에 관한 지침.hwp</b></a></li> \n",
      "\n",
      "<li style=\"width:auto\"><a href=\"flDownload.do?flSeq=42103429\" target=\"_self\"><b>1381 인증표준콜센터 운영규정_최종(훈령 제 153호).hwp</b></a></li> \n",
      "\n",
      "<li style=\"width:auto\"><a href=\"flDownload.do?flSeq=12813720\" target=\"_self\"><b>121121 '182경찰민원콜센터 운영규칙' 전문.hwp</b></a></li> \n",
      "\n",
      "<li style=\"width:auto\"><a href=\"flDownload.do?flSeq=31048397\" target=\"_self\"><b>60.1인 창조기업 지원사업 운영 등에 관한 고시.hwp</b></a></li> \n",
      "\n"
     ]
    }
   ],
   "source": [
    "params = {}\n",
    "url_file = 'http://www.law.go.kr/LSW/admRulAttFlList.do' \n",
    "file_ls = []\n",
    "for admid in id_ls:\n",
    "    params.update({'admRulSeq':admid})\n",
    "    res = requests.post(url_file, data=params).text\n",
    "    soup = BeautifulSoup(res,'html.parser')\n",
    "    files = soup.select('ul li')[1]\n",
    "    print(files,'\\n')"
   ]
  },
  {
   "cell_type": "code",
   "execution_count": 33,
   "metadata": {},
   "outputs": [
    {
     "data": {
      "text/plain": [
       "[['/DRF/lawService.do?OC=sapphire_5&target=admrul&ID=2200000049732&type=HTML',\n",
       "  '2200000049732'],\n",
       " ['/DRF/lawService.do?OC=sapphire_5&target=admrul&ID=2100000015543&type=HTML',\n",
       "  '2100000015543'],\n",
       " ['/DRF/lawService.do?OC=sapphire_5&target=admrul&ID=2100000099706&type=HTML',\n",
       "  '2100000099706'],\n",
       " ['/DRF/lawService.do?OC=sapphire_5&target=admrul&ID=2100000098092&type=HTML',\n",
       "  '2100000098092'],\n",
       " ['/DRF/lawService.do?OC=sapphire_5&target=admrul&ID=2100000179829&type=HTML',\n",
       "  '2100000179829'],\n",
       " ['/DRF/lawService.do?OC=sapphire_5&target=admrul&ID=2100000109511&type=HTML',\n",
       "  '2100000109511'],\n",
       " ['/DRF/lawService.do?OC=sapphire_5&target=admrul&ID=2100000178959&type=HTML',\n",
       "  '2100000178959'],\n",
       " ['/DRF/lawService.do?OC=sapphire_5&target=admrul&ID=2100000178427&type=HTML',\n",
       "  '2100000178427'],\n",
       " ['/DRF/lawService.do?OC=sapphire_5&target=admrul&ID=2000000022140&type=HTML',\n",
       "  '2000000022140'],\n",
       " ['/DRF/lawService.do?OC=sapphire_5&target=admrul&ID=2100000094896&type=HTML',\n",
       "  '2100000094896']]"
      ]
     },
     "execution_count": 33,
     "metadata": {},
     "output_type": "execute_result"
    }
   ],
   "source": [
    "id_ls"
   ]
  },
  {
   "cell_type": "code",
   "execution_count": null,
   "metadata": {},
   "outputs": [],
   "source": []
  }
 ],
 "metadata": {
  "kernelspec": {
   "display_name": "Python 3",
   "language": "python",
   "name": "python3"
  },
  "language_info": {
   "codemirror_mode": {
    "name": "ipython",
    "version": 3
   },
   "file_extension": ".py",
   "mimetype": "text/x-python",
   "name": "python",
   "nbconvert_exporter": "python",
   "pygments_lexer": "ipython3",
   "version": "3.6.5"
  }
 },
 "nbformat": 4,
 "nbformat_minor": 2
}
