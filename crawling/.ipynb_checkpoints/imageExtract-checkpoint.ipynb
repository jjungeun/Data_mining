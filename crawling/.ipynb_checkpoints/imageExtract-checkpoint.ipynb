{
 "cells": [
  {
   "cell_type": "markdown",
   "metadata": {},
   "source": [
    "tesseract 설치 후 환경변수에 경로 추가, 경로를 아래에 명시하기"
   ]
  },
  {
   "cell_type": "code",
   "execution_count": 1,
   "metadata": {},
   "outputs": [],
   "source": [
    "import pytesseract\n",
    "pytesseract.pytesseract.tesseract_cmd = r'C:\\Program Files\\Tesseract-OCR\\tesseract'"
   ]
  },
  {
   "cell_type": "code",
   "execution_count": 2,
   "metadata": {
    "scrolled": true
   },
   "outputs": [
    {
     "name": "stdout",
     "output_type": "stream",
     "text": [
      "원형                          10 0070\n",
      "니트릴 고무\n",
      "(1 = 3 00)\n",
      "경도 : 460\n",
      "(01 6253 4형)\n",
      "60 27952\n",
      "10000\n",
      "오                            니트릴 고무\n",
      "프리즘                                   (6 = 900)\n",
      "아크릴 수지 (5 때 × 5 0ㅠ     =\n",
      "\n",
      " \n",
      "\n",
      "= 2 00)\n",
      "\n",
      "폴리이미드 테이프 두 겹을\n",
      "\n",
      "코일에 붙인다.                       760 279672\n"
     ]
    }
   ],
   "source": [
    "print(pytesseract.image_to_string('testimg.png',lang='kor'))"
   ]
  }
 ],
 "metadata": {
  "kernelspec": {
   "display_name": "Python 3",
   "language": "python",
   "name": "python3"
  },
  "language_info": {
   "codemirror_mode": {
    "name": "ipython",
    "version": 3
   },
   "file_extension": ".py",
   "mimetype": "text/x-python",
   "name": "python",
   "nbconvert_exporter": "python",
   "pygments_lexer": "ipython3",
   "version": "3.7.3"
  }
 },
 "nbformat": 4,
 "nbformat_minor": 2
}
