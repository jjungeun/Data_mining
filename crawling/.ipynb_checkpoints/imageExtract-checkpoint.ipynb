{
 "cells": [
  {
   "cell_type": "code",
   "execution_count": 4,
   "metadata": {},
   "outputs": [
    {
     "name": "stdout",
     "output_type": "stream",
     "text": [
      "ge 10mm\n",
      "yee 27\n",
      "(t = 2 m)\n",
      "7AS > ABO\n",
      "(JISK 6253 A®)\n",
      "lec 2195/12\n",
      "10mm\n",
      "se yee ap\n",
      "28 (t= 2m)\n",
      "ofa 2) (5 mm < 5 mm Ly\n",
      "\n",
      " \n",
      "\n",
      "t = 2 mm)\n",
      "\n",
      "Ez7oysS Pol=z + AS\n",
      "\n",
      "SLA ee}. IEC 2196/12\n"
     ]
    }
   ],
   "source": [
    "import pytesseract\n",
    "pytesseract.pytesseract.tesseract_cmd = r'C:\\Program Files\\Tesseract-OCR\\tesseract'"
   ]
  },
  {
   "cell_type": "code",
   "execution_count": 6,
   "metadata": {
    "scrolled": true
   },
   "outputs": [
    {
     "name": "stdout",
     "output_type": "stream",
     "text": [
      "원형                          10 0070\n",
      "니트릴 고무\n",
      "(1 = 3 00)\n",
      "경도 : 460\n",
      "(01 6253 4형)\n",
      "60 27952\n",
      "10000\n",
      "오                            니트릴 고무\n",
      "프리즘                                   (6 = 900)\n",
      "아크릴 수지 (5 때 × 5 0ㅠ     =\n",
      "\n",
      " \n",
      "\n",
      "= 2 00)\n",
      "\n",
      "폴리이미드 테이프 두 겹을\n",
      "\n",
      "코일에 붙인다.                       760 279672\n"
     ]
    }
   ],
   "source": [
    "print(pytesseract.image_to_string('testimg.png',lang='kor'))"
   ]
  }
 ],
 "metadata": {
  "kernelspec": {
   "display_name": "Python 3",
   "language": "python",
   "name": "python3"
  },
  "language_info": {
   "codemirror_mode": {
    "name": "ipython",
    "version": 3
   },
   "file_extension": ".py",
   "mimetype": "text/x-python",
   "name": "python",
   "nbconvert_exporter": "python",
   "pygments_lexer": "ipython3",
   "version": "3.7.3"
  }
 },
 "nbformat": 4,
 "nbformat_minor": 2
}
