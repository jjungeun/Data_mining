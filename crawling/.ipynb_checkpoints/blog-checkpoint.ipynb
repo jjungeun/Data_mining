{
 "cells": [
  {
   "cell_type": "code",
   "execution_count": 1,
   "metadata": {},
   "outputs": [],
   "source": [
    "import requests\n",
    "import json\n",
    "from bs4 import BeautifulSoup\n",
    "from urllib import parse"
   ]
  },
  {
   "cell_type": "code",
   "execution_count": 2,
   "metadata": {},
   "outputs": [],
   "source": [
    "url_blog = 'https://section.blog.naver.com/BlogHome.nhn'"
   ]
  },
  {
   "cell_type": "code",
   "execution_count": 3,
   "metadata": {},
   "outputs": [],
   "source": [
    "keyword = parse.quote('패스트캠퍼스')"
   ]
  },
  {
   "cell_type": "code",
   "execution_count": 4,
   "metadata": {},
   "outputs": [],
   "source": [
    "headers = {\n",
    "    'referer' : 'https://section.blog.naver.com/BlogHome.nhn?directoryNo=0&currentPage=1&groupId=0'\n",
    "}"
   ]
  },
  {
   "cell_type": "code",
   "execution_count": 5,
   "metadata": {},
   "outputs": [],
   "source": [
    "def get_url(keyword, page):\n",
    "    urls = []\n",
    "    url = 'https://section.blog.naver.com/ajax/SearchList.nhn?countPerPage=7&type=post&orderBy=sim&keyword=' + keyword + '&currentPage=' + str(page)\n",
    "    res = requests.get(url,headers=headers).text\n",
    "    \n",
    "    idx = res.index('{')\n",
    "    json_res = json.loads(res[idx:])\n",
    "    for result in json_res['result']['searchList']:\n",
    "        urls.append(result['postUrl'])\n",
    "    \n",
    "    return urls"
   ]
  },
  {
   "cell_type": "code",
   "execution_count": 6,
   "metadata": {},
   "outputs": [],
   "source": [
    "def get_content(url_ls):\n",
    "    content_ls = []\n",
    "    for url in url_ls:\n",
    "        content = ''\n",
    "        url_base = 'https://blog.naver.com/PostView.nhn?redirect=Dlog&widgetTypeCall=true&directAccess=false&blogId='\n",
    "        user = url.split('/',maxsplit=2)[2]\n",
    "        \n",
    "        if 'blog.me' in url:\n",
    "            url_base += user.split('.')[0] + '&logNo=' + user.split('/')[1]\n",
    "        elif 'co.kr' in url:\n",
    "            url_base += user.split('.')[1] + '&logNo=' + user.split('/')[1]\n",
    "        else:\n",
    "            url_base += user.split('/')[1] + '&logNo=' + user.split('/')[2]\n",
    "        \n",
    "        res = requests.get(url_base).text\n",
    "        soup = BeautifulSoup(res, 'html.parser')\n",
    "        crawl = soup.select('.se-main-container')\n",
    "\n",
    "        for line in crawl:\n",
    "            content += line.text.strip()\n",
    "            \n",
    "        content_ls.append(content)\n",
    "        \n",
    "    return content_ls"
   ]
  },
  {
   "cell_type": "code",
   "execution_count": 7,
   "metadata": {},
   "outputs": [],
   "source": [
    "url_ls = []\n",
    "con = []\n",
    "for page in range(1,10):\n",
    "    url_ls = get_url(keyword,page)\n",
    "    contents = get_content(url_ls)\n",
    "    for con in contents:\n",
    "        con = con.replace('\\n','')\n",
    "        con = con.replace('\\u200b','')\n",
    "#         print(con)\n",
    "    break"
   ]
  },
  {
   "cell_type": "code",
   "execution_count": null,
   "metadata": {},
   "outputs": [],
   "source": []
  },
  {
   "cell_type": "code",
   "execution_count": null,
   "metadata": {},
   "outputs": [],
   "source": []
  }
 ],
 "metadata": {
  "kernelspec": {
   "display_name": "Python 3",
   "language": "python",
   "name": "python3"
  },
  "language_info": {
   "codemirror_mode": {
    "name": "ipython",
    "version": 3
   },
   "file_extension": ".py",
   "mimetype": "text/x-python",
   "name": "python",
   "nbconvert_exporter": "python",
   "pygments_lexer": "ipython3",
   "version": "3.6.5"
  }
 },
 "nbformat": 4,
 "nbformat_minor": 2
}
