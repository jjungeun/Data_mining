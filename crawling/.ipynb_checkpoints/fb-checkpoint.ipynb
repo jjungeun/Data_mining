{
 "cells": [
  {
   "cell_type": "code",
   "execution_count": 1,
   "metadata": {},
   "outputs": [],
   "source": [
    "import requests\n",
    "import json\n",
    "from bs4 import BeautifulSoup\n",
    "import base64\n",
    "import urllib"
   ]
  },
  {
   "cell_type": "code",
   "execution_count": 2,
   "metadata": {},
   "outputs": [],
   "source": [
    "login_form = {\n",
    "    'email' : '821080299729',\n",
    "    'pass' : 'godforever01',\n",
    "}"
   ]
  },
  {
   "cell_type": "markdown",
   "metadata": {},
   "source": [
    "좋아요 : 1,\n",
    "최고에요 : 2,\n",
    "멋져요 : 3,\n",
    "웃겨요 : 4,\n",
    "슬퍼요 : 7,\n",
    "화나요 : 8"
   ]
  },
  {
   "cell_type": "code",
   "execution_count": 3,
   "metadata": {},
   "outputs": [],
   "source": [
    "URL1 = 'https://www.facebook.com/'\n",
    "URL2 = 'https://www.facebook.com/login/device-based/regular/login/?login_attempt=1&lwv=111'\n",
    "URL3 = 'https://www.facebook.com/ajax/pagelet/generic.php/BrowseScrollingSetPagelet?fb_dtsg_ag=AQw3EznKMKwEmrV66Y9qM3Gx0Ra95SWwDjV17NZZBFZe4A%3AAQxAslqxlsLam2UNG_wRXVNb8cZ7lvlbONlc4XXNMlEEJA&__user=100010743251101&__a=1&__dyn=7AgNe-4amaAxd2u6aJGeFxqeCwDKEyGzEy4arWo8ovxGdwIhE98nwgUau3u2lu9xK5WwIKaxeUW3KFUe8HzobrCCx3wCgoDxicxu5od8cEiwBx61zwzU5KEuxm1VDBwm88o99UhKEtxy5UrwFwgElx-bx-2KfwnK59o_Wx28CwKwPG8AhUix62PK6UylxfwzAx2cGcBKm4U-4K2i6ElxS4p8yEnHxC6oOh4Bx3CDKi8wGxm4UGqfwPxecxyEmwAwUzFKcxp2Utwwx-2y8wioowOxG3u36&__req=81&__be=1&__pc=PHASED%3Aufi_home_page_pkg&dpr=1.5&__rev=1000680358&__comet_req=false&jazoest=27863&__spin_r=1000680358&__spin_b=trunk&__spin_t=1557211858&'"
   ]
  },
  {
   "cell_type": "code",
   "execution_count": 4,
   "metadata": {},
   "outputs": [],
   "source": [
    "posts = {\n",
    "    'date' : '',\n",
    "    'writer' : '',\n",
    "    'text' : '',\n",
    "    'emotion' : {},\n",
    "}"
   ]
  },
  {
   "cell_type": "code",
   "execution_count": 5,
   "metadata": {},
   "outputs": [],
   "source": [
    "def encode_query(query):\n",
    "    encode_query = ''\n",
    "    for c in query:\n",
    "        if ord('가') <= ord(c) <= ord('힣'):\n",
    "            b = c.encode('utf-8')\n",
    "            s = bytes(b).hex().upper()\n",
    "            for i,v in enumerate(s):\n",
    "                if i % 2 is 0:\n",
    "                    encode_query += '{}{}'.format('\\\\u0025',v)\n",
    "                else:\n",
    "                    encode_query += v\n",
    "        else:\n",
    "            encode_query += c\n",
    "    \n",
    "    title = '[\"'+encode_query+'\"]'\n",
    "    encode_title = base64.b64encode(title.encode())[:-2].decode('ascii')\n",
    "    return encode_query, encode_title"
   ]
  },
  {
   "cell_type": "code",
   "execution_count": 12,
   "metadata": {},
   "outputs": [],
   "source": [
    "def get_posts(query,title,cursor,page_num, session):\n",
    "    date = []\n",
    "    writer = []\n",
    "    text = []\n",
    "    order = []\n",
    "    js_order = []\n",
    "    emotions = []\n",
    "    page_num += 1\n",
    "    if query != '' and title != '':\n",
    "        URL4 = URL3 + 'data=%7B%22view%22%3A%22list%22%2C%22encoded_query%22%3A%22%7B%5C%22bqf%5C%22%3A%5C%22keywords_blended_posts('+\\\n",
    "            query +')%5C%22%2C%5C%22browse_sid%5C%22%3A%5C%22bf7732b71b8a09949ef18e757b2f78c4%5C%22%2C%5C%22typeahead_sid%5C%22%3Anull%2C%5C%22vertical%5C%22%3A%5C%22content%5C%22%2C%5C%22post_search_vertical%5C%22%3Anull%2C%5C%22intent_data%5C%22%3Anull%2C%5C%22requestParams%5C%22%3A%7B%5C%22filter_config%5C%22%3A%5C%22merged_public_posts_see_more%5C%22%2C%5C%22kw_blender_module_dependency_graph_config%5C%22%3A%5C%22merged_public_posts_see_more%5C%22%2C%5C%22kw_blender_wpr_sizing_config%5C%22%3A%5C%22merged_public_posts_see_more_wpr_sizing%5C%22%2C%5C%22no_override_params%5C%22%3A%5C%22[%5C%5C%5C%22kw_blender_wpr_sizing_config%5C%5C%5C%22]%5C%22%7D%2C%5C%22has_chrono_sort%5C%22%3Afalse%2C%5C%22query_analysis%5C%22%3Anull%2C%5C%22subrequest_disabled%5C%22%3Afalse%2C%5C%22token_role%5C%22%3A%5C%22NONE%5C%22%2C%5C%22preloaded_story_ids%5C%22%3A[]%2C%5C%22extra_data%5C%22%3Anull%2C%5C%22disable_main_browse_unicorn%5C%22%3Afalse%2C%5C%22entry_point_scope%5C%22%3Anull%2C%5C%22entry_point_surface%5C%22%3Anull%2C%5C%22entry_point_action%5C%22%3A%5C%22FILTERS%5C%22%2C%5C%22squashed_ent_ids%5C%22%3A[]%2C%5C%22source_session_id%5C%22%3Anull%2C%5C%22preloaded_entity_ids%5C%22%3A[]%2C%5C%22preloaded_entity_type%5C%22%3Anull%2C%5C%22block_preloaded_entity_ids_deduping%5C%22%3Afalse%2C%5C%22high_confidence_argument%5C%22%3Anull%2C%5C%22query_source%5C%22%3Anull%2C%5C%22logging_unit_id%5C%22%3A%5C%22browse_serp%3Ad5051de5-31bb-2634-a4b2-264bc8d7f3e5%5C%22%2C%5C%22query_title%5C%22%3Anull%2C%5C%22serp_decider_outcome%5C%22%3Anull%2C%5C%22infobox_context%5C%22%3A%7B%5C%22kgid%5C%22%3Anull%7D%7D%22%2C%22encoded_title%22%3A%22'+ \\\n",
    "            title +'%22%2C%22ref%22%3A%22unknown%22%2C%22logger_source%22%3A%22www_main%22%2C%22typeahead_sid%22%3A%22%22%2C%22tl_log%22%3Afalse%2C%22impression_id%22%3A%220X7oOawqEZdCT4I8M%22%2C%22filter_ids%22%3A%7B%22100000734834750%3A2897720113601839%22%3A%22100000734834750%3A2897720113601839%22%2C%22729920077030053%3A2411378802217497%22%3A%22729920077030053%3A2411378802217497%22%7D%2C%22experience_type%22%3A%22grammar%22%2C%22exclude_ids%22%3Anull%2C%22browse_location%22%3A%22browse_location%3Abrowse%22%2C%22trending_source%22%3Anull%2C%22reaction_surface%22%3Anull%2C%22reaction_session_id%22%3Anull%2C%22ref_path%22%3A%22%2Fsearch%2Fposts%2F%22%2C%22is_trending%22%3Afalse%2C%22topic_id%22%3Anull%2C%22place_id%22%3Anull%2C%22story_id%22%3Anull%2C%22callsite%22%3A%22browse_ui%3Ainit_result_set%22%2C%22has_top_pagelet%22%3Atrue%2C%22display_params%22%3A%7B%22crct%22%3A%22none%22%2C%22mrss%22%3Atrue%7D%2C%22cursor%22%3A%22'+\\\n",
    "            cursor +'%22%2C%22page_number%22%3A'+ \\\n",
    "            str(page_num) +'%2C%22em%22%3Afalse%2C%22tr%22%3Anull%7D'\n",
    "        \n",
    "    r = session.get(URL4)\n",
    "    j = r.text\n",
    "    post = j.split(';',3)[3]\n",
    "    json_post = json.loads(post)\n",
    "    print(URL4)\n",
    "    js_cursor = json_post['jsmods']['require']\n",
    "    for jsmod in js_cursor:\n",
    "        if jsmod[0] == 'BrowseScrollingPager':\n",
    "            if jsmod[3][0] is None:\n",
    "                return None\n",
    "            js = dict(**jsmod[3][0])\n",
    "            cursor = js['cursor']\n",
    "            break\n",
    "\n",
    "    payload = json_post['payload']\n",
    "    soup = BeautifulSoup(payload,'html.parser')\n",
    "\n",
    "    crawl = soup.select('div[class=\"_5pcr userContentWrapper\"]')\n",
    "    for c in crawl:\n",
    "        c_date = c.select('abbr:nth-of-type(1)')    # 리포스트 게시물의 경우 2개씩 나옴\n",
    "        c_text = c.select('div[data-testid=\"post_message\"]')\n",
    "        c_order = c.select('div[data-testid=\"story-subtitle\"]')    # 좋아요 순서 랜덤(자바스크립트처리) sync\n",
    "        date.append(c_date[0]['title'])\n",
    "        text.append(c_text[0].text)\n",
    "        order.append(c_order[0]['id'].split('_')[2].split(':')[0])\n",
    "    \n",
    "    crawl_writer = soup.select('h5 span span a')\n",
    "    for i,c in enumerate(crawl_writer):\n",
    "        if c.text == '' and c['href'][0] != '/':\n",
    "            writer.append(c['href'])\n",
    "\n",
    "    jsmod = json_post['jsmods']['pre_display_requires']\n",
    "    for js in jsmod:\n",
    "        emotion = {}\n",
    "        if js[0] == 'AsyncData':\n",
    "            continue\n",
    "            \n",
    "        js_emo = js[3][1]['__bbox']['result']['data']['feedback']['top_reactions']['edges']\n",
    "        \n",
    "        for emo in js_emo:\n",
    "            react = str(emo['node']['key'])\n",
    "            count = emo['reaction_count']\n",
    "            emotion.update({react:count})\n",
    "        emotions.append(emotion)\n",
    "        \n",
    "        js_id = js[3][1]['__bbox']['result']['data']['feedback']['share_fbid']\n",
    "        for i,o in enumerate(order):\n",
    "            if o == js_id:\n",
    "                js_order.append(i)\n",
    "                break\n",
    "\n",
    "    for i in range(len(date)):\n",
    "        posts['date'] = date[i]\n",
    "        posts['writer'] = writer[i]\n",
    "        posts['text'] = text[i]\n",
    "        idx = js_order.index(i)\n",
    "        posts['emotion'] = emotions[idx]\n",
    "        print(posts,'\\n')\n",
    "    \n",
    "    return cursor"
   ]
  },
  {
   "cell_type": "code",
   "execution_count": 13,
   "metadata": {
    "scrolled": true
   },
   "outputs": [],
   "source": [
    "def fb_crawl(q,session):\n",
    "    cursor = ''\n",
    "    query = ''\n",
    "    title = ''\n",
    "\n",
    "    query, title = encode_query(q)\n",
    "\n",
    "    for num in range(0,10):\n",
    "        cursor = get_posts(query,title,cursor,num,session)\n",
    "        if cursor is None:\n",
    "            break"
   ]
  },
  {
   "cell_type": "code",
   "execution_count": 14,
   "metadata": {},
   "outputs": [
    {
     "name": "stdout",
     "output_type": "stream",
     "text": [
      "https://www.facebook.com/ajax/pagelet/generic.php/BrowseScrollingSetPagelet?fb_dtsg_ag=AQw3EznKMKwEmrV66Y9qM3Gx0Ra95SWwDjV17NZZBFZe4A%3AAQxAslqxlsLam2UNG_wRXVNb8cZ7lvlbONlc4XXNMlEEJA&__user=100010743251101&__a=1&__dyn=7AgNe-4amaAxd2u6aJGeFxqeCwDKEyGzEy4arWo8ovxGdwIhE98nwgUau3u2lu9xK5WwIKaxeUW3KFUe8HzobrCCx3wCgoDxicxu5od8cEiwBx61zwzU5KEuxm1VDBwm88o99UhKEtxy5UrwFwgElx-bx-2KfwnK59o_Wx28CwKwPG8AhUix62PK6UylxfwzAx2cGcBKm4U-4K2i6ElxS4p8yEnHxC6oOh4Bx3CDKi8wGxm4UGqfwPxecxyEmwAwUzFKcxp2Utwwx-2y8wioowOxG3u36&__req=81&__be=1&__pc=PHASED%3Aufi_home_page_pkg&dpr=1.5&__rev=1000680358&__comet_req=false&jazoest=27863&__spin_r=1000680358&__spin_b=trunk&__spin_t=1557211858&data=%7B%22view%22%3A%22list%22%2C%22encoded_query%22%3A%22%7B%5C%22bqf%5C%22%3A%5C%22keywords_blended_posts(\\u0025ED\\u00258C\\u0025A8\\u0025EC\\u00258A\\u0025A4\\u0025ED\\u00258A\\u0025B8\\u0025EC\\u0025BA\\u0025A0\\u0025ED\\u00258D\\u0025BC\\u0025EC\\u00258A\\u0025A4)%5C%22%2C%5C%22browse_sid%5C%22%3A%5C%22bf7732b71b8a09949ef18e757b2f78c4%5C%22%2C%5C%22typeahead_sid%5C%22%3Anull%2C%5C%22vertical%5C%22%3A%5C%22content%5C%22%2C%5C%22post_search_vertical%5C%22%3Anull%2C%5C%22intent_data%5C%22%3Anull%2C%5C%22requestParams%5C%22%3A%7B%5C%22filter_config%5C%22%3A%5C%22merged_public_posts_see_more%5C%22%2C%5C%22kw_blender_module_dependency_graph_config%5C%22%3A%5C%22merged_public_posts_see_more%5C%22%2C%5C%22kw_blender_wpr_sizing_config%5C%22%3A%5C%22merged_public_posts_see_more_wpr_sizing%5C%22%2C%5C%22no_override_params%5C%22%3A%5C%22[%5C%5C%5C%22kw_blender_wpr_sizing_config%5C%5C%5C%22]%5C%22%7D%2C%5C%22has_chrono_sort%5C%22%3Afalse%2C%5C%22query_analysis%5C%22%3Anull%2C%5C%22subrequest_disabled%5C%22%3Afalse%2C%5C%22token_role%5C%22%3A%5C%22NONE%5C%22%2C%5C%22preloaded_story_ids%5C%22%3A[]%2C%5C%22extra_data%5C%22%3Anull%2C%5C%22disable_main_browse_unicorn%5C%22%3Afalse%2C%5C%22entry_point_scope%5C%22%3Anull%2C%5C%22entry_point_surface%5C%22%3Anull%2C%5C%22entry_point_action%5C%22%3A%5C%22FILTERS%5C%22%2C%5C%22squashed_ent_ids%5C%22%3A[]%2C%5C%22source_session_id%5C%22%3Anull%2C%5C%22preloaded_entity_ids%5C%22%3A[]%2C%5C%22preloaded_entity_type%5C%22%3Anull%2C%5C%22block_preloaded_entity_ids_deduping%5C%22%3Afalse%2C%5C%22high_confidence_argument%5C%22%3Anull%2C%5C%22query_source%5C%22%3Anull%2C%5C%22logging_unit_id%5C%22%3A%5C%22browse_serp%3Ad5051de5-31bb-2634-a4b2-264bc8d7f3e5%5C%22%2C%5C%22query_title%5C%22%3Anull%2C%5C%22serp_decider_outcome%5C%22%3Anull%2C%5C%22infobox_context%5C%22%3A%7B%5C%22kgid%5C%22%3Anull%7D%7D%22%2C%22encoded_title%22%3A%22WyJcdTAwMjVFRFx1MDAyNThDXHUwMDI1QThcdTAwMjVFQ1x1MDAyNThBXHUwMDI1QTRcdTAwMjVFRFx1MDAyNThBXHUwMDI1QjhcdTAwMjVFQ1x1MDAyNUJBXHUwMDI1QTBcdTAwMjVFRFx1MDAyNThEXHUwMDI1QkNcdTAwMjVFQ1x1MDAyNThBXHUwMDI1QTQiXQ%22%2C%22ref%22%3A%22unknown%22%2C%22logger_source%22%3A%22www_main%22%2C%22typeahead_sid%22%3A%22%22%2C%22tl_log%22%3Afalse%2C%22impression_id%22%3A%220X7oOawqEZdCT4I8M%22%2C%22filter_ids%22%3A%7B%22100000734834750%3A2897720113601839%22%3A%22100000734834750%3A2897720113601839%22%2C%22729920077030053%3A2411378802217497%22%3A%22729920077030053%3A2411378802217497%22%7D%2C%22experience_type%22%3A%22grammar%22%2C%22exclude_ids%22%3Anull%2C%22browse_location%22%3A%22browse_location%3Abrowse%22%2C%22trending_source%22%3Anull%2C%22reaction_surface%22%3Anull%2C%22reaction_session_id%22%3Anull%2C%22ref_path%22%3A%22%2Fsearch%2Fposts%2F%22%2C%22is_trending%22%3Afalse%2C%22topic_id%22%3Anull%2C%22place_id%22%3Anull%2C%22story_id%22%3Anull%2C%22callsite%22%3A%22browse_ui%3Ainit_result_set%22%2C%22has_top_pagelet%22%3Atrue%2C%22display_params%22%3A%7B%22crct%22%3A%22none%22%2C%22mrss%22%3Atrue%7D%2C%22cursor%22%3A%22%22%2C%22page_number%22%3A1%2C%22em%22%3Afalse%2C%22tr%22%3Anull%7D\n"
     ]
    },
    {
     "ename": "KeyError",
     "evalue": "'jsmods'",
     "output_type": "error",
     "traceback": [
      "\u001b[0;31m---------------------------------------------------------------------------\u001b[0m",
      "\u001b[0;31mKeyError\u001b[0m                                  Traceback (most recent call last)",
      "\u001b[0;32m<ipython-input-14-6a7e59321e17>\u001b[0m in \u001b[0;36m<module>\u001b[0;34m()\u001b[0m\n\u001b[1;32m     12\u001b[0m     \u001b[0mr\u001b[0m \u001b[0;34m=\u001b[0m \u001b[0msession\u001b[0m\u001b[0;34m.\u001b[0m\u001b[0mpost\u001b[0m\u001b[0;34m(\u001b[0m\u001b[0mURL2\u001b[0m\u001b[0;34m,\u001b[0m \u001b[0mdata\u001b[0m \u001b[0;34m=\u001b[0m \u001b[0mlogin_form\u001b[0m\u001b[0;34m,\u001b[0m \u001b[0mheaders\u001b[0m \u001b[0;34m=\u001b[0m \u001b[0mheaders\u001b[0m\u001b[0;34m)\u001b[0m\u001b[0;34m\u001b[0m\u001b[0;34m\u001b[0m\u001b[0m\n\u001b[1;32m     13\u001b[0m \u001b[0;34m\u001b[0m\u001b[0m\n\u001b[0;32m---> 14\u001b[0;31m     \u001b[0mfb_crawl\u001b[0m\u001b[0;34m(\u001b[0m\u001b[0;34m'패스트캠퍼스'\u001b[0m\u001b[0;34m,\u001b[0m\u001b[0msession\u001b[0m\u001b[0;34m)\u001b[0m\u001b[0;34m\u001b[0m\u001b[0;34m\u001b[0m\u001b[0m\n\u001b[0m",
      "\u001b[0;32m<ipython-input-13-ea50cea50a43>\u001b[0m in \u001b[0;36mfb_crawl\u001b[0;34m(q, session)\u001b[0m\n\u001b[1;32m      7\u001b[0m \u001b[0;34m\u001b[0m\u001b[0m\n\u001b[1;32m      8\u001b[0m     \u001b[0;32mfor\u001b[0m \u001b[0mnum\u001b[0m \u001b[0;32min\u001b[0m \u001b[0mrange\u001b[0m\u001b[0;34m(\u001b[0m\u001b[0;36m0\u001b[0m\u001b[0;34m,\u001b[0m\u001b[0;36m10\u001b[0m\u001b[0;34m)\u001b[0m\u001b[0;34m:\u001b[0m\u001b[0;34m\u001b[0m\u001b[0;34m\u001b[0m\u001b[0m\n\u001b[0;32m----> 9\u001b[0;31m         \u001b[0mcursor\u001b[0m \u001b[0;34m=\u001b[0m \u001b[0mget_posts\u001b[0m\u001b[0;34m(\u001b[0m\u001b[0mquery\u001b[0m\u001b[0;34m,\u001b[0m\u001b[0mtitle\u001b[0m\u001b[0;34m,\u001b[0m\u001b[0mcursor\u001b[0m\u001b[0;34m,\u001b[0m\u001b[0mnum\u001b[0m\u001b[0;34m,\u001b[0m\u001b[0msession\u001b[0m\u001b[0;34m)\u001b[0m\u001b[0;34m\u001b[0m\u001b[0;34m\u001b[0m\u001b[0m\n\u001b[0m\u001b[1;32m     10\u001b[0m         \u001b[0;32mif\u001b[0m \u001b[0mcursor\u001b[0m \u001b[0;32mis\u001b[0m \u001b[0;32mNone\u001b[0m\u001b[0;34m:\u001b[0m\u001b[0;34m\u001b[0m\u001b[0;34m\u001b[0m\u001b[0m\n\u001b[1;32m     11\u001b[0m             \u001b[0;32mbreak\u001b[0m\u001b[0;34m\u001b[0m\u001b[0;34m\u001b[0m\u001b[0m\n",
      "\u001b[0;32m<ipython-input-12-e0cd5b491162>\u001b[0m in \u001b[0;36mget_posts\u001b[0;34m(query, title, cursor, page_num, session)\u001b[0m\n\u001b[1;32m     15\u001b[0m     \u001b[0mjson_post\u001b[0m \u001b[0;34m=\u001b[0m \u001b[0mjson\u001b[0m\u001b[0;34m.\u001b[0m\u001b[0mloads\u001b[0m\u001b[0;34m(\u001b[0m\u001b[0mpost\u001b[0m\u001b[0;34m)\u001b[0m\u001b[0;34m\u001b[0m\u001b[0;34m\u001b[0m\u001b[0m\n\u001b[1;32m     16\u001b[0m     \u001b[0mprint\u001b[0m\u001b[0;34m(\u001b[0m\u001b[0mURL4\u001b[0m\u001b[0;34m)\u001b[0m\u001b[0;34m\u001b[0m\u001b[0;34m\u001b[0m\u001b[0m\n\u001b[0;32m---> 17\u001b[0;31m     \u001b[0mjs_cursor\u001b[0m \u001b[0;34m=\u001b[0m \u001b[0mjson_post\u001b[0m\u001b[0;34m[\u001b[0m\u001b[0;34m'jsmods'\u001b[0m\u001b[0;34m]\u001b[0m\u001b[0;34m[\u001b[0m\u001b[0;34m'require'\u001b[0m\u001b[0;34m]\u001b[0m\u001b[0;34m\u001b[0m\u001b[0;34m\u001b[0m\u001b[0m\n\u001b[0m\u001b[1;32m     18\u001b[0m     \u001b[0;32mfor\u001b[0m \u001b[0mjsmod\u001b[0m \u001b[0;32min\u001b[0m \u001b[0mjs_cursor\u001b[0m\u001b[0;34m:\u001b[0m\u001b[0;34m\u001b[0m\u001b[0;34m\u001b[0m\u001b[0m\n\u001b[1;32m     19\u001b[0m         \u001b[0;32mif\u001b[0m \u001b[0mjsmod\u001b[0m\u001b[0;34m[\u001b[0m\u001b[0;36m0\u001b[0m\u001b[0;34m]\u001b[0m \u001b[0;34m==\u001b[0m \u001b[0;34m'BrowseScrollingPager'\u001b[0m\u001b[0;34m:\u001b[0m\u001b[0;34m\u001b[0m\u001b[0;34m\u001b[0m\u001b[0m\n",
      "\u001b[0;31mKeyError\u001b[0m: 'jsmods'"
     ]
    }
   ],
   "source": [
    "with requests.Session() as session:\n",
    "    r = session.get(URL1)\n",
    "    cookie = r.headers['set-cookie']\n",
    "    headers = {\n",
    "        'User-Agent': 'Mozilla/5.0 (Windows NT 10.0; Win64; x64) AppleWebKit/537.36 (KHTML, like Gecko) Chrome/73.0.3683.103 Safari/537.36', \n",
    "        'Accept-Encoding': 'gzip, deflate', \n",
    "        'Accept': '*/*', \n",
    "        'Connection': 'keep-alive',\n",
    "        'cookie' : cookie,\n",
    "    }\n",
    "    session.headers['user-agent'] = 'Mozilla/5.0 (Windows NT 10.0; Win64; x64) AppleWebKit/537.36 (KHTML, like Gecko) Chrome/73.0.3683.103 Safari/537.36'\n",
    "    r = session.post(URL2, data = login_form, headers = headers)\n",
    "    \n",
    "    fb_crawl('패스트캠퍼스',session)"
   ]
  },
  {
   "cell_type": "code",
   "execution_count": null,
   "metadata": {},
   "outputs": [],
   "source": []
  },
  {
   "cell_type": "code",
   "execution_count": null,
   "metadata": {},
   "outputs": [],
   "source": []
  }
 ],
 "metadata": {
  "kernelspec": {
   "display_name": "Python 3",
   "language": "python",
   "name": "python3"
  },
  "language_info": {
   "codemirror_mode": {
    "name": "ipython",
    "version": 3
   },
   "file_extension": ".py",
   "mimetype": "text/x-python",
   "name": "python",
   "nbconvert_exporter": "python",
   "pygments_lexer": "ipython3",
   "version": "3.6.8"
  }
 },
 "nbformat": 4,
 "nbformat_minor": 2
}
