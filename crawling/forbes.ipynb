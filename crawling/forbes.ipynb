{
 "cells": [
  {
   "cell_type": "code",
   "execution_count": null,
   "metadata": {},
   "outputs": [],
   "source": [
    "import requests\n",
    "import json\n",
    "from bs4 import BeautifulSoup"
   ]
  },
  {
   "cell_type": "code",
   "execution_count": null,
   "metadata": {},
   "outputs": [],
   "source": [
    "news = {\n",
    "    'innovation' : {\n",
    "        'channel' : 'channel_74',\n",
    "        'topic' : ['ai-big-data','tech','health','sharing-economy','venture-capital','cyber-security','game',\n",
    "                   'science','enterprise-cloud','green-tech'],\n",
    "        'api' : ['section_1170','section_1162','section_1098','section_1163','section_1168','section_1275','section_1279',\n",
    "                 'section_1278','section_1166','section_1276'],\n",
    "    },\n",
    "    'it' : {\n",
    "        'channel' : 'channel_3',\n",
    "        'topic' : ['social-media'],\n",
    "        'api' : ['section_76'],\n",
    "    },\n",
    "    'leadership' : {\n",
    "        'channel' : 'channel_6',\n",
    "        'topic' : ['career','Entrepreneurs','leadership-strategy','cmo-network','diversity-inclusion',\n",
    "                   'small-business','education','franchises'],\n",
    "        'api' : ['section_1122','section_1219','section_1119','section_1123','section_1438',\n",
    "                 'section_1220','section_1125','section_1221'],\n",
    "    },\n",
    "    'money' : {\n",
    "        'channel' : 'channel_72',\n",
    "        'topic' : ['banking-insurance','fintech','markets','tax','blockchain','hedge-funds-private-equity',\n",
    "                  'personal-finance','etf-mutual-fund','investing','retirement','wealth-management'],\n",
    "        'api' : ['section_1093','section_1096','section_1083','section_1092','section_1095','section_1094',\n",
    "                'section_1090','section_1084','section_1089','section_1091','section_1088'],\n",
    "    },\n",
    "    'consumer' : {\n",
    "        'channel' : 'channel_80',\n",
    "        'topic' : ['food-drink','real-estate','entertainment','retail','media'],\n",
    "        'api' : ['section_1264','section_1263','section_1282','section_1262','section_1283'],\n",
    "    },\n",
    "    'industry' : {\n",
    "        'channel' : 'channel_73',\n",
    "        'topic' : ['transportation'],\n",
    "        'api' : ['section_1116'],\n",
    "    },\n",
    "    'lifestyle' : {\n",
    "        'channel' : 'channel_81',\n",
    "        'topic' : ['art','car-bike','travel','boat-plane','vice','dining-drinking','watch-jewelry'],\n",
    "        'api' : ['section_1287','section_1285','section_1267','section_1286','section_1288','section_1269','section_1284'],\n",
    "    },\n",
    "}"
   ]
  },
  {
   "cell_type": "code",
   "execution_count": null,
   "metadata": {},
   "outputs": [],
   "source": [
    "# get article url\n",
    "def get_url(url):\n",
    "    urls = []\n",
    "    for num in range(1,10000,87):\n",
    "        response = requests.get(url+str(num)).text\n",
    "        json_response = json.loads(response)\n",
    "\n",
    "        for result in json_response['promotedContent']['contentPositions']:\n",
    "            if 'uri' in result:\n",
    "                urls.append(result['uri'])\n",
    "    return urls"
   ]
  },
  {
   "cell_type": "code",
   "execution_count": null,
   "metadata": {},
   "outputs": [],
   "source": [
    "# get article content\n",
    "def get_content(url):\n",
    "    content = ''\n",
    "    response = requests.get(url).text\n",
    "    soup = BeautifulSoup(response, 'html.parser')\n",
    "    crawl = soup.select('div[\"_ngcontent-c14\"] p')\n",
    "    \n",
    "    for line in crawl:\n",
    "        content += line.text.strip()\n",
    "    return content"
   ]
  },
  {
   "cell_type": "code",
   "execution_count": null,
   "metadata": {},
   "outputs": [],
   "source": [
    "url = 'https://www.forbes.com/forbesapi/source/more.json?limit=87&source=stream&sourceType=channelsection&sourceValue='\n",
    "url_ls = []\n",
    "file = open('forbes_news.csv','w', encoding = 'utf-8')"
   ]
  },
  {
   "cell_type": "code",
   "execution_count": null,
   "metadata": {},
   "outputs": [],
   "source": [
    "for category in news:\n",
    "    print(category)\n",
    "    channel = news[category]['channel']\n",
    "    for topic, api in zip(news[category]['topic'],news[category]['api']):\n",
    "        url_api = url + channel + api + '&start='\n",
    "        url_ls = get_url(url_api)\n",
    "        \n",
    "        for article in url_ls:\n",
    "            content = get_content(article)\n",
    "            file.write('\"{0}\",\"{1}\",\"{2}\"\\n'.format(category,topic,content))\n",
    "file.close()"
   ]
  },
  {
   "cell_type": "code",
   "execution_count": null,
   "metadata": {},
   "outputs": [],
   "source": [
    "f = open('forbes_news.csv','r',encoding = 'utf-8')\n",
    "line = f.read()\n",
    "print(line)\n",
    "f.close()"
   ]
  },
  {
   "cell_type": "code",
   "execution_count": null,
   "metadata": {},
   "outputs": [],
   "source": []
  },
  {
   "cell_type": "code",
   "execution_count": null,
   "metadata": {},
   "outputs": [],
   "source": []
  }
 ],
 "metadata": {
  "kernelspec": {
   "display_name": "Python 3",
   "language": "python",
   "name": "python3"
  },
  "language_info": {
   "codemirror_mode": {
    "name": "ipython",
    "version": 3
   },
   "file_extension": ".py",
   "mimetype": "text/x-python",
   "name": "python",
   "nbconvert_exporter": "python",
   "pygments_lexer": "ipython3",
   "version": "3.6.7"
  }
 },
 "nbformat": 4,
 "nbformat_minor": 2
}
