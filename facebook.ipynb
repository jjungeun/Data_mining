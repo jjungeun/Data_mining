{
 "cells": [
  {
   "cell_type": "code",
   "execution_count": 1,
   "metadata": {},
   "outputs": [],
   "source": [
    "import requests\n",
    "import json\n",
    "from bs4 import BeautifulSoup\n",
    "import base64"
   ]
  },
  {
   "cell_type": "markdown",
   "metadata": {},
   "source": [
    "페이스북 공식 api를 사용해 키워드를 통해 게시물을 크롤링하려고 했지만 페이지 크롤링 외에 게시물 크롤링은 할 수 없었다.\n",
    "\n",
    "그래서 requests모듈의 Session을 사용해서 User정보를 가지고 크롤링한다.\n",
    "\n",
    "searchtype을 posts로, filter를 전체공개 게시물로 한다."
   ]
  },
  {
   "cell_type": "markdown",
   "metadata": {},
   "source": [
    "filters는 {\"rp_author\":\"{\"name\":\"merged_public_posts\",\"args\":\"\"}\"}이 base64로 인코딩된 후 자바스크립트 처리되어서 쿼리로 보내진다."
   ]
  },
  {
   "cell_type": "code",
   "execution_count": 22,
   "metadata": {},
   "outputs": [],
   "source": [
    "LOGIN_URL = 'https://www.facebook.com/login/device-based/regular/login/?login_attempt=1&lwv=111'\n",
    "BASE_URL = 'https://www.facebook.com/search/?searchtype=posts&ref=side_filter&epa=FILTERS&jazoest=27916&filters=eyJycF9hdXRob3IiOiJ7XCJuYW1lXCI6XCJtZXJnZWRfcHVibGljX3Bvc3RzXCIsXCJhcmdzXCI6XCJcIn0ifQ%3D%3D&q='\n",
    "PAGE_URL = 'https://www.facebook.com/ajax/pagelet/generic.php/BrowseScrollingSetPagelet?fb_dtsg_ag:AQzXvlCv7VxeHVsjMOlsf5mITnmUw39MIa8Cu028bnvAgQ:AQw2gbiGU9FlGTNX6X1WtFMqiE9iZM40f5KDUvXezO8pYA&data='"
   ]
  },
  {
   "cell_type": "code",
   "execution_count": 23,
   "metadata": {},
   "outputs": [],
   "source": [
    "email = '821080299729'\n",
    "pw = 'godforever01'"
   ]
  },
  {
   "cell_type": "code",
   "execution_count": 24,
   "metadata": {},
   "outputs": [],
   "source": [
    "session = requests.Session()"
   ]
  },
  {
   "cell_type": "code",
   "execution_count": 5,
   "metadata": {},
   "outputs": [
    {
     "data": {
      "text/plain": [
       "{'email': '821080299729', 'pass': 'godforever01'}"
      ]
     },
     "execution_count": 5,
     "metadata": {},
     "output_type": "execute_result"
    }
   ],
   "source": [
    "param = {}\n",
    "param['email'] = email\n",
    "param['pass'] = pw\n",
    "param"
   ]
  },
  {
   "cell_type": "code",
   "execution_count": 6,
   "metadata": {},
   "outputs": [
    {
     "data": {
      "text/plain": [
       "<Response [200]>"
      ]
     },
     "execution_count": 6,
     "metadata": {},
     "output_type": "execute_result"
    }
   ],
   "source": [
    "res = session.post(LOGIN_URL, data = param)\n",
    "res"
   ]
  },
  {
   "cell_type": "code",
   "execution_count": 7,
   "metadata": {},
   "outputs": [],
   "source": [
    "res.raise_for_status()"
   ]
  },
  {
   "cell_type": "code",
   "execution_count": 8,
   "metadata": {},
   "outputs": [
    {
     "data": {
      "text/plain": [
       "{'Content-Encoding': 'gzip', 'Expires': 'Sat, 01 Jan 2000 00:00:00 GMT', 'X-XSS-Protection': '0', 'X-Frame-Options': 'DENY', 'Pragma': 'no-cache', 'Strict-Transport-Security': 'max-age=15552000; preload', 'Access-Control-Expose-Headers': 'X-FB-Debug, X-Loader-Length', 'Access-Control-Allow-Credentials': 'true', 'X-Content-Type-Options': 'nosniff', 'Vary': 'Origin, Accept-Encoding', 'Cache-Control': 'private, no-cache, no-store, must-revalidate', 'Access-Control-Allow-Origin': 'https://www.facebook.com', 'Access-Control-Allow-Methods': 'OPTIONS', 'Set-Cookie': 'sb=I76tXKBRrKkDzzCXKo6OSFy3; expires=Fri, 09-Apr-2021 09:57:55 GMT; Max-Age=63071999; path=/; domain=.facebook.com; secure; httponly, fr=1ZRINOwXg86aH5KWU..Bcrb4j.tk.AAA.0.0.Bcrb4j.AWWyRRuo; expires=Tue, 09-Jul-2019 09:57:55 GMT; Max-Age=7775999; path=/; domain=.facebook.com; secure; httponly', 'Content-Type': 'text/html; charset=\"utf-8\"', 'X-FB-Debug': 'LejpN0XKyOi6YFKWjZdZHz3GMd6eqC82aeqM30ieUu3kafjL87K1y3l03p6YquvOk56ea7w/kK4D0QQOqxzu3A==', 'Date': 'Wed, 10 Apr 2019 09:57:56 GMT', 'Transfer-Encoding': 'chunked', 'Connection': 'keep-alive'}"
      ]
     },
     "execution_count": 8,
     "metadata": {},
     "output_type": "execute_result"
    }
   ],
   "source": [
    "res.headers"
   ]
  },
  {
   "cell_type": "code",
   "execution_count": 9,
   "metadata": {},
   "outputs": [
    {
     "data": {
      "text/plain": [
       "{'fr': '1ZRINOwXg86aH5KWU..Bcrb4j.tk.AAA.0.0.Bcrb4j.AWWyRRuo',\n",
       " 'sb': 'I76tXKBRrKkDzzCXKo6OSFy3'}"
      ]
     },
     "execution_count": 9,
     "metadata": {},
     "output_type": "execute_result"
    }
   ],
   "source": [
    "session.cookies.get_dict()"
   ]
  },
  {
   "cell_type": "code",
   "execution_count": 10,
   "metadata": {},
   "outputs": [],
   "source": [
    "# response = session.get(BASE_URL + 'python')"
   ]
  },
  {
   "cell_type": "code",
   "execution_count": 11,
   "metadata": {},
   "outputs": [],
   "source": [
    "# soup = BeautifulSoup(response.text, 'html.parser')"
   ]
  },
  {
   "cell_type": "code",
   "execution_count": 12,
   "metadata": {},
   "outputs": [],
   "source": [
    "query = b'[\"python\"]'"
   ]
  },
  {
   "cell_type": "code",
   "execution_count": 13,
   "metadata": {},
   "outputs": [
    {
     "data": {
      "text/plain": [
       "b'WyJweXRob24iXQ=='"
      ]
     },
     "execution_count": 13,
     "metadata": {},
     "output_type": "execute_result"
    }
   ],
   "source": [
    "base64.b64encode(query)"
   ]
  },
  {
   "cell_type": "code",
   "execution_count": 25,
   "metadata": {},
   "outputs": [],
   "source": [
    "data = '{\\\n",
    "\"view\":\"list\",\\\n",
    "\"encoded_query\":\"{\"view\":\"list\",\"encoded_query\":\"{\\\"bqf\\\":\\\"keywords_blended_posts(python)\\\",\\\"browse_sid\\\":\\\"b641253df34f99b0ac3666921b3ec210\\\",\\\"typeahead_sid\\\":null,\\\"vertical\\\":\\\"content\\\",\\\"post_search_vertical\\\":null,\\\"intent_data\\\":null,\\\"requestParams\\\":{\\\"filter_config\\\":\\\"merged_public_posts_see_more\\\",\\\"kw_blender_module_dependency_graph_config\\\":\\\"merged_public_posts_see_more\\\",\\\"kw_blender_wpr_sizing_config\\\":\\\"merged_public_posts_see_more_wpr_sizing\\\",\\\"no_override_params\\\":\\\"[\\\\\\\"kw_blender_wpr_sizing_config\\\\\\\"]\\\"},\\\"has_chrono_sort\\\":false,\\\"query_analysis\\\":null,\\\"subrequest_disabled\\\":false,\\\"token_role\\\":\\\"NONE\\\",\\\"preloaded_story_ids\\\":[],\\\"extra_data\\\":null,\\\"disable_main_browse_unicorn\\\":false,\\\"entry_point_scope\\\":null,\\\"entry_point_surface\\\":null,\\\"entry_point_action\\\":\\\"FILTERS\\\",\\\"squashed_ent_ids\\\":[],\\\"source_session_id\\\":null,\\\"preloaded_entity_ids\\\":[],\\\"preloaded_entity_type\\\":null,\\\"block_preloaded_entity_ids_deduping\\\":false,\\\"high_confidence_argument\\\":null,\\\"query_source\\\":null,\\\"logging_unit_id\\\":\\\"browse_serp:b996dc32-d927-afc7-dfde-967b0170946f\\\",\\\"query_title\\\":null,\\\"serp_decider_outcome\\\":null}\",\"encoded_title\":\"WyJweXRob24iXQ\",\"ref\":\"unknown\",\"logger_source\":\"www_main\",\"typeahead_sid\":\"\",\"tl_log\":false,\"impression_id\":\"0fGkxCsIHi7VEPpRT\",\"filter_ids\":{\"105307012882667:2430003167079695\":\"105307012882667:2430003167079695\",\"154344434967:10158489362299968\":\"154344434967:10158489362299968\"},\"experience_type\":\"grammar\",\"exclude_ids\":null,\"browse_location\":\"browse_location:browse\",\"trending_source\":null,\"reaction_surface\":null,\"reaction_session_id\":null,\"ref_path\":\"/search/\",\"is_trending\":false,\"topic_id\":null,\"place_id\":null,\"story_id\":null,\"callsite\":\"browse_ui:init_result_set\",\"has_top_pagelet\":true,\"display_params\":{\"crct\":\"none\",\"mrss\":true},\"cursor\":\"AbqBeCaHO3rpofqTjedwjuc8Wx-7iNGkAwYEAjt4AsqxUqu0E_6qwzAu6Z0BnpiTKMwKSknqhAg0hFdtUZkBZjGEzV-ekY-QqIkSRh0WREEnqZS9_FzDXi1pfUuEcwKPrWE5uKKVzsWmf8YwfUHIi3RW-vTOE2p5MEM4c2USvS_7Vhvs-UtAjrtEcUQUlswgbk1TZyZO7aGmTV3Ni8mRjb4So0oJaUICNnBtHhxyL29BnKDgg9xiAaSiNkSU8sK0yAmXpU8ZAd80zB4_f7aC34bz4P5xgAQeKj0iIyLRC7x1x608SNiuXqwxLv0EocKwN1W_tUhs4sfL94ZViflPju9P67XK0wUt9uDvB43aWrobiFGV0-RrmXw86iftGBWGrhnlM4MLgLdCI7rZpfywjKY3Bg3A5SOxskUSl6Q7j38670KW778_DFnKDt7luWxDzx3ACSnRPNhYrcS36w5nevoz42p8zHQFfxg3-PvE1AdpZnbkKfvRZd1kY_8sOF4ri2SbVudt01ijaDNbXKsQRs3FwjT78yeLjelW-MBKJZMwyQOclcW5evfpBFm0tEjtNF2TDYa_1qkOk4rbhga2x20Oew4XThmvZMvfRkFfyGBz0hCKmM22o5ffloNKkBITuxtJeQyH0TzOF8vXBoZoPQj1c_s4yyRF2CzDfC3t4ihoERAmmE0hfsey_hMWplgp_jTcv1RKNFCOz_kWrHpgljdoW5GY4aP-YTgVUlE8ENjZ6IqJJnEzEEQ79Pw8CRiJ6JSneTwwyMcwZF88Ox2gzGZQ1RVfKYEeoR6AvpYCgpeq1bI5irrepNnz11-sjIAwk-bJ4reBR6U1Qs8OFdH-57Tb-qEI357yzQm7XQRCBRrdFSUyi_04J2q8GLeQj_EYwA8PoTt936pOMMKEY4Wk1s5tI3oOJXGWAm_zt_UHUYpegsMtt5LuN9lvqsNST6XI51SWTjbkNlxeqcObA8JSqSnZqS-x-do6CM9pZFVbk5yobF7Zi69lVDW2MsQhazTRAriOeLsfi9BYo8pfstdgCIsra-521ScvfZMvYrHrcnsEMrEXdYJsq_CwV318VaS7AGh_GAvcxb6PpjvYuG-gq7O--QzToX9Bwz7e6ILodvK893KYV2acCrdIa40NCrjDCasN7zfFcwGOOK2PckKg9flhVX6ZV3YVeq8-Rin40MpMFof9s4WO-C0UiGqT139Ti4Cvt-fnGd_uHUCTrQwOjPupT4v75lQBzhA00iIBdZAwon6uvfGCnBtILh5g0A0mVkzzzIYUqRdq2bnKMJABDbQp2-CwL3MkoxEr102hoNXkwKS1howTCRi7QO7qfaoPY84eAnPtKKSRp6jI8qu_aM_lh334_RuXj-XJEZ1N0nZWEB39pAfu3lG_HOOYUE9JMftrxsmvz759GJYCisSeUCY3sE5Y98xcR1i_pqCvQLBV-3CYhIcxw4NnL349QJp3UmZ5nHbt0EoyH33ahCwtMvT4wQ_BvGF-X29ADXpP-r0eue8Nh5jqsTjbOYDQlwmtnJ8\",\"page_number\":8,\"em\":false,\"tr\":null}\",\\\n",
    "\"encoded_title\":\"WyJweXRob24iXQ==\",\\\n",
    "\"filter_ids\":{\\\n",
    "\"105307012882667:2430003167079695\":\"105307012882667:2430003167079695\",\\\n",
    "\"154344434967:10158489362299968\":\"154344434967:10158489362299968\"\\\n",
    "},\\\n",
    "\"ref_path\":\"/search/\",\\\n",
    "\"page_number\":2\\\n",
    "}'"
   ]
  },
  {
   "cell_type": "code",
   "execution_count": 28,
   "metadata": {},
   "outputs": [],
   "source": [
    "data = '{\"view\":\"list\",\"encoded_query\":\"{\\\"bqf\\\":\\\"keywords_blended_posts(python)\\\",\\\"browse_sid\\\":\\\"b641253df34f99b0ac3666921b3ec210\\\",\\\"typeahead_sid\\\":null,\\\"vertical\\\":\\\"content\\\",\\\"post_search_vertical\\\":null,\\\"intent_data\\\":null,\\\"requestParams\\\":{\\\"filter_config\\\":\\\"merged_public_posts_see_more\\\",\\\"kw_blender_module_dependency_graph_config\\\":\\\"merged_public_posts_see_more\\\",\\\"kw_blender_wpr_sizing_config\\\":\\\"merged_public_posts_see_more_wpr_sizing\\\",\\\"no_override_params\\\":\\\"[\\\\\\\"kw_blender_wpr_sizing_config\\\\\\\"]\\\"},\\\"has_chrono_sort\\\":false,\\\"query_analysis\\\":null,\\\"subrequest_disabled\\\":false,\\\"token_role\\\":\\\"NONE\\\",\\\"preloaded_story_ids\\\":[],\\\"extra_data\\\":null,\\\"disable_main_browse_unicorn\\\":false,\\\"entry_point_scope\\\":null,\\\"entry_point_surface\\\":null,\\\"entry_point_action\\\":\\\"FILTERS\\\",\\\"squashed_ent_ids\\\":[],\\\"source_session_id\\\":null,\\\"preloaded_entity_ids\\\":[],\\\"preloaded_entity_type\\\":null,\\\"block_preloaded_entity_ids_deduping\\\":false,\\\"high_confidence_argument\\\":null,\\\"query_source\\\":null,\\\"logging_unit_id\\\":\\\"browse_serp:b996dc32-d927-afc7-dfde-967b0170946f\\\",\\\"query_title\\\":null,\\\"serp_decider_outcome\\\":null}\",\"encoded_title\":\"WyJweXRob24iXQ\",\"ref\":\"unknown\",\"logger_source\":\"www_main\",\"typeahead_sid\":\"\",\"tl_log\":false,\"impression_id\":\"0fGkxCsIHi7VEPpRT\",\"filter_ids\":{\"105307012882667:2430003167079695\":\"105307012882667:2430003167079695\",\"154344434967:10158489362299968\":\"154344434967:10158489362299968\"},\"experience_type\":\"grammar\",\"exclude_ids\":null,\"browse_location\":\"browse_location:browse\",\"trending_source\":null,\"reaction_surface\":null,\"reaction_session_id\":null,\"ref_path\":\"/search/\",\"is_trending\":false,\"topic_id\":null,\"place_id\":null,\"story_id\":null,\"callsite\":\"browse_ui:init_result_set\",\"has_top_pagelet\":true,\"display_params\":{\"crct\":\"none\",\"mrss\":true},\"cursor\":\"AbqBeCaHO3rpofqTjedwjuc8Wx-7iNGkAwYEAjt4AsqxUqu0E_6qwzAu6Z0BnpiTKMwKSknqhAg0hFdtUZkBZjGEzV-ekY-QqIkSRh0WREEnqZS9_FzDXi1pfUuEcwKPrWE5uKKVzsWmf8YwfUHIi3RW-vTOE2p5MEM4c2USvS_7Vhvs-UtAjrtEcUQUlswgbk1TZyZO7aGmTV3Ni8mRjb4So0oJaUICNnBtHhxyL29BnKDgg9xiAaSiNkSU8sK0yAmXpU8ZAd80zB4_f7aC34bz4P5xgAQeKj0iIyLRC7x1x608SNiuXqwxLv0EocKwN1W_tUhs4sfL94ZViflPju9P67XK0wUt9uDvB43aWrobiFGV0-RrmXw86iftGBWGrhnlM4MLgLdCI7rZpfywjKY3Bg3A5SOxskUSl6Q7j38670KW778_DFnKDt7luWxDzx3ACSnRPNhYrcS36w5nevoz42p8zHQFfxg3-PvE1AdpZnbkKfvRZd1kY_8sOF4ri2SbVudt01ijaDNbXKsQRs3FwjT78yeLjelW-MBKJZMwyQOclcW5evfpBFm0tEjtNF2TDYa_1qkOk4rbhga2x20Oew4XThmvZMvfRkFfyGBz0hCKmM22o5ffloNKkBITuxtJeQyH0TzOF8vXBoZoPQj1c_s4yyRF2CzDfC3t4ihoERAmmE0hfsey_hMWplgp_jTcv1RKNFCOz_kWrHpgljdoW5GY4aP-YTgVUlE8ENjZ6IqJJnEzEEQ79Pw8CRiJ6JSneTwwyMcwZF88Ox2gzGZQ1RVfKYEeoR6AvpYCgpeq1bI5irrepNnz11-sjIAwk-bJ4reBR6U1Qs8OFdH-57Tb-qEI357yzQm7XQRCBRrdFSUyi_04J2q8GLeQj_EYwA8PoTt936pOMMKEY4Wk1s5tI3oOJXGWAm_zt_UHUYpegsMtt5LuN9lvqsNST6XI51SWTjbkNlxeqcObA8JSqSnZqS-x-do6CM9pZFVbk5yobF7Zi69lVDW2MsQhazTRAriOeLsfi9BYo8pfstdgCIsra-521ScvfZMvYrHrcnsEMrEXdYJsq_CwV318VaS7AGh_GAvcxb6PpjvYuG-gq7O--QzToX9Bwz7e6ILodvK893KYV2acCrdIa40NCrjDCasN7zfFcwGOOK2PckKg9flhVX6ZV3YVeq8-Rin40MpMFof9s4WO-C0UiGqT139Ti4Cvt-fnGd_uHUCTrQwOjPupT4v75lQBzhA00iIBdZAwon6uvfGCnBtILh5g0A0mVkzzzIYUqRdq2bnKMJABDbQp2-CwL3MkoxEr102hoNXkwKS1howTCRi7QO7qfaoPY84eAnPtKKSRp6jI8qu_aM_lh334_RuXj-XJEZ1N0nZWEB39pAfu3lG_HOOYUE9JMftrxsmvz759GJYCisSeUCY3sE5Y98xcR1i_pqCvQLBV-3CYhIcxw4NnL349QJp3UmZ5nHbt0EoyH33ahCwtMvT4wQ_BvGF-X29ADXpP-r0eue8Nh5jqsTjbOYDQlwmtnJ8\",\"page_number\":8,\"em\":false,\"tr\":null}'"
   ]
  },
  {
   "cell_type": "code",
   "execution_count": 32,
   "metadata": {},
   "outputs": [],
   "source": [
    "response = requests.get(PAGE_URL+data)"
   ]
  },
  {
   "cell_type": "code",
   "execution_count": 33,
   "metadata": {},
   "outputs": [
    {
     "data": {
      "text/plain": [
       "''"
      ]
     },
     "execution_count": 33,
     "metadata": {},
     "output_type": "execute_result"
    }
   ],
   "source": [
    "response.text"
   ]
  },
  {
   "cell_type": "code",
   "execution_count": 31,
   "metadata": {},
   "outputs": [
    {
     "data": {
      "text/plain": [
       "{}"
      ]
     },
     "execution_count": 31,
     "metadata": {},
     "output_type": "execute_result"
    }
   ],
   "source": [
    "session.cookies.get_dict()"
   ]
  },
  {
   "cell_type": "code",
   "execution_count": null,
   "metadata": {},
   "outputs": [],
   "source": []
  }
 ],
 "metadata": {
  "kernelspec": {
   "display_name": "Python 3",
   "language": "python",
   "name": "python3"
  },
  "language_info": {
   "codemirror_mode": {
    "name": "ipython",
    "version": 3
   },
   "file_extension": ".py",
   "mimetype": "text/x-python",
   "name": "python",
   "nbconvert_exporter": "python",
   "pygments_lexer": "ipython3",
   "version": "3.6.5"
  }
 },
 "nbformat": 4,
 "nbformat_minor": 2
}
