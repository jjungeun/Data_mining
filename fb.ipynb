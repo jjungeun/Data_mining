{
 "cells": [
  {
   "cell_type": "code",
   "execution_count": null,
   "metadata": {},
   "outputs": [],
   "source": [
    "import requests\n",
    "import json\n",
    "from bs4 import BeautifulSoup\n",
    "import base64\n",
    "import urllib"
   ]
  },
  {
   "cell_type": "code",
   "execution_count": null,
   "metadata": {},
   "outputs": [],
   "source": [
    "login_form = {\n",
    "    'email' : '821080299729',\n",
    "    'pass' : 'godforever01',\n",
    "}"
   ]
  },
  {
   "cell_type": "code",
   "execution_count": null,
   "metadata": {},
   "outputs": [],
   "source": [
    "q = '{\"view\":\"list\",\"encoded_query\":\"{\\\"bqf\\\":\\\"keywords_blended_posts(\\\\u0025ED\\\\u00258C\\\\u00258C\\\\u0025EC\\\\u00259D\\\\u0025B4\\\\u0025EC\\\\u00258D\\\\u0025AC)\\\",\\\"browse_sid\\\":\\\"6cad73b2ae6ffd4f96934c74975766e8\\\",\\\"typeahead_sid\\\":null,\\\"vertical\\\":\\\"content\\\",\\\"post_search_vertical\\\":null,\\\"intent_data\\\":null,\\\"requestParams\\\":{\\\"filter_config\\\":\\\"merged_public_posts_see_more\\\",\\\"kw_blender_module_dependency_graph_config\\\":\\\"merged_public_posts_see_more\\\",\\\"kw_blender_wpr_sizing_config\\\":\\\"merged_public_posts_see_more_wpr_sizing\\\",\\\"no_override_params\\\":\\\"[\\\\\\\"kw_blender_wpr_sizing_config\\\\\\\"]\\\"},\\\"has_chrono_sort\\\":false,\\\"query_analysis\\\":null,\\\"subrequest_disabled\\\":false,\\\"token_role\\\":\\\"NONE\\\",\\\"preloaded_story_ids\\\":[],\\\"extra_data\\\":null,\\\"disable_main_browse_unicorn\\\":false,\\\"entry_point_scope\\\":null,\\\"entry_point_surface\\\":null,\\\"entry_point_action\\\":\\\"FILTERS\\\",\\\"squashed_ent_ids\\\":[],\\\"source_session_id\\\":null,\\\"preloaded_entity_ids\\\":[],\\\"preloaded_entity_type\\\":null,\\\"block_preloaded_entity_ids_deduping\\\":false,\\\"high_confidence_argument\\\":null,\\\"query_source\\\":null,\\\"logging_unit_id\\\":\\\"browse_serp:70f333d1-3771-d600-3c48-383696816f46\\\",\\\"query_title\\\":null,\\\"serp_decider_outcome\\\":null,\\\"infobox_context\\\":{\\\"kgid\\\":null}}\",\"encoded_title\":\"WyJcdTAwMjVFRFx1MDAyNThDXHUwMDI1OENcdTAwMjVFQ1x1MDAyNTlEXHUwMDI1QjRcdTAwMjVFQ1x1MDAyNThEXHUwMDI1QUMiXQ\",\"ref\":\"unknown\",\"logger_source\":\"www_main\",\"typeahead_sid\":\"\",\"tl_log\":false,\"impression_id\":\"0b4tn1yDjNBslEWtX\",\"filter_ids\":{\"100005066911637:1130217430490477\":\"100005066911637:1130217430490477\",\"126010530765006:2450769981622371\":\"126010530765006:2450769981622371\"},\"experience_type\":\"grammar\",\"exclude_ids\":null,\"browse_location\":\"browse_location:browse\",\"trending_source\":null,\"reaction_surface\":null,\"reaction_session_id\":null,\"ref_path\":\"/search/posts/\",\"is_trending\":false,\"topic_id\":null,\"place_id\":null,\"story_id\":null,\"callsite\":\"browse_ui:init_result_set\",\"has_top_pagelet\":true,\"display_params\":{\"crct\":\"none\",\"mrss\":true},\"cursor\":\"Abpjmzw_s9DvS2l59GzZ1YRSiNHmoJBL9YUq5wTbRSq0IiXqwQqU748xI2HIJ79udsYmNRiFafc52amre3-UUpEwzt-dFRTTV6W6qOrjJmIEfG15ljLqVZ6ulZ2dB9VLu_eIVftgcCMdOWw27WnsBCLFqCdwqawFjFeMgw0PdPl7elEKptQwYf2tmjIx6cgwhoBv8qdoHLQSAyET9hCVYRs3kHceQAOZ5JfdedLN8ikzHj0jxQdKP7cLs82hqlTI33aQ-BaD3KDuiIdbfXy0O2iizU1F8zEAo_6xvjSPYK3V-xDDAoKCDx_gJGbPrkDlr4wYaZDHeLxK9FBU4G2DHMfeSb2jxIDEzHXYKxt7UZtJgaRz1N_-2FwyzRK4XsLn2-Uotf1e0EY9adzubY_0L4hBh7oNyRgrxSXMe34piOYJRC9FLuz9vbeNlK1eE0nJx27QvrSBhCrUL_jHx25NWqB2MObReHxBngoMEGOiH1DZkGGOzZKOj0riGgDEAByU59aFrY60LNi3LGuJDr_cq9yAB3re_mK3vBWjtZxraFFYuquXbUOw_d1eNjrj58Gum6T4jAeGqp0Zra-sUQaPEXWib1Lm5Z9loogT8dXXvdQtvQIdTSV0XmYFI4CqqDe13CDowZeatKzheZhyIRH0f_ODHRsOrgRo87yozWbzgaRuJMMU2RwfBw0kEbFb_jF0myfC3iERUw68vhBMeIZn2JB26qYlLoBaRS71Y4WnK3ksm_2NO2yb1v3gz5d_pWvuT-BCLI6leWC2yMiHRXBdJ9rkFl62esBIvFlDBpacCbdXXMeAQ3EtXAZjSbbJ7u2Kejc17Zlyljp0UkiXbF-f40yAn1vpWg1dSlwcVfoxdQDQeOeB1EgIwo7k8rw71IwX-K4GhvkMi1iHtZsAKMBcAj6rRKBusHmRwCT_WHk7enTX5X6v3VwIF-AW_Js2GmtIib-Ooqq31pGEN9HvBhWSOzC5PNvVELH6tKIiyRM4nC487J1V0NyqpLW6RaqCw1AoHF9patikcVnx0-EWoQ78DUUmns5cFrABu6wEHgCSU2I7ZdOWEzFJYSatUz5XzIn7eHGfZ6kwAFEuhvwELa-ozez9dAy3aGUo1BBBuUDOS0VUfF0JPUFWtKuuRzZIfnpDD7PllRKdAMdNwGBQSk_PZOhydM2ZNdE_25Y4hc9tGVK_v7za4E95HyQrYnvCXu_VBDNtd76ef9kU0fMCMvzbug_qw7McoxVjJJYTXuFsrAybQ8HZUYSAHfJV5BSg-5DAZ0jcne6i0_uXwRqcu8APztaXkhoY_qiH3Co5IpXRusxdNyOOdfq7etyi3yONgAor3VD3rReu4MRWva8PmYHJPbHekZPBXs4YlZRqW2NS55Nn4dU8SA_zvph0Z2bJrsjsoXb7fYJrw3F30Txk5E-KCEyN0Q-7JYY8iL6kFLTwbwOpnTFn_ws35ZoQKpqGKKiVnJ3sAeuLN_My9hrSEpDZVhxlYeuclJunzSsDo1TE4ri3Lx0BBxRoLx4Gt3X48eZXS9Qy0oTFC6TTD2T-umnEmojm\",\"page_number\":2,\"em\":false,\"tr\":null}'"
   ]
  },
  {
   "cell_type": "code",
   "execution_count": null,
   "metadata": {},
   "outputs": [],
   "source": [
    "data_q = {\n",
    "    'keyword' : 'data=%7B%22view%22%3A%22list%22%2C%22encoded_query%22%3A%22%7B%5C%22bqf%5C%22%3A%5C%22keywords_blended_posts(\\\\u0025ED\\\\u00258C\\\\u00258C\\\\u0025EC\\\\u00259D\\\\u0025B4\\\\u0025EC\\\\u00258D\\\\u0025AC)\\\",\\\"browse_sid\\\":\\\"6cad73b2ae6ffd4f96934c74975766e8\\\",\\\"typeahead_sid\\\":null,\\\"vertical\\\":\\\"content\\\",\\\"post_search_vertical\\\":null,\\\"intent_data\\\":null,\\\"requestParams\\\":{\\\"filter_config\\\":\\\"merged_public_posts_see_more\\\",\\\"kw_blender_module_dependency_graph_config\\\":\\\"merged_public_posts_see_more\\\",\\\"kw_blender_wpr_sizing_config\\\":\\\"merged_public_posts_see_more_wpr_sizing\\\",\\\"no_override_params\\\":\\\"[\\\\\\\"kw_blender_wpr_sizing_config\\\\\\\"]\\\"},\\\"has_chrono_sort\\\":false,\\\"query_analysis\\\":null,\\\"subrequest_disabled\\\":false,\\\"token_role\\\":\\\"NONE\\\",\\\"preloaded_story_ids\\\":[],\\\"extra_data\\\":null,\\\"disable_main_browse_unicorn\\\":false,\\\"entry_point_scope\\\":null,\\\"entry_point_surface\\\":null,\\\"entry_point_action\\\":\\\"FILTERS\\\",\\\"squashed_ent_ids\\\":[],\\\"source_session_id\\\":null,\\\"preloaded_entity_ids\\\":[],\\\"preloaded_entity_type\\\":null,\\\"block_preloaded_entity_ids_deduping\\\":false,\\\"high_confidence_argument\\\":null,\\\"query_source\\\":null,\\\"logging_unit_id\\\":\\\"browse_serp:70f333d1-3771-d600-3c48-383696816f46\\\",\\\"query_title\\\":null,\\\"serp_decider_outcome\\\":null,\\\"infobox_context\\\":{\\\"kgid\\\":null}}\",\"encoded_title\":\"WyJcdTAwMjVFRFx1MDAyNThDXHUwMDI1OENcdTAwMjVFQ1x1MDAyNTlEXHUwMDI1QjRcdTAwMjVFQ1x1MDAyNThEXHUwMDI1QUMiXQ\",\"ref\":\"unknown\",\"logger_source\":\"www_main\",\"typeahead_sid\":\"\",\"tl_log\":false,\"impression_id\":\"0b4tn1yDjNBslEWtX\",\"filter_ids\":{\"100005066911637:1130217430490477\":\"100005066911637:1130217430490477\",\"126010530765006:2450769981622371\":\"126010530765006:2450769981622371\"},\"experience_type\":\"grammar\",\"exclude_ids\":null,\"browse_location\":\"browse_location:browse\",\"trending_source\":null,\"reaction_surface\":null,\"reaction_session_id\":null,\"ref_path\":\"/search/posts/\",\"is_trending\":false,\"topic_id\":null,\"place_id\":null,\"story_id\":null,\"callsite\":\"browse_ui:init_result_set\",\"has_top_pagelet\":true,\"display_params\":{\"crct\":\"none\",\"mrss\":true},\"cursor\":\"Abpjmzw_s9DvS2l59GzZ1YRSiNHmoJBL9YUq5wTbRSq0IiXqwQqU748xI2HIJ79udsYmNRiFafc52amre3-UUpEwzt-dFRTTV6W6qOrjJmIEfG15ljLqVZ6ulZ2dB9VLu_eIVftgcCMdOWw27WnsBCLFqCdwqawFjFeMgw0PdPl7elEKptQwYf2tmjIx6cgwhoBv8qdoHLQSAyET9hCVYRs3kHceQAOZ5JfdedLN8ikzHj0jxQdKP7cLs82hqlTI33aQ-BaD3KDuiIdbfXy0O2iizU1F8zEAo_6xvjSPYK3V-xDDAoKCDx_gJGbPrkDlr4wYaZDHeLxK9FBU4G2DHMfeSb2jxIDEzHXYKxt7UZtJgaRz1N_-2FwyzRK4XsLn2-Uotf1e0EY9adzubY_0L4hBh7oNyRgrxSXMe34piOYJRC9FLuz9vbeNlK1eE0nJx27QvrSBhCrUL_jHx25NWqB2MObReHxBngoMEGOiH1DZkGGOzZKOj0riGgDEAByU59aFrY60LNi3LGuJDr_cq9yAB3re_mK3vBWjtZxraFFYuquXbUOw_d1eNjrj58Gum6T4jAeGqp0Zra-sUQaPEXWib1Lm5Z9loogT8dXXvdQtvQIdTSV0XmYFI4CqqDe13CDowZeatKzheZhyIRH0f_ODHRsOrgRo87yozWbzgaRuJMMU2RwfBw0kEbFb_jF0myfC3iERUw68vhBMeIZn2JB26qYlLoBaRS71Y4WnK3ksm_2NO2yb1v3gz5d_pWvuT-BCLI6leWC2yMiHRXBdJ9rkFl62esBIvFlDBpacCbdXXMeAQ3EtXAZjSbbJ7u2Kejc17Zlyljp0UkiXbF-f40yAn1vpWg1dSlwcVfoxdQDQeOeB1EgIwo7k8rw71IwX-K4GhvkMi1iHtZsAKMBcAj6rRKBusHmRwCT_WHk7enTX5X6v3VwIF-AW_Js2GmtIib-Ooqq31pGEN9HvBhWSOzC5PNvVELH6tKIiyRM4nC487J1V0NyqpLW6RaqCw1AoHF9patikcVnx0-EWoQ78DUUmns5cFrABu6wEHgCSU2I7ZdOWEzFJYSatUz5XzIn7eHGfZ6kwAFEuhvwELa-ozez9dAy3aGUo1BBBuUDOS0VUfF0JPUFWtKuuRzZIfnpDD7PllRKdAMdNwGBQSk_PZOhydM2ZNdE_25Y4hc9tGVK_v7za4E95HyQrYnvCXu_VBDNtd76ef9kU0fMCMvzbug_qw7McoxVjJJYTXuFsrAybQ8HZUYSAHfJV5BSg-5DAZ0jcne6i0_uXwRqcu8APztaXkhoY_qiH3Co5IpXRusxdNyOOdfq7etyi3yONgAor3VD3rReu4MRWva8PmYHJPbHekZPBXs4YlZRqW2NS55Nn4dU8SA_zvph0Z2bJrsjsoXb7fYJrw3F30Txk5E-KCEyN0Q-7JYY8iL6kFLTwbwOpnTFn_ws35ZoQKpqGKKiVnJ3sAeuLN_My9hrSEpDZVhxlYeuclJunzSsDo1TE4ri3Lx0BBxRoLx4Gt3X48eZXS9Qy0oTFC6TTD2T-umnEmojm\",\"page_number\":2,\"em\":false,\"tr\":null}'\n",
    "}"
   ]
  },
  {
   "cell_type": "code",
   "execution_count": null,
   "metadata": {},
   "outputs": [],
   "source": [
    "data = {\n",
    "    'data' : 'data=%7B%22view%22%3A%22list%22%2C%22encoded_query%22%3A%22%7B%5C%22bqf%5C%22%3A%5C%22keywords_blended_posts(%5C%5Cu0025ED%5C%5Cu00258C%5C%5Cu00258C%5C%5Cu0025EC%5C%5Cu00259D%5C%5Cu0025B4%5C%5Cu0025EC%5C%5Cu00258D%5C%5Cu0025AC)%5C%22%2C%5C%22browse_sid%5C%22%3A%5C%226cad73b2ae6ffd4f96934c74975766e8%5C%22%2C%5C%22typeahead_sid%5C%22%3Anull%2C%5C%22vertical%5C%22%3A%5C%22content%5C%22%2C%5C%22post_search_vertical%5C%22%3Anull%2C%5C%22intent_data%5C%22%3Anull%2C%5C%22requestParams%5C%22%3A%7B%5C%22filter_config%5C%22%3A%5C%22merged_public_posts_see_more%5C%22%2C%5C%22kw_blender_module_dependency_graph_config%5C%22%3A%5C%22merged_public_posts_see_more%5C%22%2C%5C%22kw_blender_wpr_sizing_config%5C%22%3A%5C%22merged_public_posts_see_more_wpr_sizing%5C%22%2C%5C%22no_override_params%5C%22%3A%5C%22[%5C%5C%5C%22kw_blender_wpr_sizing_config%5C%5C%5C%22]%5C%22%7D%2C%5C%22has_chrono_sort%5C%22%3Afalse%2C%5C%22query_analysis%5C%22%3Anull%2C%5C%22subrequest_disabled%5C%22%3Afalse%2C%5C%22token_role%5C%22%3A%5C%22NONE%5C%22%2C%5C%22preloaded_story_ids%5C%22%3A[]%2C%5C%22extra_data%5C%22%3Anull%2C%5C%22disable_main_browse_unicorn%5C%22%3Afalse%2C%5C%22entry_point_scope%5C%22%3Anull%2C%5C%22entry_point_surface%5C%22%3Anull%2C%5C%22entry_point_action%5C%22%3A%5C%22FILTERS%5C%22%2C%5C%22squashed_ent_ids%5C%22%3A[]%2C%5C%22source_session_id%5C%22%3Anull%2C%5C%22preloaded_entity_ids%5C%22%3A[]%2C%5C%22preloaded_entity_type%5C%22%3Anull%2C%5C%22block_preloaded_entity_ids_deduping%5C%22%3Afalse%2C%5C%22high_confidence_argument%5C%22%3Anull%2C%5C%22query_source%5C%22%3Anull%2C%5C%22logging_unit_id%5C%22%3A%5C%22browse_serp%3A70f333d1-3771-d600-3c48-383696816f46%5C%22%2C%5C%22query_title%5C%22%3Anull%2C%5C%22serp_decider_outcome%5C%22%3Anull%2C%5C%22infobox_context%5C%22%3A%7B%5C%22kgid%5C%22%3Anull%7D%7D%22%2C%22encoded_title%22%3A%22WyJcdTAwMjVFRFx1MDAyNThDXHUwMDI1OENcdTAwMjVFQ1x1MDAyNTlEXHUwMDI1QjRcdTAwMjVFQ1x1MDAyNThEXHUwMDI1QUMiXQ%22%2C%22ref%22%3A%22unknown%22%2C%22logger_source%22%3A%22www_main%22%2C%22typeahead_sid%22%3A%22%22%2C%22tl_log%22%3Afalse%2C%22impression_id%22%3A%220b4tn1yDjNBslEWtX%22%2C%22filter_ids%22%3A%7B%22100005066911637%3A1130217430490477%22%3A%22100005066911637%3A1130217430490477%22%2C%22126010530765006%3A2450769981622371%22%3A%22126010530765006%3A2450769981622371%22%7D%2C%22experience_type%22%3A%22grammar%22%2C%22exclude_ids%22%3Anull%2C%22browse_location%22%3A%22browse_location%3Abrowse%22%2C%22trending_source%22%3Anull%2C%22reaction_surface%22%3Anull%2C%22reaction_session_id%22%3Anull%2C%22ref_path%22%3A%22%2Fsearch%2Fposts%2F%22%2C%22is_trending%22%3Afalse%2C%22topic_id%22%3Anull%2C%22place_id%22%3Anull%2C%22story_id%22%3Anull%2C%22callsite%22%3A%22browse_ui%3Ainit_result_set%22%2C%22has_top_pagelet%22%3Atrue%2C%22display_params%22%3A%7B%22crct%22%3A%22none%22%2C%22mrss%22%3Atrue%7D%2C%22cursor%22%3A%22Abpjmzw_s9DvS2l59GzZ1YRSiNHmoJBL9YUq5wTbRSq0IiXqwQqU748xI2HIJ79udsYmNRiFafc52amre3-UUpEwzt-dFRTTV6W6qOrjJmIEfG15ljLqVZ6ulZ2dB9VLu_eIVftgcCMdOWw27WnsBCLFqCdwqawFjFeMgw0PdPl7elEKptQwYf2tmjIx6cgwhoBv8qdoHLQSAyET9hCVYRs3kHceQAOZ5JfdedLN8ikzHj0jxQdKP7cLs82hqlTI33aQ-BaD3KDuiIdbfXy0O2iizU1F8zEAo_6xvjSPYK3V-xDDAoKCDx_gJGbPrkDlr4wYaZDHeLxK9FBU4G2DHMfeSb2jxIDEzHXYKxt7UZtJgaRz1N_-2FwyzRK4XsLn2-Uotf1e0EY9adzubY_0L4hBh7oNyRgrxSXMe34piOYJRC9FLuz9vbeNlK1eE0nJx27QvrSBhCrUL_jHx25NWqB2MObReHxBngoMEGOiH1DZkGGOzZKOj0riGgDEAByU59aFrY60LNi3LGuJDr_cq9yAB3re_mK3vBWjtZxraFFYuquXbUOw_d1eNjrj58Gum6T4jAeGqp0Zra-sUQaPEXWib1Lm5Z9loogT8dXXvdQtvQIdTSV0XmYFI4CqqDe13CDowZeatKzheZhyIRH0f_ODHRsOrgRo87yozWbzgaRuJMMU2RwfBw0kEbFb_jF0myfC3iERUw68vhBMeIZn2JB26qYlLoBaRS71Y4WnK3ksm_2NO2yb1v3gz5d_pWvuT-BCLI6leWC2yMiHRXBdJ9rkFl62esBIvFlDBpacCbdXXMeAQ3EtXAZjSbbJ7u2Kejc17Zlyljp0UkiXbF-f40yAn1vpWg1dSlwcVfoxdQDQeOeB1EgIwo7k8rw71IwX-K4GhvkMi1iHtZsAKMBcAj6rRKBusHmRwCT_WHk7enTX5X6v3VwIF-AW_Js2GmtIib-Ooqq31pGEN9HvBhWSOzC5PNvVELH6tKIiyRM4nC487J1V0NyqpLW6RaqCw1AoHF9patikcVnx0-EWoQ78DUUmns5cFrABu6wEHgCSU2I7ZdOWEzFJYSatUz5XzIn7eHGfZ6kwAFEuhvwELa-ozez9dAy3aGUo1BBBuUDOS0VUfF0JPUFWtKuuRzZIfnpDD7PllRKdAMdNwGBQSk_PZOhydM2ZNdE_25Y4hc9tGVK_v7za4E95HyQrYnvCXu_VBDNtd76ef9kU0fMCMvzbug_qw7McoxVjJJYTXuFsrAybQ8HZUYSAHfJV5BSg-5DAZ0jcne6i0_uXwRqcu8APztaXkhoY_qiH3Co5IpXRusxdNyOOdfq7etyi3yONgAor3VD3rReu4MRWva8PmYHJPbHekZPBXs4YlZRqW2NS55Nn4dU8SA_zvph0Z2bJrsjsoXb7fYJrw3F30Txk5E-KCEyN0Q-7JYY8iL6kFLTwbwOpnTFn_ws35ZoQKpqGKKiVnJ3sAeuLN_My9hrSEpDZVhxlYeuclJunzSsDo1TE4ri3Lx0BBxRoLx4Gt3X48eZXS9Qy0oTFC6TTD2T-umnEmojm%22%2C%22page_number%22%3A2%2C%22em%22%3Afalse%2C%22tr%22%3Anull%7D'\n",
    "}"
   ]
  },
  {
   "cell_type": "markdown",
   "metadata": {},
   "source": [
    "keywords_search, encoded_title, page_number 고치기 &'('는 decode '\\'는 encode\n",
    "json.dumps : dict to json\n",
    "json.loads : json to dict"
   ]
  },
  {
   "cell_type": "code",
   "execution_count": null,
   "metadata": {},
   "outputs": [],
   "source": [
    "URL1 = 'https://www.facebook.com/'\n",
    "URL2 = 'https://www.facebook.com/login/device-based/regular/login/?login_attempt=1&lwv=111'\n",
    "URL3 = 'https://www.facebook.com/'\n",
    "URL4 = 'https://www.facebook.com/search/?q=%ED%8C%8C%EC%9D%B4%EC%8D%AC&searchtype=posts&ref=side_filter&epa=FILTERS&fb_dtsg_ag=AQz-9-RsKjuxpJ7zjPpzSPE3mQvjmZOLkSGIgKCcGRE-_w%3AAQwn-gojmwVFltFwnzdVrIcZW-LtaL7ys1iXNcGvYbznwQ&jazoest=28427&filters=eyJycF9hdXRob3IiOiJ7XCJuYW1lXCI6XCJtZXJnZWRfcHVibGljX3Bvc3RzXCIsXCJhcmdzXCI6XCJcIn0ifQ%3D%3D&ajaxpipe=1&ajaxpipe_token=AXgQP9SiecVn2g3G&quickling[version]=1000612571%3B0%3B'\n",
    "URL5 = 'https://www.facebook.com/ajax/pagelet/generic.php/BrowseScrollingSetPagelet?fb_dtsg_ag=AQwawOZidmqve96NkwJ6rDRXGgKe1cGmhn9GH5ScDGBF6A%3AAQydsX31ICif-PtYlG2R8j6d1TngqbX7jD-8h5baJlHXBg&'"
   ]
  },
  {
   "cell_type": "markdown",
   "metadata": {},
   "source": [
    "print(urllib.parse.urlencode(data))"
   ]
  },
  {
   "cell_type": "code",
   "execution_count": null,
   "metadata": {
    "scrolled": true
   },
   "outputs": [],
   "source": [
    "with requests.Session() as session:\n",
    "    r = session.get(URL1)\n",
    "    cookie = r.headers['set-cookie']\n",
    "    headers = {\n",
    "        'User-Agent': 'Mozilla/5.0 (Windows NT 10.0; Win64; x64) AppleWebKit/537.36 (KHTML, like Gecko) Chrome/73.0.3683.103 Safari/537.36', \n",
    "        'Accept-Encoding': 'gzip, deflate', \n",
    "        'Accept': '*/*', \n",
    "        'Connection': 'keep-alive',\n",
    "        'cookie' : cookie,\n",
    "    }\n",
    "    session.headers['user-agent'] = 'Mozilla/5.0 (Windows NT 10.0; Win64; x64) AppleWebKit/537.36 (KHTML, like Gecko) Chrome/73.0.3683.103 Safari/537.36'\n",
    "    r = session.post(URL2, data = login_form, headers = headers)\n",
    "#     print(r.text)\n",
    "\n",
    "    print(dict(session.cookies))\n",
    "#     session.headers['cookie'] = session.cookies\n",
    "    r = session.get(URL3)\n",
    "    print(session.headers,'\\n')\n",
    "#     print(r.text)\n",
    "\n",
    "#     payload = _get_payload(100010743251101)\n",
    "#     print(URL4 + \"&%s\" % urllib.parse.urlencode(payload))\n",
    "    print(URL4)\n",
    "    r = session.get(URL4)\n",
    "#     r = session.get(URL4 + \"&%s\" % urllib.parse.urlencode(payload))\n",
    "#     print(session.cookies,'\\n')\n",
    "#     print(r.cookies,'\\n')\n",
    "\n",
    "#여기까진 됨!\n",
    "\n",
    "#     print(URL5 + urllib.parse.urlencode(data)+ '&dpr=1.5&jazoest=28427')\n",
    "#     ORURL = 'https://www.facebook.com/ajax/pagelet/generic.php/BrowseScrollingSetPagelet?fb_dtsg_ag=AQwawOZidmqve96NkwJ6rDRXGgKe1cGmhn9GH5ScDGBF6A%3AAQydsX31ICif-PtYlG2R8j6d1TngqbX7jD-8h5baJlHXBg&data=%7B%22view%22%3A%22list%22%2C%22encoded_query%22%3A%22%7B%5C%22bqf%5C%22%3A%5C%22keywords_blended_posts(%5C%5Cu0025ED%5C%5Cu00258C%5C%5Cu00258C%5C%5Cu0025EC%5C%5Cu00259D%5C%5Cu0025B4%5C%5Cu0025EC%5C%5Cu00258D%5C%5Cu0025AC)%5C%22%2C%5C%22browse_sid%5C%22%3A%5C%226cad73b2ae6ffd4f96934c74975766e8%5C%22%2C%5C%22typeahead_sid%5C%22%3Anull%2C%5C%22vertical%5C%22%3A%5C%22content%5C%22%2C%5C%22post_search_vertical%5C%22%3Anull%2C%5C%22intent_data%5C%22%3Anull%2C%5C%22requestParams%5C%22%3A%7B%5C%22filter_config%5C%22%3A%5C%22merged_public_posts_see_more%5C%22%2C%5C%22kw_blender_module_dependency_graph_config%5C%22%3A%5C%22merged_public_posts_see_more%5C%22%2C%5C%22kw_blender_wpr_sizing_config%5C%22%3A%5C%22merged_public_posts_see_more_wpr_sizing%5C%22%2C%5C%22no_override_params%5C%22%3A%5C%22[%5C%5C%5C%22kw_blender_wpr_sizing_config%5C%5C%5C%22]%5C%22%7D%2C%5C%22has_chrono_sort%5C%22%3Afalse%2C%5C%22query_analysis%5C%22%3Anull%2C%5C%22subrequest_disabled%5C%22%3Afalse%2C%5C%22token_role%5C%22%3A%5C%22NONE%5C%22%2C%5C%22preloaded_story_ids%5C%22%3A[]%2C%5C%22extra_data%5C%22%3Anull%2C%5C%22disable_main_browse_unicorn%5C%22%3Afalse%2C%5C%22entry_point_scope%5C%22%3Anull%2C%5C%22entry_point_surface%5C%22%3Anull%2C%5C%22entry_point_action%5C%22%3A%5C%22FILTERS%5C%22%2C%5C%22squashed_ent_ids%5C%22%3A[]%2C%5C%22source_session_id%5C%22%3Anull%2C%5C%22preloaded_entity_ids%5C%22%3A[]%2C%5C%22preloaded_entity_type%5C%22%3Anull%2C%5C%22block_preloaded_entity_ids_deduping%5C%22%3Afalse%2C%5C%22high_confidence_argument%5C%22%3Anull%2C%5C%22query_source%5C%22%3Anull%2C%5C%22logging_unit_id%5C%22%3A%5C%22browse_serp%3A70f333d1-3771-d600-3c48-383696816f46%5C%22%2C%5C%22query_title%5C%22%3Anull%2C%5C%22serp_decider_outcome%5C%22%3Anull%2C%5C%22infobox_context%5C%22%3A%7B%5C%22kgid%5C%22%3Anull%7D%7D%22%2C%22encoded_title%22%3A%22WyJcdTAwMjVFRFx1MDAyNThDXHUwMDI1OENcdTAwMjVFQ1x1MDAyNTlEXHUwMDI1QjRcdTAwMjVFQ1x1MDAyNThEXHUwMDI1QUMiXQ%22%2C%22ref%22%3A%22unknown%22%2C%22logger_source%22%3A%22www_main%22%2C%22typeahead_sid%22%3A%22%22%2C%22tl_log%22%3Afalse%2C%22impression_id%22%3A%220b4tn1yDjNBslEWtX%22%2C%22filter_ids%22%3A%7B%22100005066911637%3A1130217430490477%22%3A%22100005066911637%3A1130217430490477%22%2C%22126010530765006%3A2450769981622371%22%3A%22126010530765006%3A2450769981622371%22%7D%2C%22experience_type%22%3A%22grammar%22%2C%22exclude_ids%22%3Anull%2C%22browse_location%22%3A%22browse_location%3Abrowse%22%2C%22trending_source%22%3Anull%2C%22reaction_surface%22%3Anull%2C%22reaction_session_id%22%3Anull%2C%22ref_path%22%3A%22%2Fsearch%2Fposts%2F%22%2C%22is_trending%22%3Afalse%2C%22topic_id%22%3Anull%2C%22place_id%22%3Anull%2C%22story_id%22%3Anull%2C%22callsite%22%3A%22browse_ui%3Ainit_result_set%22%2C%22has_top_pagelet%22%3Atrue%2C%22display_params%22%3A%7B%22crct%22%3A%22none%22%2C%22mrss%22%3Atrue%7D%2C%22cursor%22%3A%22Abpjmzw_s9DvS2l59GzZ1YRSiNHmoJBL9YUq5wTbRSq0IiXqwQqU748xI2HIJ79udsYmNRiFafc52amre3-UUpEwzt-dFRTTV6W6qOrjJmIEfG15ljLqVZ6ulZ2dB9VLu_eIVftgcCMdOWw27WnsBCLFqCdwqawFjFeMgw0PdPl7elEKptQwYf2tmjIx6cgwhoBv8qdoHLQSAyET9hCVYRs3kHceQAOZ5JfdedLN8ikzHj0jxQdKP7cLs82hqlTI33aQ-BaD3KDuiIdbfXy0O2iizU1F8zEAo_6xvjSPYK3V-xDDAoKCDx_gJGbPrkDlr4wYaZDHeLxK9FBU4G2DHMfeSb2jxIDEzHXYKxt7UZtJgaRz1N_-2FwyzRK4XsLn2-Uotf1e0EY9adzubY_0L4hBh7oNyRgrxSXMe34piOYJRC9FLuz9vbeNlK1eE0nJx27QvrSBhCrUL_jHx25NWqB2MObReHxBngoMEGOiH1DZkGGOzZKOj0riGgDEAByU59aFrY60LNi3LGuJDr_cq9yAB3re_mK3vBWjtZxraFFYuquXbUOw_d1eNjrj58Gum6T4jAeGqp0Zra-sUQaPEXWib1Lm5Z9loogT8dXXvdQtvQIdTSV0XmYFI4CqqDe13CDowZeatKzheZhyIRH0f_ODHRsOrgRo87yozWbzgaRuJMMU2RwfBw0kEbFb_jF0myfC3iERUw68vhBMeIZn2JB26qYlLoBaRS71Y4WnK3ksm_2NO2yb1v3gz5d_pWvuT-BCLI6leWC2yMiHRXBdJ9rkFl62esBIvFlDBpacCbdXXMeAQ3EtXAZjSbbJ7u2Kejc17Zlyljp0UkiXbF-f40yAn1vpWg1dSlwcVfoxdQDQeOeB1EgIwo7k8rw71IwX-K4GhvkMi1iHtZsAKMBcAj6rRKBusHmRwCT_WHk7enTX5X6v3VwIF-AW_Js2GmtIib-Ooqq31pGEN9HvBhWSOzC5PNvVELH6tKIiyRM4nC487J1V0NyqpLW6RaqCw1AoHF9patikcVnx0-EWoQ78DUUmns5cFrABu6wEHgCSU2I7ZdOWEzFJYSatUz5XzIn7eHGfZ6kwAFEuhvwELa-ozez9dAy3aGUo1BBBuUDOS0VUfF0JPUFWtKuuRzZIfnpDD7PllRKdAMdNwGBQSk_PZOhydM2ZNdE_25Y4hc9tGVK_v7za4E95HyQrYnvCXu_VBDNtd76ef9kU0fMCMvzbug_qw7McoxVjJJYTXuFsrAybQ8HZUYSAHfJV5BSg-5DAZ0jcne6i0_uXwRqcu8APztaXkhoY_qiH3Co5IpXRusxdNyOOdfq7etyi3yONgAor3VD3rReu4MRWva8PmYHJPbHekZPBXs4YlZRqW2NS55Nn4dU8SA_zvph0Z2bJrsjsoXb7fYJrw3F30Txk5E-KCEyN0Q-7JYY8iL6kFLTwbwOpnTFn_ws35ZoQKpqGKKiVnJ3sAeuLN_My9hrSEpDZVhxlYeuclJunzSsDo1TE4ri3Lx0BBxRoLx4Gt3X48eZXS9Qy0oTFC6TTD2T-umnEmojm%22%2C%22page_number%22%3A2%2C%22em%22%3Afalse%2C%22tr%22%3Anull%7D&__user=100010743251101&__a=1&__dyn=7AgNe-4amaAxd2u6aJGeFxqeCwDKEyGzEy4arWo8ovxGdwIhE98nwgUau2W8xCbnyorxuF89XxWUW3KFUe8HzobrCCx3wCgoDxicxu5od8cEiwBx61cxq2fwmWxW5u1EzFVk1nwxwIx6WxS68nxK2C12xm7UK7UaU-1uUkBz_G48-1yyV8y4EhwIXxK8BojU8V8gzaz9rBxefxbwAxG5otx6i8G5WUpxCcAh9ogVFXAy8aElxeaCzUcUjz8oG5E98e8Wrz8mgK7o88vwEy84C68cEqw&__req=34&__be=1&__pc=PHASED%3Aufi_home_page_pkg&dpr=1.5&__rev=1000636429&__comet_req=false&jazoest=27782&__spin_r=1000636429&__spin_b=trunk&__spin_t=1556083043'\n",
    "#     URL = URL5+data['data']+'&__user=100010743251101&__a=1&__dyn=7AgNe-4amaAxd2u6aJGeFxqeCwDKEyGzEy4arWo8ovxGdwIhE98nwgUau2W8xCbnyorxuF89XxWUW3KFUe8HzobrCCx3wCgoDxicxu5od8cEiwBx61cxq2fwmWxW5u1EzFVk1nwxwIx6WxS68nxK2C12xm7UK7UaU-1uUkBz_G48-1yyV8y4EhwIXxK8BojU8V8gzaz9rBxefxbwAxG5otx6i8G5WUpxCcAh9ogVFXAy8aElxeaCzUcUjz8oG5E98e8Wrz8mgK7o88vwEy84C68cEqw&__req=34&__be=1&__pc=PHASED%3Aufi_home_page_pkg&dpr=1.5&__rev=1000636429&__comet_req=false&jazoest=27782&__spin_r=1000636429&__spin_b=trunk&__spin_t=1556083043'\n",
    "    URL = 'https://www.facebook.com/ajax/pagelet/generic.php/BrowseScrollingSetPagelet?fb_dtsg_ag=AQw3EznKMKwEmrV66Y9qM3Gx0Ra95SWwDjV17NZZBFZe4A%3AAQxAslqxlsLam2UNG_wRXVNb8cZ7lvlbONlc4XXNMlEEJA&data=%7B%22view%22%3A%22list%22%2C%22encoded_query%22%3A%22%7B%5C%22bqf%5C%22%3A%5C%22keywords_blended_posts(%5C%5Cu0025ED%5C%5Cu00258C%5C%5Cu00258C%5C%5Cu0025EC%5C%5Cu00259D%5C%5Cu0025B4%5C%5Cu0025EC%5C%5Cu00258D%5C%5Cu0025AC)%5C%22%2C%5C%22browse_sid%5C%22%3A%5C%224c73fea2d30a6797bf39f99e655623fb%5C%22%2C%5C%22typeahead_sid%5C%22%3Anull%2C%5C%22vertical%5C%22%3A%5C%22content%5C%22%2C%5C%22post_search_vertical%5C%22%3Anull%2C%5C%22intent_data%5C%22%3Anull%2C%5C%22requestParams%5C%22%3A%7B%5C%22filter_config%5C%22%3A%5C%22merged_public_posts_see_more%5C%22%2C%5C%22kw_blender_module_dependency_graph_config%5C%22%3A%5C%22merged_public_posts_see_more%5C%22%2C%5C%22kw_blender_wpr_sizing_config%5C%22%3A%5C%22merged_public_posts_see_more_wpr_sizing%5C%22%2C%5C%22no_override_params%5C%22%3A%5C%22[%5C%5C%5C%22kw_blender_wpr_sizing_config%5C%5C%5C%22]%5C%22%7D%2C%5C%22has_chrono_sort%5C%22%3Afalse%2C%5C%22query_analysis%5C%22%3Anull%2C%5C%22subrequest_disabled%5C%22%3Afalse%2C%5C%22token_role%5C%22%3A%5C%22NONE%5C%22%2C%5C%22preloaded_story_ids%5C%22%3A[]%2C%5C%22extra_data%5C%22%3Anull%2C%5C%22disable_main_browse_unicorn%5C%22%3Afalse%2C%5C%22entry_point_scope%5C%22%3Anull%2C%5C%22entry_point_surface%5C%22%3Anull%2C%5C%22entry_point_action%5C%22%3A%5C%22FILTERS%5C%22%2C%5C%22squashed_ent_ids%5C%22%3A[]%2C%5C%22source_session_id%5C%22%3Anull%2C%5C%22preloaded_entity_ids%5C%22%3A[]%2C%5C%22preloaded_entity_type%5C%22%3Anull%2C%5C%22block_preloaded_entity_ids_deduping%5C%22%3Afalse%2C%5C%22high_confidence_argument%5C%22%3Anull%2C%5C%22query_source%5C%22%3Anull%2C%5C%22logging_unit_id%5C%22%3A%5C%22browse_serp%3Ab14c3f62-cec1-476b-a037-4812f0a834af%5C%22%2C%5C%22query_title%5C%22%3Anull%2C%5C%22serp_decider_outcome%5C%22%3Anull%2C%5C%22infobox_context%5C%22%3A%7B%5C%22kgid%5C%22%3Anull%7D%7D%22%2C%22encoded_title%22%3A%22WyJcdTAwMjVFRFx1MDAyNThDXHUwMDI1OENcdTAwMjVFQ1x1MDAyNTlEXHUwMDI1QjRcdTAwMjVFQ1x1MDAyNThEXHUwMDI1QUMiXQ%22%2C%22ref%22%3A%22unknown%22%2C%22logger_source%22%3A%22www_main%22%2C%22typeahead_sid%22%3A%22%22%2C%22tl_log%22%3Afalse%2C%22impression_id%22%3A%220N11zzBHfSvuwgyWJ%22%2C%22filter_ids%22%3A%7B%221458337376%3A10217237384314172%22%3A%221458337376%3A10217237384314172%22%2C%22283749879019437%3A389580175103073%22%3A%22283749879019437%3A389580175103073%22%7D%2C%22experience_type%22%3A%22grammar%22%2C%22exclude_ids%22%3Anull%2C%22browse_location%22%3A%22browse_location%3Abrowse%22%2C%22trending_source%22%3Anull%2C%22reaction_surface%22%3Anull%2C%22reaction_session_id%22%3Anull%2C%22ref_path%22%3A%22%2Fsearch%2F%22%2C%22is_trending%22%3Afalse%2C%22topic_id%22%3Anull%2C%22place_id%22%3Anull%2C%22story_id%22%3Anull%2C%22callsite%22%3A%22browse_ui%3Ainit_result_set%22%2C%22has_top_pagelet%22%3Atrue%2C%22display_params%22%3A%7B%22crct%22%3A%22none%22%2C%22mrss%22%3Atrue%7D%2C%22cursor%22%3A%22AbrnpcNoAXv5v62M3_9x2fcVN_20GN1hPlg5ft1K1o3kCvUPSdS_U-8FOtXjonoIldkaVf9LxEt0M1y1RZc1KWesxehgDDAcb5s02QMm-4rd79xAsZLxUdIwlshR1BVdXXla-IjALLy2avjak2hM07SIL4_Xprn4QmZ4tTJ65JqEQlNfm694rQxCDbIZa7-bwqfAE_bjJn_WOWDqk7BoMr0ig49X0LS7qUB5P_pnIpVMXzCtC4oy0yU1Pb8kGZKX9NnCF689tvIDMDNWLL6Y6S633wgQldKOC-KCn3xn69OSXLV_V5hFmw2xa2C6FGwLon4DjPuUrZjju-bwMGJO8SMlfEDM48fLyTslbbqfM0ug28eMZX3CYgD-xMnXSMXb83H6AfKctKiDy7M_Mtn8xz1SXRjw_oC-vcclp9bxNNMNqr5-p7wpX-XCODHl_tIeZFe8heMaJbkIMoB_2i9x1XuppOcuB4xY5Vh_4i_KzQP-o7lqouuMiw6-b648LB_n9il_CS_tCODxtu95KIF7Ij0KD-EcC8v2To4nYlSCt60v2eLAqbgDFO7JplqszVxJgXOQeBkXEtElodgr6s_uRMoCj0ZD2ZMjPnI9BtQ6m5GIk-sWzO5jymjwtS8OUkXOpL3-r9G6Fb67siZQ7VyfAROFZmsJWhdfTiOWKS6OIBjU8sh-twG0v99QtdlX8TlNiE-uBnoo0y2Cg9_j-ZlOCBMldIGqfEbVnbFvZgv3mVo1eanMAeJE45jk3KClRX9JaiOadFjk5nJTV5oMfUoMBf2V2MAgGdAdqRHF-pZpW3FIlJ3P6DRcnPAz0kyWTB-1GBuBJ4SbV8IcP3Ua-CQXqfWCvaE1I7D7loJFM-PT6Cv7smuPP3hZVJUoqGyfutxNemgiEZBpcp7JYFuQPa3xc646jQF5BmoRiB_ZWNGM0gVBNoa49qI78b5Q-ggufp8-EkegVdUD-yc7TWrFh4anT2xHlhNqchQQmpnrmGVVc0B5B_KjQZt4mOrn2eJe9dIJI-2QNLLC9zU9qRetPwKmIjlqwJDqmTp7yS2d1IXNHEpgoMKLLtGNyAO3b_QWdQ6NObO3-VUbSqyL1tTT5EL22xfPBaEXi8qbA_CT-u5lh1YxQbhgIkejz8FUTTU6g7tToW_MPBLe09c1Gvtt2P_5bPiy4dZWIqvxqC7TGllXIOj5j_HE749-Yaw2ZsRmP2F6kWFTMzrWIBi7LRK7eu9wQdLCzj1lFELAzasBS5At0EVz4bUz4rHeuSVigHTesQTOfUjqL5LbCXu0FAFToGuUtnQLPZP5J6U6eK4oYCwGVLQ7LTEk8yO3PqbERfJYkJMBlFts9TEkfA71CAGvZ7Xp_ru9qwpDj4qcEsuc5xXmGCns5_CKiAHIsiMRzE3sa6AO4VuyGdq76U5MC-fB2wbPzFQLQjxx2nMaX7HEIHCZ3s6kON0UcZWWzD7Vdt_6puv1yiktAz1L4nYCAoa2z9RNPwbQmAULNruyNyDurj_VCfLNLsK3e2Q97yrjeCN695jKlVikc6a3Oh-SiCKz-KkQDrzvTxjz70bhmLb_gT1oxDZD5karI431CPs2tigp45EhJa0%22%2C%22page_number%22%3A2%2C%22em%22%3Afalse%2C%22tr%22%3Anull%7D&__user=100010743251101&__a=1&__dyn=7AgNe-4am2d2u6aJGeFxqewKKEKEW8x2C-C267Uqzob4q2i5U4e2DwTwBGbxK5WwIK7HzEeWDwUyKdwJx64e2u69Ukz8nxm3i3a4E9ohwoU8-1rG7ElwupVo5y263WWxS68nxK2C12xm7UK7UaU-1uxN3LG487abAy8ix62PK6UylxfwzxmcGcBKm4U-4K3-5od8y7orxCcAh8mUWV8y2G2CaCzUcUjz8oG5E98e8Wrz8mgK7o884y8woEcEqwTwNw&__req=n&__be=1&__pc=PHASED%3Aufi_home_page_pkg&dpr=1.5&__rev=1000678468&__comet_req=false&jazoest=27863&__spin_r=1000678468&__spin_b=trunk&__spin_t=1557206818'\n",
    "    r = session.get(URL)\n",
    "    j = r.text"
   ]
  },
  {
   "cell_type": "code",
   "execution_count": null,
   "metadata": {},
   "outputs": [],
   "source": [
    "post = j.split(';',3)[3]"
   ]
  },
  {
   "cell_type": "code",
   "execution_count": null,
   "metadata": {},
   "outputs": [],
   "source": [
    "print(post)"
   ]
  },
  {
   "cell_type": "code",
   "execution_count": null,
   "metadata": {},
   "outputs": [],
   "source": [
    "json.loads(post)"
   ]
  },
  {
   "cell_type": "markdown",
   "metadata": {},
   "source": [
    "좋아요 : payload-> jsmods -> pre_display_requires ->if require[0] == RelayPrefetchedStreamCache ->[1]->__bbox->result->data->feedback->top_reactions->edges\n",
    "순서대로 1,2,4,3,7,8"
   ]
  },
  {
   "cell_type": "markdown",
   "metadata": {},
   "source": [
    "내용 : payload-> jsmods -> pre_display_requires ->if require[0] == RelayPrefetchedStreamCache->[1]->__bbox->result->data->feedback->url"
   ]
  },
  {
   "cell_type": "markdown",
   "metadata": {},
   "source": [
    "작성자,날짜 : payload에 있음.or url로 들어가서 bs이용"
   ]
  },
  {
   "cell_type": "markdown",
   "metadata": {},
   "source": [
    "d = str({\n",
    "    \"view\":\"list\",\n",
    "    \"encoded_query\":\"{\\\n",
    "        'bqf':'keywords_search(\\\\u0025ED\\\\u00258C\\\\u00258C\\\\u0025EC\\\\u00259D\\\\u0025B4\\\\u0025EC\\\\u00258D\\\\u0025AC)',\\\n",
    "        'browse_sid':'6f56b10a584f5990140cf2199c90bac3',\\\n",
    "        'typeahead_sid':null,\\\n",
    "        'vertical':'content',\\\n",
    "        'post_search_vertical':'feed',\\\n",
    "        'intent_data':null,\\\n",
    "        'requestParams':[],\\\n",
    "        'has_chrono_sort':false,\\\n",
    "        'query_analysis':null,\\\n",
    "        'subrequest_disabled':false,\\\n",
    "        'token_role':'NONE',\\\n",
    "        'preloaded_story_ids':[],\\\n",
    "        'extra_data':null,\\\n",
    "        'disable_main_browse_unicorn':false,\\\n",
    "        'entry_point_scope':null,\\\n",
    "        'entry_point_surface':null,\\\n",
    "        'entry_point_action':'SEARCH_BOX',\\\n",
    "        'squashed_ent_ids':[],\\\n",
    "        'source_session_id':null,\\\n",
    "        'preloaded_entity_ids':[],\\\n",
    "        'preloaded_entity_type':null,\\\n",
    "        'block_preloaded_entity_ids_deduping':false,\\\n",
    "        'high_confidence_argument':null,\\\n",
    "        'query_source':null,\\\n",
    "        'logging_unit_id':'browse_serp:dfa23c31-ad1a-28f9-cb39-5aefc0345656',\\\n",
    "        'query_title':null,\\\n",
    "        'serp_decider_outcome':null\\\n",
    "    }\",\n",
    "    \"encoded_title\":\"WyJcdTAwMjVFRFx1MDAyNThDXHUwMDI1OENcdTAwMjVFQ1x1MDAyNTlEXHUwMDI1QjRcdTAwMjVFQ1x1MDAyNThEXHUwMDI1QUMiXQ\",\n",
    "    \"ref\":\"unknown\",\n",
    "    \"logger_source\":\"www_main\",\n",
    "    \"typeahead_sid\":\"\",\n",
    "    \"tl_log\":false,\n",
    "    \"impression_id\":\"0zrG0uMeWCgiUvfTl\",\n",
    "    \"filter_ids\":{\"150315075024307\":150315075024307},\n",
    "    \"experience_type\":\"grammar\",\n",
    "    \"exclude_ids\":null,\n",
    "    \"browse_location\":\"browse_location:browse\",\n",
    "    \"trending_source\":null,\n",
    "    \"reaction_surface\":null,\n",
    "    \"reaction_session_id\":null,\n",
    "    \"ref_path\":\"/search/top/\",\n",
    "    \"is_trending\":false,\n",
    "    \"topic_id\":null,\n",
    "    \"place_id\":null,\n",
    "    \"story_id\":null,\n",
    "    \"callsite\":\"browse_ui:init_result_set\",\n",
    "    \"has_top_pagelet\":true,\n",
    "    \"display_params\":{\"crct\":\"none\",\"mrss\":true},\n",
    "    \"cursor\":\"AboG-_1hN003fJ9QvX0a3iViN_KCp6tvGJ4dUC703-I7necU0MCiWoBho1hEPGxtP0PiKfmWZyqk6Ka0vzHnZOmhHI0i-L8NiplXRxQ_i0JR8nfLdaHLZugPnGDJ3vTUbvI-7x24VOUOCnKwkgJLA9Il9RqOwV6EXTsu-qflHAd1MA5OSLk9uD8RX-GL2BQYzK37JJ6knITvgxwLJcNRngUs2dZH7aHow5oi8Bzj7qnh6LbuosVOhXzw0VScWM1-h_bVhljVZJtfcCiQvFOqFILpTvZ0YX36HIazEgK2MnSk_LU9KUx4NB-njcy7SgfyqBWEuqk4XFbKz4VNXIlIfgAfEBkCVcvRoMqn_klNwb32AnwZ4U2SXvn2D7r14SyV18IhLigwT19lM5NfZZmNgSTQ784VJq9mcL9BYW2SfA6SMj5nwkWgGCpZ9_M828PDm-9uDofozVMMqCosxhunf0GQu-hMQf78W5nL3M9buaS3mSyqzoErwpQR52D3xAk0e3gwU-NOvm-BfEnm46-6E1QDt9pBSHywI-mTuyJYU9Kd9Yve8xLVfJrViikCIbRElH-hnTn2IklbtLvwB8cgDUqHVaHGmrIMDQ3c3ww0nlm1utLiB4z7g2wuFt-VzYkvpCRDD7pel6vgJZEU_tfMCHiIBUSgCwqjoEzvct3bjU51iKn9VspE2GCU55KVtCOu85htzTRliPqOiUwRSdKzHO2y5v-jTC2V2VQ9F5JQgYe5v0h92TbfDRA3b3hZWIglRU5L7RnckncM271whVClnk-utGFPjEJqL_UJgBa3GDK6ZfIOH0T549UKnL9b5ZE9fnZIuYkPBxJeRi-hY7MzWBqrJCvA10HqWRSXximSRFKzJ7eVnY9oMlyOuuUAzHt91CsAtbsAA_xt_0XJUTdCJr4WrUuCqDgF01dKevEEUiyPDKPCgUK9JdWnf9H2D7MqV07pekeeMmIlu5tMEOiQ2uJzyeRrU8Uyu23whGJQbWFExZ6eWL9aTkdin1SXfqnsWSHIFpYavxKGovU-OLiBPlE6UlVwTBffGUVMNTLTg1k6TIM30qOG1Ehmo5XZ5y5ZSC1CYGwSmk0yepuNc7F0GzpZieHq8z0U2-asjOPxZX7q_uICbsA3kbW73GghPTPboVB0WvQ7_qNhPcNj6gsN_9rE3imKupnQLmTsCWgQ9ReoEuXr2Mo0CzqsammsztZqhrsw05iys6z4ItSjOr31IoVIajWwIA1uCFr8N2mW641swIszG5hqIoopm33Zk4AekS0CPUPVAvcAyD3QY0-wuhp6_CTOvbcOuoE7ZOvx_FTQARy_5AYyP0oizBNVXhbaOBZeJSWY2sTX-lOM0nnU9P8Lu1Ym0kODcLpZES2jdPb2zAnSd0Q-Jt07MS_AoKldevmwfx9X72nr2x4myMsrMEPwi7Qne0y38y74E6P8OQmgm5jNa1hwiyIZebalGPu8d1iRX_s-4FyZiawkt-Ec7v6_LXKTrQRMKhQvymPAEf6_JU5W5K67nuUjr_cbIPfHbTu5xpmhIrJU2HwtYwPy6WF__RHymGsn9Q-MpR18KzkmZbPLX68L8296-aJGoF1rR_YjpwoO27MED1VMn5zl8Waswyy-UxbqlxPli3h0osMIiuXph091DHcDGz5b2YlBpzinaRneKRSjcEUsI5QWnCVnPzKJ7KXfZlU9NUdj-wPOmrLFOkJOnOG1EBGmNWoVDW2t4IEAyZtY38HKVnilFvljzSXPThRAbxTQqZPJwxgXXD-unwV2I__btbuxrIj8woHfDCY4Pu94U7CxlxFHkxlgnkBTWljR6fGy2IBUECSD9KyhwR_9I-C5rq7RZ5yFoTivvoDWBTuT6JG7zYV77hJn1kxL3rZu_w5V0rZfthPfItdhv9JZhK7VA6HfDuB1ejZssREPNNhafFQX8k7bYwKRy4qM3i7M9AO3z8H818A5wULjj2c7hq-OBFw4wI6IKdxzimquEK9EBz7co174O-0qj6JZD6mRaVh7UtmCPnGkdYw0w8tXO0Yib6wBGsRzvA2ujUiRXPgIEXbbVzTij6rF66lcWjvDOKvgBcSexo3QPkMLcj3yyue4RLl8xNHZGB4cwFRnVSZHT9VkfPbKHx5wLjZpTiwT-rStLRGhDWOvfVzm9N_OIoqiQBhEiVPEr3zpphvfSwk5QXWOQByQFfs5UsMWfJugCuQkmCvpjhLv9in9k5G7JqzsoIMmzCKpwVK9b0_67chFF14KCQooX7ddRbQs5V0y4O9T2edoaUFA4x5589JSL3BNGh7XJoQc8We_pgOQ8IlR1ZsY6M5RsvLuKanRgzjlJoWMxtpsel66dZiXRtVQxv6uVB7m3_5JX7QFp1Gj6Xli4a6ojbB63GB1eaypW0051RFWtXpzoiFVGP0SSRRFJqRDQskDaeFftflyLiK2q_R0Nn47mzS9vvEE8Q5crkSx3-trgC3y7q4kt1rJ5gw4ThGmUDNlOa7F3NXRLQpggBvdLykzgmvodaaz7XUTT8HYD5oCj0PIZnO2xsPf8tNXqHZOqxiicykg9YDRj8Q-JW08b5BgwbC0HRG5Qk1as90J0SJqOaH_DN13M9zWuNVM5vEHznnbjQMZOKnG29KILhRYOycQVd-Dw_TEcBtue5pCP7GwNlMGVSOeJQh3sAOOnxvqCwvANvQ0Ust4Xlc786_inQ9R_B2u-0gy9Zx0WjSma_id6FwSZUwyC94Fimnb342-p-LEApqjdTP41d1DlPOta6IeWI9klxQF2sHoambE5DxiRmk1CLseV4F0FQ3dYaXivD3ulm5A3VzIESyetPVKPNlCLMbNdmOZkR5yQVIZHhPlM-4VTGg-DakXw-uQ_cDJNMGKqB48G3G669c5X5hXqeONKVWjpNUOjb6WCsujZSkqnskE5lg6h0ST1IQEiSxzGst-mAWtk2KVTXfetp69MUTu7tpw84cCgl0qY8tqkrXvdAMgs6eQjTLrvpygtoH9Jriov3JeForRQn8ahCkntJBALIeTUK1axXHiZLdcUXGGK8qRG7z7VyVX0VJe125e0IEpiy-I7o14S_Ji3VyWWM0nJZlJIqierbKWEbo7SQRgdVFN5JKidIzsEqJY_TrLA10Sqba3t_3nGRH3kaiwEYshbmIwD873sGikARF1PfhD8HtACA07nC2-tUIqW_DfLJli4yX34vw-4VhSep3FXX1reTZZ6qf4RTAWwcN8bfA1prjjE7eUvxlTJL5AjIvTrswWAvXq-NXYZXa3O9zZjylYITGx3bS5jluQJO35we7O8fN5v-KJglFANjU-Hp1-JI25CEk6FeM\",\n",
    "    \"page_number\":2,\n",
    "    \"em\":false,\n",
    "    \"tr\":null\n",
    "})"
   ]
  }
 ],
 "metadata": {
  "kernelspec": {
   "display_name": "Python 3",
   "language": "python",
   "name": "python3"
  },
  "language_info": {
   "codemirror_mode": {
    "name": "ipython",
    "version": 3
   },
   "file_extension": ".py",
   "mimetype": "text/x-python",
   "name": "python",
   "nbconvert_exporter": "python",
   "pygments_lexer": "ipython3",
   "version": "3.6.5"
  }
 },
 "nbformat": 4,
 "nbformat_minor": 2
}
