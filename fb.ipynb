{
 "cells": [
  {
   "cell_type": "code",
   "execution_count": 2,
   "metadata": {},
   "outputs": [],
   "source": [
    "import requests\n",
    "import json\n",
    "from bs4 import BeautifulSoup\n",
    "import base64\n",
    "import urllib"
   ]
  },
  {
   "cell_type": "code",
   "execution_count": null,
   "metadata": {},
   "outputs": [],
   "source": [
    "login_form = {\n",
    "    'email' : '821080299729',\n",
    "    'pass' : 'godforever01',\n",
    "}"
   ]
  },
  {
   "cell_type": "code",
   "execution_count": null,
   "metadata": {},
   "outputs": [],
   "source": [
    "q = '{\"view\":\"list\",\\\n",
    "\"encoded_query\":\"{\\\"bqf\\\":\\\"keywords_blended_posts(\\\\u0025ED\\\\u00258C\\\\u00258C\\\\u0025EC\\\\u00259D\\\\u0025B4\\\\u0025EC\\\\u00258D\\\\u0025AC)\\\",\\\"browse_sid\\\":\\\"136fc5fde0581d7cb6bdba76470ea230\\\",\\\"typeahead_sid\\\":null,\\\"vertical\\\":\\\"content\\\",\\\"post_search_vertical\\\":null,\\\"intent_data\\\":null,\\\"requestParams\\\":{\\\"filter_config\\\":\\\"merged_public_posts_see_more\\\",\\\"kw_blender_module_dependency_graph_config\\\":\\\"merged_public_posts_see_more\\\",\\\"kw_blender_wpr_sizing_config\\\":\\\"merged_public_posts_see_more_wpr_sizing\\\",\\\"no_override_params\\\":\\\"[\\\\\\\"kw_blender_wpr_sizing_config\\\\\\\"]\\\"},\\\"has_chrono_sort\\\":false,\\\"query_analysis\\\":null,\\\"subrequest_disabled\\\":false,\\\"token_role\\\":\\\"NONE\\\",\\\"preloaded_story_ids\\\":[],\\\"extra_data\\\":null,\\\"disable_main_browse_unicorn\\\":false,\\\"entry_point_scope\\\":null,\\\"entry_point_surface\\\":null,\\\"entry_point_action\\\":\\\"FILTERS\\\",\\\"squashed_ent_ids\\\":[],\\\"source_session_id\\\":null,\\\"preloaded_entity_ids\\\":[],\\\"preloaded_entity_type\\\":null,\\\"block_preloaded_entity_ids_deduping\\\":false,\\\"high_confidence_argument\\\":null,\\\"query_source\\\":null,\\\"logging_unit_id\\\":\\\"browse_serp:68bdd8cf-a446-3d78-6b91-522f09d237b0\\\",\\\"query_title\\\":null,\\\"serp_decider_outcome\\\":null,\\\"infobox_context\\\":{\\\"kgid\\\":null}}\",\\\n",
    "\"encoded_title\":\"WyJcdTAwMjVFRFx1MDAyNThDXHUwMDI1OENcdTAwMjVFQ1x1MDAyNTlEXHUwMDI1QjRcdTAwMjVFQ1x1MDAyNThEXHUwMDI1QUMiXQ\",\\\n",
    "\"ref\":\"unknown\",\\\n",
    "\"logger_source\":\"www_main\",\\\n",
    "\"typeahead_sid\":\"\",\\\n",
    "\"tl_log\":true,\\\n",
    "\"impression_id\":\"0RxrqmHKm1DqizFY0\",\\\n",
    "\"filter_ids\":{\"113537842660287:314346595912743\":\"113537842660287:314346595912743\",\"100005394011648:2838336286206889\":\"100005394011648:2838336286206889\"},\\\n",
    "\"experience_type\":\"grammar\",\\\n",
    "\"exclude_ids\":null,\\\n",
    "\"browse_location\":\"browse_location:browse\",\\\n",
    "\"trending_source\":null,\"reaction_surface\":null,\"reaction_session_id\":null,\"ref_path\":\"/search/posts/\",\"is_trending\":false,\"topic_id\":null,\"place_id\":null,\"story_id\":null,\"callsite\":\"browse_ui:init_result_set\",\"has_top_pagelet\":true,\\\n",
    "\"display_params\":{\"crct\":\"none\",\"mrss\":true},\\\n",
    "\"cursor\":\"AbpJGMog0OMkA5Uzrfx7fJoFiSwBYhBb7ma3nzj1D1AVnkaDUofBG_KWWMLvIC8OqxLhZU6h1YxTM7GRICjVTRjvr2G61D3G3yT8q4daua6igugCdbox6_hVcK2qcDY5k-JjDBV5QnzGGclxi64HA4wB_tMD1S_KWoAovZUEwhgt0Tw3wvJXHBm_2U1kMRAC0Dv8mE6TAK3Q6sAUU_3aWYebp4w1Nxjn-Jf1YkuDzRGQu4ddP-p54hYCXLPZimMAJJVQ5TqxPOKVsrqaE_9WRVIDu2VC9magKm_LL-HxZqv4r40KWlBCogPp9_QnnGhm9j-YzHKuH6WKYoFZgOKycgWRoqr96zMF-ufEmY7uDJ9VpsBWYYLnYM-xIke6KZukjxned462ZmbUa35cE2w2-ypno4wGF6DVjKKFSr6IXOqNeTgW89EwNycr0AkvCOG5-Z3OuuNGUcHf0wnuq_MJzxpqx16Wsv8gwWX2_Ks8_Mx3bs1DsdmCRiEBdweAsd2fnxuYiZ0lods5UkqDFv5SD0JtajO1ScrhH1_RSOIzIEgmBKp9H3YeRXRixObLSwrBVrm-cy5xJlB_sNffSFvXVwI1DvU9ZnHisKJVnAwywCYxgQXRl5DcpTOjZqSL2OJNU5b5KuIAfvBeutSbnQfWK5w9w3vCC0qKg2kSJtmUh7tHgerVWZzFdrbX8zN5gsyXKJSpjnPOJyCBoMLvTxP9SdlWi7TID26kRgXadeQhCSARE3W9j3Tx64XFHHcYSp0Jv_Rd5MyyZKgiSa6dHUaZonjsdDXuYNJGtTT8D9HE9ii2TYpjmtcCB0tLM9V6evbZTIJ0UWheO9h1E1CwOTwNu7kC6RVkmRVKGUjz0parFPbFasOuQEzfoGNuP6usKgol_3bNO6g1JiYFjN2hdzlZuHx0rGveGfVKkhb_byz_AQ_Z1YFgi55ZmI7IV0lKQFnunPTkQ9GJus5XpWXSwneeSSdmd31PE3g6VX0J5VyOuhgVUEK2OPemWZuuh4GcV08wjJOQzTVO-mw9PJACRekJKy4KGH1dyDA2Y1x086IBmknDpGgvUTe6cvIV2gXnkrUvEqM-UcZm5-0pvh_k9XPHvkgE42LflKFy9NjluOnQDUTYJnHCzXHPQKnf8Neok6xZCsA5t8o7HsxzwqW9dEE2G_U6bmdjFRJ88Qv1MzXk0YWAp2s1jHGbjlNgSNMUEx2ZFy3jHJDCyU3zdenWlrWXHsgWC_6mT-3fHCOSS7bKZ8NLMfVC85LySYBdZloi7Mt6MYhk4GH3prCAiA8Vz5PfB5JhMFcmBgtQrKZ7WoIOPOBo5Enx4ECM9MPylOaLDu6mVEcE2jDO6zfuZskK_BjtMnrN9shI_pjHSQ5t08wuhIDWYpyJT9yERiQgEaGWYr_KaX-5KULUj_Wcx9Ct-KcxiW-wZEJRpUdVn6G98bf3j2aV34AyYBGVjfNgOg9PFNCVdOUWMkP6rmbB47pdGB5GzBf4ZoRgpl9jgLVlF1pqmOOe3sF-ZjUCkPJaN7_WWj8oOLkBSd_Arnu04UKEKmjzVc_Dh89eoDCUMGcajxEhCHBQDwCjeCIs5FbnmCYS7ikC3C0\",\\\n",
    "\"page_number\":2,\"em\":false,\"tr\":null}'"
   ]
  },
  {
   "cell_type": "code",
   "execution_count": 6,
   "metadata": {},
   "outputs": [
    {
     "data": {
      "text/plain": [
       "b'\\xed\\x8c\\x8c\\xec\\x9d\\xb4\\xec\\x8d\\xac'"
      ]
     },
     "execution_count": 6,
     "metadata": {},
     "output_type": "execute_result"
    }
   ],
   "source": [
    "# q = json.dumps('')\n",
    "# urllib.parse.quote(q)\n",
    "s = '파이썬'\n",
    "u = urllib.parse.quote(s)\n",
    "# u.decode('utf-8').encode('utf-8')\n",
    "u'파이썬'.encode('utf-8')"
   ]
  },
  {
   "cell_type": "code",
   "execution_count": null,
   "metadata": {},
   "outputs": [],
   "source": [
    "s = '\\\\u0025ED\\\\u00258C\\\\u00258C\\\\u0025EC\\\\u00259D\\\\u0025B4\\\\u0025EC\\\\u00258D\\\\u0025AC'\n",
    "s = json.dumps(s)\n",
    "print(s)\n",
    "urllib.parse.quote(s)"
   ]
  },
  {
   "cell_type": "markdown",
   "metadata": {},
   "source": [
    "keywords_search, encoded_title, page_number 고치기 &'('는 decode '\\'는 encode\n",
    "json.dumps : dict to json\n",
    "json.loads : json to dict"
   ]
  },
  {
   "cell_type": "code",
   "execution_count": null,
   "metadata": {},
   "outputs": [],
   "source": [
    "URL1 = 'https://www.facebook.com/'\n",
    "URL2 = 'https://www.facebook.com/login/device-based/regular/login/?login_attempt=1&lwv=111'\n",
    "URL3 = 'https://www.facebook.com/'\n",
    "URL4 = 'https://www.facebook.com/search/?searchtype=posts&ref=side_filter&epa=FILTERS&fb_dtsg_ag=AQz-9-RsKjuxpJ7zjPpzSPE3mQvjmZOLkSGIgKCcGRE-_w%3AAQwn-gojmwVFltFwnzdVrIcZW-LtaL7ys1iXNcGvYbznwQ&jazoest=28427&filters=eyJycF9hdXRob3IiOiJ7XCJuYW1lXCI6XCJtZXJnZWRfcHVibGljX3Bvc3RzXCIsXCJhcmdzXCI6XCJcIn0ifQ%3D%3D&ajaxpipe=1&ajaxpipe_token=AXgQP9SiecVn2g3G&quickling[version]=1000612571%3B0%3B&q='\n",
    "URL5 = 'https://www.facebook.com/ajax/pagelet/generic.php/BrowseScrollingSetPagelet?fb_dtsg_ag=AQw3EznKMKwEmrV66Y9qM3Gx0Ra95SWwDjV17NZZBFZe4A%3AAQxAslqxlsLam2UNG_wRXVNb8cZ7lvlbONlc4XXNMlEEJA&__user=100010743251101&__a=1&__dyn=7AgNe-4amaAxd2u6aJGeFxqeCwDKEyGzEy4arWo8ovxGdwIhE98nwgUau3u2lu9xK5WwIKaxeUW3KFUe8HzobrCCx3wCgoDxicxu5od8cEiwBx61zwzU5KEuxm1VDBwm88o99UhKEtxy5UrwFwgElx-bx-2KfwnK59o_Wx28CwKwPG8AhUix62PK6UylxfwzAx2cGcBKm4U-4K2i6ElxS4p8yEnHxC6oOh4Bx3CDKi8wGxm4UGqfwPxecxyEmwAwUzFKcxp2Utwwx-2y8wioowOxG3u36&__req=81&__be=1&__pc=PHASED%3Aufi_home_page_pkg&dpr=1.5&__rev=1000680358&__comet_req=false&jazoest=27863&__spin_r=1000680358&__spin_b=trunk&__spin_t=1557211858&'"
   ]
  },
  {
   "cell_type": "markdown",
   "metadata": {},
   "source": [
    "print(urllib.parse.urlencode(data))"
   ]
  },
  {
   "cell_type": "code",
   "execution_count": null,
   "metadata": {
    "scrolled": true
   },
   "outputs": [],
   "source": [
    "with requests.Session() as session:\n",
    "    r = session.get(URL1)\n",
    "    cookie = r.headers['set-cookie']\n",
    "    headers = {\n",
    "        'User-Agent': 'Mozilla/5.0 (Windows NT 10.0; Win64; x64) AppleWebKit/537.36 (KHTML, like Gecko) Chrome/73.0.3683.103 Safari/537.36', \n",
    "        'Accept-Encoding': 'gzip, deflate', \n",
    "        'Accept': '*/*', \n",
    "        'Connection': 'keep-alive',\n",
    "        'cookie' : cookie,\n",
    "    }\n",
    "    session.headers['user-agent'] = 'Mozilla/5.0 (Windows NT 10.0; Win64; x64) AppleWebKit/537.36 (KHTML, like Gecko) Chrome/73.0.3683.103 Safari/537.36'\n",
    "    r = session.post(URL2, data = login_form, headers = headers)\n",
    "\n",
    "    print(dict(session.cookies))\n",
    "    r = session.get(URL3)\n",
    "    print(session.headers,'\\n')\n",
    "\n",
    "    URL4 += urllib.parse.quote('파이썬')\n",
    "    print(URL4)\n",
    "    r = session.get(URL4)\n",
    "#     r = session.get(URL4 + \"&%s\" % urllib.parse.urlencode(payload))\n",
    "#     print(session.cookies,'\\n')\n",
    "#     print(r.cookies,'\\n')\n",
    "\n",
    "#여기까진 됨!\n",
    "    query = 'python'\n",
    "#한글인 경우와 영어인 경우 나누기\n",
    "    URL6 = URL5 + 'data=%7B%22view%22%3A%22list%22%2C%22encoded_query%22%3A%22%7B%5C%22bqf%5C%22%3A%5C%22keywords_blended_posts('+')%5C%22%2C%5C%22browse_sid%5C%22%3A%5C%22136fc5fde0581d7cb6bdba76470ea230%5C%22%2C%5C%22typeahead_sid%5C%22%3Anull%2C%5C%22vertical%5C%22%3A%5C%22content%5C%22%2C%5C%22post_search_vertical%5C%22%3Anull%2C%5C%22intent_data%5C%22%3Anull%2C%5C%22requestParams%5C%22%3A%7B%5C%22filter_config%5C%22%3A%5C%22merged_public_posts_see_more%5C%22%2C%5C%22kw_blender_module_dependency_graph_config%5C%22%3A%5C%22merged_public_posts_see_more%5C%22%2C%5C%22kw_blender_wpr_sizing_config%5C%22%3A%5C%22merged_public_posts_see_more_wpr_sizing%5C%22%2C%5C%22no_override_params%5C%22%3A%5C%22[%5C%5C%5C%22kw_blender_wpr_sizing_config%5C%5C%5C%22]%5C%22%7D%2C%5C%22has_chrono_sort%5C%22%3Afalse%2C%5C%22query_analysis%5C%22%3Anull%2C%5C%22subrequest_disabled%5C%22%3Afalse%2C%5C%22token_role%5C%22%3A%5C%22NONE%5C%22%2C%5C%22preloaded_story_ids%5C%22%3A[]%2C%5C%22extra_data%5C%22%3Anull%2C%5C%22disable_main_browse_unicorn%5C%22%3Afalse%2C%5C%22entry_point_scope%5C%22%3Anull%2C%5C%22entry_point_surface%5C%22%3Anull%2C%5C%22entry_point_action%5C%22%3A%5C%22FILTERS%5C%22%2C%5C%22squashed_ent_ids%5C%22%3A[]%2C%5C%22source_session_id%5C%22%3Anull%2C%5C%22preloaded_entity_ids%5C%22%3A[]%2C%5C%22preloaded_entity_type%5C%22%3Anull%2C%5C%22block_preloaded_entity_ids_deduping%5C%22%3Afalse%2C%5C%22high_confidence_argument%5C%22%3Anull%2C%5C%22query_source%5C%22%3Anull%2C%5C%22logging_unit_id%5C%22%3A%5C%22browse_serp%3A68bdd8cf-a446-3d78-6b91-522f09d237b0%5C%22%2C%5C%22query_title%5C%22%3Anull%2C%5C%22serp_decider_outcome%5C%22%3Anull%2C%5C%22infobox_context%5C%22%3A%7B%5C%22kgid%5C%22%3Anull%7D%7D%22%2C%22encoded_title%22%3A%22WyJcdTAwMjVFRFx1MDAyNThDXHUwMDI1OENcdTAwMjVFQ1x1MDAyNTlEXHUwMDI1QjRcdTAwMjVFQ1x1MDAyNThEXHUwMDI1QUMiXQ%22%2C%22ref%22%3A%22unknown%22%2C%22logger_source%22%3A%22www_main%22%2C%22typeahead_sid%22%3A%22%22%2C%22tl_log%22%3Atrue%2C%22impression_id%22%3A%220RxrqmHKm1DqizFY0%22%2C%22filter_ids%22%3A%7B%22113537842660287%3A314346595912743%22%3A%22113537842660287%3A314346595912743%22%2C%22100005394011648%3A2838336286206889%22%3A%22100005394011648%3A2838336286206889%22%7D%2C%22experience_type%22%3A%22grammar%22%2C%22exclude_ids%22%3Anull%2C%22browse_location%22%3A%22browse_location%3Abrowse%22%2C%22trending_source%22%3Anull%2C%22reaction_surface%22%3Anull%2C%22reaction_session_id%22%3Anull%2C%22ref_path%22%3A%22%2Fsearch%2Fposts%2F%22%2C%22is_trending%22%3Afalse%2C%22topic_id%22%3Anull%2C%22place_id%22%3Anull%2C%22story_id%22%3Anull%2C%22callsite%22%3A%22browse_ui%3Ainit_result_set%22%2C%22has_top_pagelet%22%3Atrue%2C%22display_params%22%3A%7B%22crct%22%3A%22none%22%2C%22mrss%22%3Atrue%7D%2C%22cursor%22%3A%22AbpJGMog0OMkA5Uzrfx7fJoFiSwBYhBb7ma3nzj1D1AVnkaDUofBG_KWWMLvIC8OqxLhZU6h1YxTM7GRICjVTRjvr2G61D3G3yT8q4daua6igugCdbox6_hVcK2qcDY5k-JjDBV5QnzGGclxi64HA4wB_tMD1S_KWoAovZUEwhgt0Tw3wvJXHBm_2U1kMRAC0Dv8mE6TAK3Q6sAUU_3aWYebp4w1Nxjn-Jf1YkuDzRGQu4ddP-p54hYCXLPZimMAJJVQ5TqxPOKVsrqaE_9WRVIDu2VC9magKm_LL-HxZqv4r40KWlBCogPp9_QnnGhm9j-YzHKuH6WKYoFZgOKycgWRoqr96zMF-ufEmY7uDJ9VpsBWYYLnYM-xIke6KZukjxned462ZmbUa35cE2w2-ypno4wGF6DVjKKFSr6IXOqNeTgW89EwNycr0AkvCOG5-Z3OuuNGUcHf0wnuq_MJzxpqx16Wsv8gwWX2_Ks8_Mx3bs1DsdmCRiEBdweAsd2fnxuYiZ0lods5UkqDFv5SD0JtajO1ScrhH1_RSOIzIEgmBKp9H3YeRXRixObLSwrBVrm-cy5xJlB_sNffSFvXVwI1DvU9ZnHisKJVnAwywCYxgQXRl5DcpTOjZqSL2OJNU5b5KuIAfvBeutSbnQfWK5w9w3vCC0qKg2kSJtmUh7tHgerVWZzFdrbX8zN5gsyXKJSpjnPOJyCBoMLvTxP9SdlWi7TID26kRgXadeQhCSARE3W9j3Tx64XFHHcYSp0Jv_Rd5MyyZKgiSa6dHUaZonjsdDXuYNJGtTT8D9HE9ii2TYpjmtcCB0tLM9V6evbZTIJ0UWheO9h1E1CwOTwNu7kC6RVkmRVKGUjz0parFPbFasOuQEzfoGNuP6usKgol_3bNO6g1JiYFjN2hdzlZuHx0rGveGfVKkhb_byz_AQ_Z1YFgi55ZmI7IV0lKQFnunPTkQ9GJus5XpWXSwneeSSdmd31PE3g6VX0J5VyOuhgVUEK2OPemWZuuh4GcV08wjJOQzTVO-mw9PJACRekJKy4KGH1dyDA2Y1x086IBmknDpGgvUTe6cvIV2gXnkrUvEqM-UcZm5-0pvh_k9XPHvkgE42LflKFy9NjluOnQDUTYJnHCzXHPQKnf8Neok6xZCsA5t8o7HsxzwqW9dEE2G_U6bmdjFRJ88Qv1MzXk0YWAp2s1jHGbjlNgSNMUEx2ZFy3jHJDCyU3zdenWlrWXHsgWC_6mT-3fHCOSS7bKZ8NLMfVC85LySYBdZloi7Mt6MYhk4GH3prCAiA8Vz5PfB5JhMFcmBgtQrKZ7WoIOPOBo5Enx4ECM9MPylOaLDu6mVEcE2jDO6zfuZskK_BjtMnrN9shI_pjHSQ5t08wuhIDWYpyJT9yERiQgEaGWYr_KaX-5KULUj_Wcx9Ct-KcxiW-wZEJRpUdVn6G98bf3j2aV34AyYBGVjfNgOg9PFNCVdOUWMkP6rmbB47pdGB5GzBf4ZoRgpl9jgLVlF1pqmOOe3sF-ZjUCkPJaN7_WWj8oOLkBSd_Arnu04UKEKmjzVc_Dh89eoDCUMGcajxEhCHBQDwCjeCIs5FbnmCYS7ikC3C0%22%2C%22page_number%22%3A3%2C%22em%22%3Afalse%2C%22tr%22%3Anull%7D'\n",
    "    print(URL6)\n",
    "    r = session.get(URL6)\n",
    "    j = r.text"
   ]
  },
  {
   "cell_type": "code",
   "execution_count": null,
   "metadata": {},
   "outputs": [],
   "source": [
    "post = j.split(';',3)[3]"
   ]
  },
  {
   "cell_type": "code",
   "execution_count": null,
   "metadata": {},
   "outputs": [],
   "source": [
    "# print(post)"
   ]
  },
  {
   "cell_type": "code",
   "execution_count": null,
   "metadata": {},
   "outputs": [],
   "source": [
    "payload = json.loads(post)['payload']\n",
    "soup = BeautifulSoup(payload,'html.parser')"
   ]
  },
  {
   "cell_type": "code",
   "execution_count": null,
   "metadata": {},
   "outputs": [],
   "source": [
    "posts = {\n",
    "    'date' : '',\n",
    "    'writer' : '',\n",
    "    'text' : '',\n",
    "    'emotion' : {},\n",
    "}"
   ]
  },
  {
   "cell_type": "code",
   "execution_count": null,
   "metadata": {},
   "outputs": [],
   "source": [
    "date = []\n",
    "crawl_date = soup.select('abbr')\n",
    "for c in crawl_date:\n",
    "    date.append(c['title'])"
   ]
  },
  {
   "cell_type": "code",
   "execution_count": null,
   "metadata": {
    "scrolled": true
   },
   "outputs": [],
   "source": [
    "writer = []\n",
    "crawl_writer = soup.select('h5 span span a')\n",
    "for i,c in enumerate(crawl_writer):\n",
    "    if c.text == '' and c['href'][0] != '/':\n",
    "        writer.append(c['href'])"
   ]
  },
  {
   "cell_type": "code",
   "execution_count": null,
   "metadata": {},
   "outputs": [],
   "source": [
    "text = []\n",
    "crawl_text = soup.select('div[data-testid=\"post_message\"]')\n",
    "for c in crawl_text:\n",
    "    text.append(c.text)"
   ]
  },
  {
   "cell_type": "code",
   "execution_count": null,
   "metadata": {},
   "outputs": [],
   "source": [
    "emotions = []\n",
    "jsmods = json.loads(post)['jsmods']['pre_display_requires']\n",
    "for jsmod in jsmods:\n",
    "    emotion = {}\n",
    "    if jsmod[0] == 'AsyncData':\n",
    "        continue\n",
    "    js = jsmod[3][1]['__bbox']['result']['data']['feedback']['top_reactions']['edges']\n",
    "    print(jsmod[3][1]['__bbox']['result']['data']['feedback']['url'])\n",
    "    for emo in js:\n",
    "        react = str(emo['node']['key'])\n",
    "        count = emo['reaction_count']\n",
    "        emotion.update({react:count})\n",
    "    emotions.append(emotion)"
   ]
  },
  {
   "cell_type": "markdown",
   "metadata": {},
   "source": [
    "좋아요 : 1,\n",
    "최고에요 : 2,\n",
    "멋져요 : 3,\n",
    "웃겨요 : 4,\n",
    "슬퍼요 : 7,\n",
    "화나요 : 8\n",
    "\n",
    "좋아요 순서 고치기"
   ]
  },
  {
   "cell_type": "code",
   "execution_count": null,
   "metadata": {},
   "outputs": [],
   "source": [
    "for i in range(len(date)):\n",
    "    posts['date'] = date[i]\n",
    "    posts['writer'] = writer[i]\n",
    "    posts['text'] = text[i]\n",
    "    posts['emotion'] = emotions[i]\n",
    "    print(posts,'\\n')"
   ]
  },
  {
   "cell_type": "code",
   "execution_count": null,
   "metadata": {},
   "outputs": [],
   "source": []
  },
  {
   "cell_type": "code",
   "execution_count": null,
   "metadata": {},
   "outputs": [],
   "source": []
  }
 ],
 "metadata": {
  "kernelspec": {
   "display_name": "Python 3",
   "language": "python",
   "name": "python3"
  },
  "language_info": {
   "codemirror_mode": {
    "name": "ipython",
    "version": 3
   },
   "file_extension": ".py",
   "mimetype": "text/x-python",
   "name": "python",
   "nbconvert_exporter": "python",
   "pygments_lexer": "ipython3",
   "version": "3.6.5"
  }
 },
 "nbformat": 4,
 "nbformat_minor": 2
}
