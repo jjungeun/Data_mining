{
 "cells": [
  {
   "cell_type": "code",
   "execution_count": 1,
   "metadata": {},
   "outputs": [],
   "source": [
    "import requests\n",
    "import json\n",
    "from bs4 import BeautifulSoup\n",
    "import base64\n",
    "import urllib"
   ]
  },
  {
   "cell_type": "code",
   "execution_count": 2,
   "metadata": {},
   "outputs": [],
   "source": [
    "login_form = {\n",
    "    'email' : '821080299729',\n",
    "    'pass' : 비밀번호,\n",
    "}"
   ]
  },
  {
   "cell_type": "markdown",
   "metadata": {},
   "source": [
    "좋아요 : 1,\n",
    "최고에요 : 2,\n",
    "멋져요 : 3,\n",
    "웃겨요 : 4,\n",
    "슬퍼요 : 7,\n",
    "화나요 : 8"
   ]
  },
  {
   "cell_type": "code",
   "execution_count": 3,
   "metadata": {},
   "outputs": [],
   "source": [
    "URL1 = 'https://www.facebook.com/'\n",
    "URL2 = 'https://www.facebook.com/login/device-based/regular/login/?login_attempt=1&lwv=111'\n",
    "URL3 = 'https://www.facebook.com/ajax/pagelet/generic.php/BrowseScrollingSetPagelet?fb_dtsg_ag=AQw3EznKMKwEmrV66Y9qM3Gx0Ra95SWwDjV17NZZBFZe4A%3AAQxAslqxlsLam2UNG_wRXVNb8cZ7lvlbONlc4XXNMlEEJA&__user=100010743251101&__a=1&__dyn=7AgNe-4amaAxd2u6aJGeFxqeCwDKEyGzEy4arWo8ovxGdwIhE98nwgUau3u2lu9xK5WwIKaxeUW3KFUe8HzobrCCx3wCgoDxicxu5od8cEiwBx61zwzU5KEuxm1VDBwm88o99UhKEtxy5UrwFwgElx-bx-2KfwnK59o_Wx28CwKwPG8AhUix62PK6UylxfwzAx2cGcBKm4U-4K2i6ElxS4p8yEnHxC6oOh4Bx3CDKi8wGxm4UGqfwPxecxyEmwAwUzFKcxp2Utwwx-2y8wioowOxG3u36&__req=81&__be=1&__pc=PHASED%3Aufi_home_page_pkg&dpr=1.5&__rev=1000680358&__comet_req=false&jazoest=27863&__spin_r=1000680358&__spin_b=trunk&__spin_t=1557211858&'"
   ]
  },
  {
   "cell_type": "code",
   "execution_count": 4,
   "metadata": {},
   "outputs": [],
   "source": [
    "posts = {\n",
    "    'date' : '',\n",
    "    'writer' : '',\n",
    "    'text' : '',\n",
    "    'emotion' : {},\n",
    "}"
   ]
  },
  {
   "cell_type": "code",
   "execution_count": 5,
   "metadata": {},
   "outputs": [],
   "source": [
    "def encode_query(query):\n",
    "    encode_query = ''\n",
    "    for c in query:\n",
    "        if ord('가') <= ord(c) <= ord('힣'):\n",
    "            b = c.encode('utf-8')\n",
    "            s = bytes(b).hex().upper()\n",
    "            for i,v in enumerate(s):\n",
    "                if i % 2 is 0:\n",
    "                    encode_query += '{}{}'.format('\\\\u0025',v)\n",
    "                else:\n",
    "                    encode_query += v\n",
    "        else:\n",
    "            encode_query += c\n",
    "    \n",
    "    title = '[\"'+encode_query+'\"]'\n",
    "    encode_title = base64.b64encode(title.encode())[:-2].decode('ascii')\n",
    "    return encode_query, encode_title"
   ]
  },
  {
   "cell_type": "code",
   "execution_count": 6,
   "metadata": {},
   "outputs": [],
   "source": [
    "def get_posts(query,title,cursor,page_num, session):\n",
    "    date = []\n",
    "    writer = []\n",
    "    text = []\n",
    "    order = []\n",
    "    js_order = []\n",
    "    emotions = []\n",
    "    page_num += 1\n",
    "    if query != '' and title != '':\n",
    "        URL4 = URL3 + 'data=%7B%22view%22%3A%22list%22%2C%22encoded_query%22%3A%22%7B%5C%22bqf%5C%22%3A%5C%22keywords_blended_posts('+\\\n",
    "            query +')%5C%22%2C%5C%22browse_sid%5C%22%3A%5C%22bf7732b71b8a09949ef18e757b2f78c4%5C%22%2C%5C%22typeahead_sid%5C%22%3Anull%2C%5C%22vertical%5C%22%3A%5C%22content%5C%22%2C%5C%22post_search_vertical%5C%22%3Anull%2C%5C%22intent_data%5C%22%3Anull%2C%5C%22requestParams%5C%22%3A%7B%5C%22filter_config%5C%22%3A%5C%22merged_public_posts_see_more%5C%22%2C%5C%22kw_blender_module_dependency_graph_config%5C%22%3A%5C%22merged_public_posts_see_more%5C%22%2C%5C%22kw_blender_wpr_sizing_config%5C%22%3A%5C%22merged_public_posts_see_more_wpr_sizing%5C%22%2C%5C%22no_override_params%5C%22%3A%5C%22[%5C%5C%5C%22kw_blender_wpr_sizing_config%5C%5C%5C%22]%5C%22%7D%2C%5C%22has_chrono_sort%5C%22%3Afalse%2C%5C%22query_analysis%5C%22%3Anull%2C%5C%22subrequest_disabled%5C%22%3Afalse%2C%5C%22token_role%5C%22%3A%5C%22NONE%5C%22%2C%5C%22preloaded_story_ids%5C%22%3A[]%2C%5C%22extra_data%5C%22%3Anull%2C%5C%22disable_main_browse_unicorn%5C%22%3Afalse%2C%5C%22entry_point_scope%5C%22%3Anull%2C%5C%22entry_point_surface%5C%22%3Anull%2C%5C%22entry_point_action%5C%22%3A%5C%22FILTERS%5C%22%2C%5C%22squashed_ent_ids%5C%22%3A[]%2C%5C%22source_session_id%5C%22%3Anull%2C%5C%22preloaded_entity_ids%5C%22%3A[]%2C%5C%22preloaded_entity_type%5C%22%3Anull%2C%5C%22block_preloaded_entity_ids_deduping%5C%22%3Afalse%2C%5C%22high_confidence_argument%5C%22%3Anull%2C%5C%22query_source%5C%22%3Anull%2C%5C%22logging_unit_id%5C%22%3A%5C%22browse_serp%3Ad5051de5-31bb-2634-a4b2-264bc8d7f3e5%5C%22%2C%5C%22query_title%5C%22%3Anull%2C%5C%22serp_decider_outcome%5C%22%3Anull%2C%5C%22infobox_context%5C%22%3A%7B%5C%22kgid%5C%22%3Anull%7D%7D%22%2C%22encoded_title%22%3A%22'+ \\\n",
    "            title +'%22%2C%22ref%22%3A%22unknown%22%2C%22logger_source%22%3A%22www_main%22%2C%22typeahead_sid%22%3A%22%22%2C%22tl_log%22%3Afalse%2C%22impression_id%22%3A%220X7oOawqEZdCT4I8M%22%2C%22filter_ids%22%3A%7B%22100000734834750%3A2897720113601839%22%3A%22100000734834750%3A2897720113601839%22%2C%22729920077030053%3A2411378802217497%22%3A%22729920077030053%3A2411378802217497%22%7D%2C%22experience_type%22%3A%22grammar%22%2C%22exclude_ids%22%3Anull%2C%22browse_location%22%3A%22browse_location%3Abrowse%22%2C%22trending_source%22%3Anull%2C%22reaction_surface%22%3Anull%2C%22reaction_session_id%22%3Anull%2C%22ref_path%22%3A%22%2Fsearch%2Fposts%2F%22%2C%22is_trending%22%3Afalse%2C%22topic_id%22%3Anull%2C%22place_id%22%3Anull%2C%22story_id%22%3Anull%2C%22callsite%22%3A%22browse_ui%3Ainit_result_set%22%2C%22has_top_pagelet%22%3Atrue%2C%22display_params%22%3A%7B%22crct%22%3A%22none%22%2C%22mrss%22%3Atrue%7D%2C%22cursor%22%3A%22'+\\\n",
    "            cursor +'%22%2C%22page_number%22%3A'+ \\\n",
    "            str(page_num) +'%2C%22em%22%3Afalse%2C%22tr%22%3Anull%7D'\n",
    "        \n",
    "    r = session.get(URL4)\n",
    "    j = r.text\n",
    "    post = j.split(';',3)[3]\n",
    "    json_post = json.loads(post)\n",
    "    \n",
    "    js_cursor = json_post['jsmods']['require']\n",
    "    for jsmod in js_cursor:\n",
    "        if jsmod[0] == 'BrowseScrollingPager':\n",
    "            if jsmod[3][0] is None:\n",
    "                return None\n",
    "            js = dict(**jsmod[3][0])\n",
    "            cursor = js['cursor']\n",
    "            break\n",
    "\n",
    "    payload = json_post['payload']\n",
    "    soup = BeautifulSoup(payload,'html.parser')\n",
    "\n",
    "    crawl = soup.select('div[class=\"_5pcr userContentWrapper\"]')\n",
    "    for c in crawl:\n",
    "        c_date = c.select('abbr:nth-of-type(1)')    # 리포스트 게시물의 경우 2개씩 나옴\n",
    "        c_text = c.select('div[data-testid=\"post_message\"]')\n",
    "        c_order = c.select('div[data-testid=\"story-subtitle\"]')    # 좋아요 순서 랜덤(자바스크립트처리) sync\n",
    "        date.append(c_date[0]['title'])\n",
    "        text.append(c_text[0].text)\n",
    "        order.append(c_order[0]['id'].split('_')[2].split(':')[0])\n",
    "    \n",
    "    crawl_writer = soup.select('h5 span span a')\n",
    "    for i,c in enumerate(crawl_writer):\n",
    "        if c.text == '' and c['href'][0] != '/':\n",
    "            writer.append(c['href'])\n",
    "\n",
    "    jsmod = json_post['jsmods']['pre_display_requires']\n",
    "    for js in jsmod:\n",
    "        emotion = {}\n",
    "        if js[0] == 'AsyncData':\n",
    "            continue\n",
    "            \n",
    "        js_emo = js[3][1]['__bbox']['result']['data']['feedback']['top_reactions']['edges']\n",
    "        \n",
    "        for emo in js_emo:\n",
    "            react = str(emo['node']['key'])\n",
    "            count = emo['reaction_count']\n",
    "            emotion.update({react:count})\n",
    "        emotions.append(emotion)\n",
    "        \n",
    "        js_id = js[3][1]['__bbox']['result']['data']['feedback']['share_fbid']\n",
    "        for i,o in enumerate(order):\n",
    "            if o == js_id:\n",
    "                js_order.append(i)\n",
    "                break\n",
    "\n",
    "    for i in range(len(date)):\n",
    "        posts['date'] = date[i]\n",
    "        posts['writer'] = writer[i]\n",
    "        posts['text'] = text[i]\n",
    "        idx = js_order.index(i)\n",
    "        posts['emotion'] = emotions[idx]\n",
    "        print(posts,'\\n')\n",
    "    \n",
    "    return cursor"
   ]
  },
  {
   "cell_type": "code",
   "execution_count": 7,
   "metadata": {
    "scrolled": true
   },
   "outputs": [],
   "source": [
    "def fb_crawl(q,session):\n",
    "    cursor = ''\n",
    "    query = ''\n",
    "    title = ''\n",
    "\n",
    "    query, title = encode_query(q)\n",
    "\n",
    "    for num in range(0,10):\n",
    "        cursor = get_posts(query,title,cursor,num,session)\n",
    "        if cursor is None:\n",
    "            break"
   ]
  },
  {
   "cell_type": "code",
   "execution_count": 8,
   "metadata": {},
   "outputs": [
    {
     "name": "stdout",
     "output_type": "stream",
     "text": [
      "{'date': '18. 11. 14. 오후 11:48', 'writer': 'https://www.facebook.com/datecourse1/?__tn__=kC-R&eid=ARB0TP1TL81Bms7haAr89EUUnP6VXkZGGfTDdBVX0p8DzmmGXmpNBCpwJAa1L8czbfVKzyZClw08217v&hc_ref=ARTIashhTLRqL4JIZCfrXzhzW_-JnwkhsNQ0LaFymrZIFczJJo5fyzDG9MnMHMRs8y0&fref=nf&__xts__%5B0%5D=68.ARDWNgRT_UEJ8wx9LqLgwH9ImmSYJ2YbcNEdSiqmJwFscy1SCa4yCIvBBhM4liLEOxYZNwtniJ8Dmma2TRhcPVPwXPhdj-bL4DxMDyIawEQnWz_AH7yasHNiHopANi6sYwockQ3KhX17zGjV23JIAdWBTD7oe0y4xxj5WV4nLLHFdO-Gm7D6QzcbH_RyQFd17F5W7DV3iEtk520yMzf_ssPA8wJQFxHtAOZ8ZKgCCzHALR3vI-2mCA2M0MKDrpKRYES6Tdp2oal4uf_2GVgpdYzK4PJhs3HMfrb3vVb53fRowRdnO49Kci7gaLq3uWPe3MQU', 'text': '날 잡고 정주행각 가야지! 넷플릭스 미드추천 가장~ 한번빠지면 헤어나올수 없는 존잼모음이니 꼭 보길 추천 ! 꼭! #미드추천 #넷플릭스미드', 'emotion': {'1': 52}} \n",
      "\n",
      "{'date': '19. 1. 12. 오전 10:00', 'writer': 'https://www.facebook.com/INSSAZERO/?__tn__=kC-R&eid=ARAsw_GY7rR0Sw3QkYkeh0dBdEgmhgTipzJwoF2sDaaUR3wahyKalMK37C52Ag4Suh1rmeGCf2N1Ft8Z&hc_ref=ARSC1h1AJihwQooyXDt-GdUDjP3DGeoWLtzA3Hp39Qx321JiP_54OVTHiyJBDESjAmI&fref=nf&__xts__%5B0%5D=68.ARDDeb_38tQ9n25WRuwZ8BNue9qdjeJXFUWO0gO_B6ikCRMM_p7_ZmA0Wka442aRPN0BLdIRVqlDLcBLdB_Q1ys-vWK40FMFAS6z25dpyxBwRu7B1uKitfp3IJPMUX4IpJAVbOxSYPkDIZQgS-r_k0RvAQotXenCCEtimZW0bnjvQgABsGnxfuWAbkBDI8vM_HSYDAbuuyR72A1LxV_7us5RLa7oRtiC5zeOhIV3AR9Zdb2Sjlzblvq8wKe3u0AnjvmLn-3xkFhAo4CL5bdbA4XKnbycGBv7jpOvQS5Uk1_MdbEkUWq4IxKcfzFlDIeSoDki8zw', 'text': '넷플릭스 꿀팁.jpg', 'emotion': {'1': 712, '3': 4, '2': 1}} \n",
      "\n",
      "{'date': '18. 3. 26. 오후 11:47', 'writer': 'https://www.facebook.com/oneroommaking/?__tn__=kC-R&eid=ARDfAFUa-Ka3Hr8vGn5jFmcU2yS8MltstOU6CkdEZ0oy1nFoggu5fl0rLuRqoStoV0wZBEi2fCrur34K&hc_ref=ARTO5wEcqpm2N9K-HySatemOkGD9ElWFHJC3GrFyKQ0z3lP4NmBA6fYyzgglj690B98&fref=nf&__xts__%5B0%5D=68.ARAdhAC1N4ROHgjaiXGDaQHb3UpEtaEXyFjmHJivA-spQAd9RS0KhyjoIVLewFISzg-K8IRefGOwwn0h1UqHGL3kMJSEl_Q2bfNaCMAx9hEYA9JKzAGqTY2LtmaKzO97DfizEEr3DGunuFlXsa9e9LoGxMm9p8u4R8u_unZR7DAw0WfciwJNyRMSeqmcv_f2mVjbDA5Z2Qh-lgMUc6yUcVcIk_GNN31LmoU2sb-Rr6rIP4h6lPtoOsKObBoFi0YLUhkThCNzo-YD26JBmjHm5K50VRFszaNNKjraHprN3oPJu-8ushW8CP-ncT-kodR8h59e', 'text': '넷플릭스 사용자들 꿀팁 #화질_조절팁', 'emotion': {'1': 973, '3': 3, '2': 2}} \n",
      "\n",
      "{'date': '19. 3. 24. 오후 2:15', 'writer': 'https://www.facebook.com/meggooltip/?__tn__=kC-R&eid=ARCAo1PHYLVdjcmGnbaaGKoAgH5SE2Xg4TtFGQcTFYKdByL8RhTBnci6XygnfiGN9u5Fkjs1RS7XBDdm&hc_ref=ARTEJ_qqnjAY685LPw9U2Mh1AYpqz9lZrZmU3n5Dp_yQP4cuj51boq4RbQNj1Bl0i54&fref=nf&__xts__%5B0%5D=68.ARBgMJjUHLc4YCbsY7WDyx8rhow5bvFx6dNQxy5YPT048IEspP54lSDfxl4KVf58xzJ83edKW3RBgUN9QTisnzLg5k_QjgMOWw8xrE-fIU5Ca6NzKgaevfDYjt0zUla7ixgkTezprWW1pqQkuqgzym64Qp2drKIPLnT46Lyl7wuZK2DsaN0jyAEIVO-YziHa0JHV66JtdBD1AVCa2HlFbByopER4XB-NS6PJqEzo5opHySP37KJVA_mWutnfBhf0SpGdZ5spTeSF90I0nXunuWgu72EmCwHnW910elPZyi6m4uT16ORVbYF6WeuN-RQ8mBDm', 'text': '넷플릭스 정기결제를 부르는 #넷플릭스드라마추천👍 @@집에서 넷플릭스나 실컷 보자〰️', 'emotion': {'1': 276, '2': 3}} \n",
      "\n",
      "{'date': '18. 12. 13. 오전 9:22', 'writer': 'https://www.facebook.com/모두의-예능-1425402134347382/?__tn__=kC-R&eid=ARD7MMMd2dgu7FOBQFfLuVwZHrNwFSR58u_WrWzyhiYhQcjKdh96H-a6CrHXzGPJk0rsv2xUlbCCVerI&hc_ref=ARTdIfThrG_bJ7St-7XEADaQFh_bt0RR46ifr7nc6vFJyG5lPAgbHDsB7b6KFOhKgA0&fref=nf&__xts__%5B0%5D=68.ARD4Y8r92sakrdJhdwddfEtvifpIdTnhahgn-FEGxoGML2112XiOW0xzXpG4ewOrGjgkhWB-1q67xLAGKD216VwNLTZmfBVU7k6pWFPtz8LW22r86DU136sUrcWUh4TI3arddafbF4BgNbNUGJrP3tlYgUre_--TjObNnOsViTqye5Y5JSU3ig436-nHjeANYDup8q0JMhE926CLOrV6LkrbU_0kFnjB_UtMxdYAXNA6E_pF41GnVQdTR6NM3hDMINXbhSHwas4Xw3akIyTRTsNSVf695__df4uWq7Dn8wnfD_3Im_pMlqSXO6IUfsf-c6ZaCzU', 'text': '넷플릭스 가입자를 위한 꿀팁.jpg 이거 완전 좋음ㄷㄷㄷㄷ..', 'emotion': {'1': 358, '2': 5, '3': 1, '7': 1, '8': 1}} \n",
      "\n",
      "{'date': '16. 11. 8. 오전 10:41', 'writer': 'https://www.facebook.com/NetflixKR/?__tn__=kC-R&eid=ARAFpB-NDBFbKJxl9dpv09xQlBF50V6hBR7xwQ_pEBvGfqg_XiHATYB1HDXwYLTP6J2dhBfG-9WCakpE&hc_ref=ARRazUgj-NCQjiu6e8d5Sm397_HU6-1_tf6-UBkK9UqA4baPs2TQSIwqLFi2OBdqPjs&fref=nf&__xts__%5B0%5D=68.ARBxLclUq9RncTCr0YFcfJe_Tl2ZCiDJVTMgb0xLT3N0Cm2kEOORA3m1CAcN7to3tR2Tzjvf2m8RygC64_dc-QTBYytlfUClxEeDKeTO_evfXNFodhyi6ZUIQ2QK8JsHdvxeSc_faYrZlVp9kvKCqfvYNFhRfwgq8A44hrg3JdeZ-lE4JlvSRyFT8ERPc5E0KhXrdxbxfSiwUZAjjqIhYCBdnfYddImYb2qY2ObBNmotK6o9aIeCcGnkRF15GVizkfXTzYJAkI_mVn9d0rZQRd1UTy0zPgT1KpnUAH34X90kBuoHZivAIGEZpn5X61dK1xPA', 'text': '오늘 카톡 프사 지정각  청춘시대 명대사 모음 #넷플릭스 #청춘시대 #명대사', 'emotion': {'1': 119, '2': 1, '7': 1}} \n",
      "\n",
      "{'date': '18. 4. 17. 오전 5:00', 'writer': 'https://www.facebook.com/kdcollegeinside/?__tn__=kC-R&eid=ARC0SfeF0lDZoZJ7wXHHYALZRTa1WWcxaeebA_0ZRnD2n5u5FDq2mTe_Q7issSubf7Vw24bUQ41LPXhk&hc_ref=ARSssgSymNcQ9ma6z0a--gr4GgF9lvUWMwHSx04YDoqLzpDWRsy4Gxk-1_ls5tWvomw&fref=nf&__xts__%5B0%5D=68.ARD2chHBw1fLiGjrAJmZhPUavYU0FLi0tFp6xpG8VH28-ZCIjkPy4Lo9Q5q9LuEq-M2cFgT71KtLKDAq28O37Vc-EpAhKl8JhbJsq1FhweTNShPZb0pz0BPfmW4O_TfgxMqcIrgvmE48NkDPzjn1wCvwVaR7K_Xmx8SNeG85BNOEWMu1tGrKC7f6i67a0CA8_-bh3ZueLz_EVBIU76kOBGezen6JbZKyxkQkou9EG1M2JVtXnkKDq2Z5laEMg5LH3w0IUypQ0y22yZpZ1cFY4js-f75-p3OrJA-dq8U5YZi40qJq9hUIstR7WTmNDxJTZK8', 'text': '미드는 여윽시 몰아봐야 꿀잼 🤣💓 넷플릭스 추천 미드 5개! #미국생활 #미드추천 #넷플릭스 #꿀잼 #핵잼 #주말각 #볼만한미드 #넷플릭스_추천_드라마... College Inside - KoreaDaily.com 라이크하고 미국꿀팁 놓치지마 💛 더 보기', 'emotion': {'1': 32}} \n",
      "\n",
      "{'date': '18. 12. 19. 오후 9:00', 'writer': 'https://www.facebook.com/onehomelife/?__tn__=kC-R&eid=ARB67HDSIAjlrxKXv8jt3vn5TvBtnN1k7WarBj9SiXR34bbmsoab9p4TQojQ_v0NnXXDevLuD_a8MgST&hc_ref=ARS_S7tVFSZ3AtVh69Rw82P3b2QPReCCE3cnLdvuUKVvhoSDc-stnK83qyyx_fObNCU&fref=nf&__xts__%5B0%5D=68.ARDKSBYAoP9zR6nlru9qE6qdJwXyX-q8fwyRQxPCYHcBPUUpfhdz_UE3lnF0biCzlNTLyqd2ZuHP1pyjpCUwV3oD_Ya6H5jFEZo5CvqwBgYZvDdDBslt8kJVSFUqzVyICHXynlDAYttQ5W2keGgt-2rR2erNjyWB0abpsuujzgYUl9XuWZUluxXc76_b_riLObrMXDDIVw-ezHKb5_NPnXduTbpJoxwZMYMeyicTQACoJWYfetdgY9eVbHAr7pzJ8mu6RHa9ixY80RhPukwUvklJgb0kjC1aQdUsoS-7zXq6VTO8iFmdpl9QJG6V9otHw_3j', 'text': '원룸에서 정주행하기 좋은 넷플릭스 띵작추천!! 시험도 끝났는데 미띤듯이 몰아봐야지? @정주행 준비됐음?', 'emotion': {'1': 390, '2': 3}} \n",
      "\n",
      "{'date': '18. 12. 27. 오후 4:10', 'writer': 'https://www.facebook.com/SisterMakeupz/?__tn__=kC-R&eid=ARCqKJMSwtP99zR32e0LeF2owXDuRZCYYDptD736KSi1sEc36HeYgmcURx9f-aj8iTSqyfadPEPZ7Rnp&hc_ref=ARTZdOXLhXMU1zV2eNEAIL1Knr39YTIkCafuEIUHuEjQztJgWlOhMZFu7Au8GQ_A6GA&fref=nf&__xts__%5B0%5D=68.ARAzzXGwaYlc4G-ZrPeX7CiAFFAbfRWkxdGRf9VKMgF9zqdC3fgM2BgmLWYEXYFBhST_F1rSvx-Biel8Sz05OFApC28G6xS2o4bz9ePoYsI5No6YIuhyXFmuQlerVmYyCPAkEsrv04uQcmHiMKSojP38y0yOB27bv6SXMIlExATR2_tyf_QfY8O3TcavuU29wElPld95gqy8Pv9v2xTW67Cc7BjUYH3JMvMPa7FlrTvZMmMCUgd5K8EaS94GJJ0Cxfn2wm5MbOZnb0WeYclcy2d5J6OpQrlZblBydk6YXmhwqG_H_Y3kylnaFL1ojJo8Abs', 'text': '방학에 정주행하기 좋은 넷플릭스 명작추천🙉\\U0001f9e1 이불속에서 귤까먹으면서 정주행하자‼', 'emotion': {'1': 494, '2': 5, '3': 1}} \n",
      "\n",
      "{'date': '18. 7. 27. 오후 2:57', 'writer': 'https://www.facebook.com/outcampus/?__tn__=kC-R&eid=ARA5bpC29KVhhqjELHHBel8mm4JN_86JFclby5FdvCrcucinmgukA6vF1J48CZwdEtqF3MK0ANuEb73l&hc_ref=ARQuU_qlAlp-r-l7rj7YZ5QnwdCyeDV51zg58FsmrZchNht5IAjJaMVPKGUWGEV812c&fref=nf&__xts__%5B0%5D=68.ARAVIaPs7CCPF-Q-h6Keis7fzZoR1BljRqcGub64g82yeI9aAjMVLbdJjT_cqg60sKgetIsEhJVQ6gvE9qGu8sL8dDyQ9jy_DWIJUmXxpBVDWqnQto8VNUzxTGkkkDGIUhRLhtlUYSYjeKz3ZJCJoERqAshascIVS8-ajbi35F8MFiIA-ODPfB4NUyPmWrIbSD6WGcWN7mCJS-rThEXwabJYOB2dXUBvaXMZFcdwUqNmoskZlln7rlMCQh0qiYoFbEfQJn37ozIgOFzhhuykZPvVzxU285LtDfDaR9Ro2W7zl62rV0IPX3ujNC8hDvtCqDF9', 'text': '넷플릭스 가입하면  한 달 무료 시청 가능한 거 알고 있지?? #정주행 #넷플릭스_드라마추천', 'emotion': {'1': 108, '2': 1}} \n",
      "\n",
      "{'date': '17. 1. 19. 오후 4:44', 'writer': 'https://www.facebook.com/NetflixKR/?__tn__=kC-R&eid=ARDF4zzY2NwWe8VpuGtWSyPVfaLBz2DA_LFZWWIaHpC7gswFwnToD0cDO643kNBdipOefr6WHv3eZcL1&hc_ref=ARRFp--eUHJ7Ed7QlelME-8snoFrfW0doWdAc6VYheSQJGuAETwOqweoL7XGUDWtJz4&fref=nf&__xts__%5B0%5D=68.ARCpg2wYBR5FCbQZ-6KSwjZndY3y7hjH5leMQc5pTFM8kTbjJ9AZIjFZw9E5_CaEJMDjqtnTUHexmlyUTo-FsJgt-iHAcmDBrl9v0jHL4HTz72Z2VDPJnQtis3FJw0t4fPpp9YZiX7CrUD7FMFDOhsg9c8Jejwb5GZFPU0oVUM_0eBVOjMN6hFNunserG5_f-fn6c68h_4QN1DquZYBlwO8jFkVSHwtnyKGY5jrxtqpztFNVOnHsdrlI2xcr1ySakemisEpwhj21LeGokJOLqWCr51X8WyOxKuT-48t_2A1Bbh5AUy3xYRxi8gtrp8RKIytx', 'text': '넷플 팬들이 직접 쓴 미드추천사! #넷플릭스 #미드추천 #TheOA #나르코스 #더크젠틀리의전체론적탐정사무소  #오렌지이즈더뉴블랙 #스킨스 #미드 #영드 #너를위한맞춤미드', 'emotion': {'1': 172, '2': 3, '4': 2}} \n",
      "\n",
      "{'date': '18. 9. 18. 오전 1:02', 'writer': 'https://www.facebook.com/Insightnews.page/?__tn__=kC-R&eid=ARArV-NDs8rnTLFYsxjEUMUbkDiciJ770m29IF0a4fzDSzAu2d7XPa-b657ou8TcEOXKfUggCaGM9Aej&hc_ref=ARTMffGr18AEYaQ56ed2pMU7_qulKEp3eXm9cTPxujUQiz8gQ0JMiw4WmKLpgDRyIeU&fref=nf&__xts__%5B0%5D=68.ARCikn5R5DFs2KXkZ7t7dpXWp2LXn8KLbPENfzccHhngpTQl6ozKwsjzFjnqGWC985s8J6uRQsyBwQ0_WXHAJU_wBOHlu3OdNX0PiL-2HCPcmyavKbXvitmiHIN5R8DquiMESMDS3lI_gAheOEsQgcxw-oO5WI9teu1PS6XJ1A28D98q-OlFNwdcAHcGwlStKj7vQn9bewSLQ3NaYiIfGrPQbehW0aMLOlo-ww_sUeClSmpRXb7EdXwtG2AuGEdr81iMvjXXP7TY8pKhBRyzOkVJeDXFeIF9YJCm-9vXPuva4caL9a9ZwvMmZLmCpOxQ82Uj', 'text': '미친듯이 핵달달한 넷플릭스 신작!😽😽', 'emotion': {'1': 9261, '2': 151, '7': 21, '4': 4, '3': 2, '8': 1}} \n",
      "\n",
      "{'date': '19. 2. 24. 오후 8:16', 'writer': 'https://www.facebook.com/oneroommaking/?__tn__=kC-R&eid=ARCQfz1pZ-nLgSK2eYYn7kaWL_HvPtFQ5QGRJ1YhN_8uGQFvRQyZNy64v6L45Sb__Mm8EUGWUL12OaLa&hc_ref=ARR1krI6b0kRYGcsW94_HR1mQb3CpclMeS4_IX5wGduROBBTdFQKJ8AP25T-g5M9MDE&fref=nf&__xts__%5B0%5D=68.ARAhOAvI5mhnxNNsKPb_EIfsOROfpXFwYCBd9PEtfsltKloXh0LV3zy9-ja0OICvL750A4ghxvf17DjxJezX1SGpYAvk-lOGC0xZ8faVHMSwmpN53_TCg4Q9KpJY8TAq_x1cN2pGn0zbGdXf8URtciXAK1ntMkRP8qJUv9diztTcdpsYQaeXJ8Zil7Dji8Opc8cxtDBVO1rpPhTLCB0S8O85riLdFfPVR7mcz-iL80KVq8TDJ5ZPGCkZcgkFz81rBM4hzfkYhM19K3BcxgcNhIDBRaI2DYo6uer3U5yRcXRUm9-IQj7RSkcSZvHongMv36LB', 'text': '아는 사람만 안다는 넷플릭스 개꿀팁👍  넷플릭스 보는 원룸인들은 공유 필수ㄱㄱ 한국영화 www.netflix.com/browse/genre/5685... 코미디 www.netflix.com/browse/genre/6548 로맨틱코미디 www.netflix.com/browse/genre/5475 정치다큐멘터리 www.netflix.com/browse/genre/7018 록&팝콘서트 www.netflix.com/browse/genre/3278 스포츠드라마 www.netflix.com/browse/genre/7243 스포츠영화 www.netflix.com/browse/genre/4370 스파이액션 www.netflix.com/browse/genre/10702 스파이스릴러 www.netflix.com/browse/genre/9147 10대코미디 www.netflix.com/browse/genre/3519 10대드라마 www.netflix.com/browse/genre/9299 10대TV쇼 www.netflix.com/browse/genre/60951 TV쇼 www.netflix.com/browse/genre/83 좀비호러영화 www.netflix.com/browse/genre/75405 아시아액션무비 www.netflix.com/browse/genre/77232 뱀파이어호러무비 www.netflix.com/browse/genre/75804 일본영화 www.netflix.com/browse/genre/10398 액션&어드벤처 www.netflix.com/browse/genre/1365 액션&코미디 www.netflix.com/browse/genre/43040 액션&스릴러 www.netflix.com/browse/genre/43048 TV시리즈스릴러 www.netflix.com/browse/genre/89811 어덜트애니메이션 www.netflix.com/browse/genre/11881 애니시리즈 www.netflix.com/browse/genre/6721 B-호러영화 www.netflix.com/browse/genre/8195 야구영화 www.netflix.com/browse/genre/12339 농구영화 www.netflix.com/browse/genre/12762 영국영화 www.netflix.com/browse/genre/10757 축구영화 www.netflix.com/browse/genre/12549 영국TV쇼 www.netflix.com/browse/genre/52117 아동&가족영화 www.netflix.com/browse/genre/783 클래식무비 www.netflix.com/browse/genre/31574 클래식로맨틱무비 www.netflix.com/browse/genre/31273 클래식TV쇼 www.netflix.com/browse/genre/46553 리얼리티TV www.netflix.com/browse/genre/9833 컬트호러무비 www.netflix.com/browse/genre/10944 흑백영화 www.netflix.com/browse/genre/7687 음식&여행TV www.netflix.com/browse/genre/72436 프랑스영화 www.netflix.com/browse/genre/58807 갱스터영화 www.netflix.com/browse/genre/31851 밀리터리드라마 www.netflix.com/browse/genre/11 0세~2세영화 www.netflix.com/browse/genre/6796 2세~4세영화 www.netflix.com/browse/genre/6218 5세~7세영화 www.netflix.com/browse/genre/5455 8세~10세영화 www.netflix.com/browse/genre/561 11세~12세영화 www.netflix.com/browse/genre/6962 SI-FI&드라마 www.netflix.com/browse/genre/3916 미스터리 www.netflix.com/browse/genre/9994 정치드라마 www.netflix.com/browse/genre/6616 더 보기', 'emotion': {'1': 628, '2': 4, '3': 3}} \n",
      "\n",
      "{'date': '18. 9. 19. 오후 1:53', 'writer': 'https://www.facebook.com/wikitree.page/?__tn__=kC-R&eid=ARBEDYBTosbAKuo7cuGnB1RLQvOXWlfz5wwO4n4FD76lPYYOgSy1hhKoMyb81uGgXoduFBOCfp-G31kl&hc_ref=ARRe0ffOBK3zpL8eCpTAta7zP3tJcxYRN_l4YBteFgH9wpfOImtf-3AQA2f2KFEJkb4&fref=nf&__xts__%5B0%5D=68.ARAlvCZmkD2JpKqhiopyBZFNCZHADt0FBzRLkw_tJ_Buq0iekSxAcxgggH9lyiHdjS-f5IEXB9zdom7vuViV26jP7hiM2ii8_0lVhCgbI7NnRMuU50vsJ-xR2_w7yZ8QNSKGIq86MZ2cWaEwXlkrQAxK1mdr3OCl8AZHUgJjGMpRQEBMEN4Op0u36MSZwLZjaB39zgU72s_ZHb91Xog7mJpU4_CRcOulpW-LXR8Z_VikNilGwTc1ibeUlmj__CQyRv7rc03rQbzBe3N7m5FJI_pvTO-mknwPnQUTTMWJpG6w7GoBEAXBxNbb3LnuCXagUJ7r', 'text': '하루 종일 넷플릭스 봐야겠어요!! (ㅠ_ㅠ)ෆ', 'emotion': {'1': 2463, '2': 39}} \n",
      "\n"
     ]
    },
    {
     "name": "stdout",
     "output_type": "stream",
     "text": [
      "{'date': '19. 1. 29. 오후 4:00', 'writer': 'https://www.facebook.com/NetflixKR/?__tn__=kC-R&eid=ARAAQPHE-kdn7G0aCPThBpPSwg7fWfYVRGVi8RS3458BGBnn8o5KnZf-YDT5O86d7_omHRkC7-pEt6Si&hc_ref=ARTPAU4AbASmqISbdEfCWTNS9hAvl5CAYoZySf1iF2vVQFyG6sp3wgYhumh35uus000&fref=nf&__xts__%5B0%5D=68.ARB__J9Zr5ACZUiYYEPsu9pqqy6WbCzU8YbnYzbJLSRt11HDcIivyhouqgB3l15BLtmETxfGlOvGgYefRan1kFrEUBGg1Bgl-LaRVtYGL98HAXbG93-vZY-LtjHyoFyZhllsuQHthpWGbuGe1P49zsNz9tgacxpvvLHNEblxd3aL8qwrm-SanEg5YHir5rMy0vAAnTEgi2SuVaUsM2kNMBeQfHg53A7-DIwQ1dY3B2vh4EToxjj4jsRIyqNJxtGyjOE5tK-s_4Qt6GSSN4CN6ZBRHH44enmyr0FS2T7tf1b9yapMrx_KAZ63GZ1tRXL1wqgd', 'text': '당신의 ‘원픽 지훈’은? . #넷플릭스 #킹덤 #신과함께 #절찬스트리밍중 #주지훈 #까나안까나잘생겼다 #갓지훈에1표', 'emotion': {'1': 3377, '2': 260, '4': 58, '3': 6}} \n",
      "\n",
      "{'date': '18. 12. 21. 오후 12:11', 'writer': 'https://www.facebook.com/Insightnews.page/?__tn__=kC-R&eid=ARB3JfgAoEL9Y-0PcboPSpueuE9TvDQW3GS4hFp3iRY829pCuNvnyHhgfsR2WOLgU-q2HXtJo5zJDAG1&hc_ref=ARRFZduc9FgQLbaUG8G63a_SJvUYKkxEr_GrKTi9w8o_Mp9I1Q23gjgZkS1VeNEvycw&fref=nf&__xts__%5B0%5D=68.ARCkz5SgJ3sPiYFNVo4OO0ZK0LEMS-q6s3j7y2pZ_ulVlDS8AaemjO4ggyqJ9DGmiIhLyh1cj1puVhopQ_6_EMN1hdG6BLV_KbV5Lg9poweEprtAt3xi3bJX6EOcIfhSx2r7qRXvPw_gH8BIPWjFslOTC3Baka2GAaFwqqVGTv7Wyps4F09MukFf7w7lVF0C8cR_5nTevlV3flcy7XhoBSL6hkDdn0KJsf138B0_ViQ1zyK_ywe0F2oFSFvcyiIrS6hxdrdHdXfDfUnAg_9nw9cjculDit3vY9qhs2Xobg_XJncXxABBMnRgo2zfHfHlaMPi', 'text': '대박 !!', 'emotion': {'1': 4744, '2': 209, '3': 13}} \n",
      "\n",
      "{'date': '16. 9. 12. 오전 10:57', 'writer': 'https://www.facebook.com/NetflixKR/?__tn__=kC-R&eid=ARD_IN_ltM4K8P9Er0Xhyqbs9Zhg-8xbOKG4VGcsAsMm7zUPQaJTQuMAmG7Srzo8gDydMlNGll5QrFz7&hc_ref=ARQ67q9-srDh7siUZM8tRkbXHW2u3E5c6Ll5jkMO7A9r1XNDDDLvaf2EPVhjbCUmB3Y&fref=nf&__xts__%5B0%5D=68.ARBsi8TyWxl0Kv5HkJjs1-eJJLhk9C8hZ2ypw1O7OsFoXLYABOaC1CqRFpQWTcCJtGGxvoDHGgAxvFfhTfPjmdOw_cwrSPOQ7gpZXAUbrOaOjAr0SNsFPTb1NuXkQpIC9k1CQNpmuUMsFE7kZmfHlNwHNSAZioph5kyiPCRJ0Fw3bJitMZM5OFljVgVtx-7Uvrrjbuur3A5g9CaL1wPgyO1Meq5NaB-s853cNRPetaREEXwGelgnYahRfAXOJOSY-B7KXJ-XpUTwFQAcYFuBoV4Z1LN5oSlEj-XqyRM9y4jO6uhHI3_ZN9BqO2-U8zGez3qc', 'text': '하나로 이어진 그들의 세상 #넷플릭스 #기묘한이야기 #지금만나보세요', 'emotion': {'1': 453, '2': 9, '3': 8}} \n",
      "\n",
      "{'date': '16. 2. 6. 오전 10:57', 'writer': 'https://www.facebook.com/namhoon1?__tn__=%2CdC-R-R&eid=ARDNj8WsF-YUjRR-pi-FYeGK5PMAHIAtxmnpZknT6OdjHvJiel6h9HdqNt4M6PCV0vK1KdCrJRRHyKJz&hc_ref=ARRQhSFOxHhfeL31tG0QBgvyFDhKJoTe6YvJ7Qq4ZtyaO2OfIjFGnUfNnRyA-wt2Lyo&fref=nf', 'text': \"사법신뢰지수. 넷플릭스 인기 미드 나르코스의 무대인 콜롬비아와 한 끝 차이고 마약조직이 중소 국경도시를 장악하고 있는 멕시코보다 낮다. 이런 부분에 대해 8년째 국정을 운영하고 있는 쪽에서 최소한 '언급'이라도 있었으면 한다. 대체 왜 이모양 이꼴인지.\", 'emotion': {'1': 292, '8': 1}} \n",
      "\n",
      "{'date': '18. 12. 16. 오후 2:22', 'writer': 'https://www.facebook.com/tiptip010/?__tn__=kC-R&eid=ARCdF-OGDn139CYmgFMOzkSXG9xctGPud_O9c3ur36CHGDuT46e35r2Gq4o7BZsTm-1wh6ArHA1S0A5o&hc_ref=ARRbgJdxgLXMyOdW3RYGqzpoJCvhnxOSCsQwRyZ0g4EULuPzDUPxhTdm_CIp5vBoPgI&fref=nf&__xts__%5B0%5D=68.ARBZqPrYcDk_qgaY5JM0O7QRDAqVRvaFlJ3hJpAf7PS0chPirQcq5MgyfY0Srmfbo0jy2M8uX97L7Km6i0qpVmxc8M_AgfziVUZ3m7FeeiK0Pohvv5fb-Xj8CZWM-bX9Hz6nToC8D8l5rjLJPJyYhu6Ss1PE0FXAM0zqokNrpcfY593iMBtgAmFuITRHZPIcQaxToVE5QenCacLAfDq7IdEdn_EW9G2BTlxeG8tEUCi332bkTe_9jy5Z2V9KHdbLEEHFkHBIoZWhkpePRrJUA6Y8qOY0ALEPs2akmLNCQtkauSns7IW1AD7jthotQCYiLxwq', 'text': '넷플릭스 활용 꿀팁❤️  써먹어봐야지~~', 'emotion': {'1': 148, '2': 1}} \n",
      "\n",
      "{'date': '19. 4. 9. 오후 2:47', 'writer': 'https://www.facebook.com/whiteminer?__tn__=%2CdC-R-R&eid=ARADtXbNkmvdK6CvQINmqhearC_kVMT_guY5hAsch98tDRgMk6Hrrylan0SrWvr504YGqpJKzQNyNVx-&hc_ref=ARRYUh-IFJ5Zs5gviNSGC2YIUIVR9OYwkp6xeUNiuqMJQiLsjW2fqD9URauG3SWUC_4&fref=nf', 'text': '이것, 이미준씨의 글이 바로 진보좌파적 관점의 글이다. 자유주의 우파에서는 FTA 인공지능에 대해 아래 글 필자인 이미준씨와는 전혀 다르게 생각한다.  진보좌파적 관점, 세계관으로는 돈을 벌기 어렵고 소비자들의 욕구도 충족시키기 어렵다. 당연하다. ', 'emotion': {'1': 28, '2': 4}} \n",
      "\n",
      "{'date': '18. 12. 13. 오후 4:31', 'writer': 'https://www.facebook.com/남친몰래-보는-동영상-255711814969761/?__tn__=kC-R&eid=ARAXVN0A7IdBCP8zvmzdv429l4DTKE1h8faOgukHGZKB3bwBaCtIaL0BEWgZiTbm78Ga5GweyBFcUAyz&hc_ref=ARS0Ww5FvavCuSz4VFMaL2D_gQi59X-m-1mbr9qtH-Cz1zb7qgmDCHgS-muj4n8GzkM&fref=nf&__xts__%5B0%5D=68.ARCeQvJVAjgq2iaxzN5YTDdsG0xNRkcZgn9-t0f8LvDtRDwwRjjJ8anUjYcr411hTfNDcIzTRFAvmC5AKDCPqlBaEnNiMDjG0gsJphdWFTt2Vt8IJAMTfHeIUr9cGy4SI4SLYUH-fkHZdPZOLM1j2N0t8IG37QjIk3mBgN3aiTxseFmreYf0YEi0xB91FQxdU_kQwJHGXzE4FuU5iIQy5Z-CwjMUdN_in9tTEv5mI6QCEQGk0gr-csUiAuxCQ2A-jcZJiv3C4NNv33KFm82ckkzQGHm-uEK8rLotMMx-Z5rkugiqAmiwSLmN4iLRKMlXrDY', 'text': '넷플릭스 가입자를 위한 꿀팁 대박.. 다들 참고하세요 ㅋㅋㅋㅋㅋ', 'emotion': {'1': 143, '2': 2}} \n",
      "\n",
      "{'date': '19. 5. 6. 오전 10:44', 'writer': 'https://www.facebook.com/Insightnews.page/?__tn__=kC-R&eid=ARC7Bg-Tzdq5b3iy_hEHcLs0-hw1OHM37In-G_3gqCxzSAJVR70Po0cOZxJsANLF1WPnGPWT6ocNBJWR&hc_ref=ARQIrkvA_QIU0-NMpVMO8NG6c78ebDKmygw07sEDNIVtH90gyclHn1nJQvq2LcYRAxg&fref=nf&__xts__%5B0%5D=68.ARA2pEjMHsUFBjEA3gscdPTpBwlUWFqdUnctdm05oa6CBmElcTOiFQEQ9eEyTQUuFKOskdLo09F3orm0ylXjKBTNnxn0IGTa3u8Ulw0n9IPT6458NHgavV2ulsHkHzGxJGpfI5UD6J-XEJgRpkgxAF_8v05qd8Y8bQdbPnrlACKdiQuNPxG6OJT3BoUFrKncY7oYpmfY1GUQszOBPO1ejCH6EvWuurxwwWXpnL0gsfdMHqrd0IjFimv-LPVVL3WBzsDZorr5pJEtW38IdWbd0ynHHMZPZJhaEHbhAMo2n_QZnmfNz-v6-pB8NR6cKr1fhhhG', 'text': \"'따오밍스' 어서와요..😻\", 'emotion': {'1': 3757, '2': 205, '4': 6, '3': 3, '7': 2, '8': 1}} \n",
      "\n",
      "{'date': '19. 3. 15. 오전 11:09', 'writer': 'https://www.facebook.com/koreadispatch/?__tn__=kC-R&eid=ARDe-3omXX-vfx8rmIuvNLPTMCyPRZDl8HhnL39LiKCjC8BERrhwAVdTAVRPEG3q_WDE4kQGp3qEdRZx&hc_ref=ARRZv1K3Y-MtPWMlGU43krglS6eO5L422UwaTYZS6Hq82UtjHCEUEKsWjQxHeT6-pH4&fref=nf&__xts__%5B0%5D=68.ARAYJ9DRJFCKdDL9ReJWRFfY4ie85NsWZ6mPiOX4dMJFoiTVYsNkJ8E3HD-MtdZsQgCcSq5A7xb34omXLOJ2j66y2YY6c2SJ3jQ97RmpG7fDwvtRB2ZKdFGo3MEJaZB457VcBgujpK4eiaH2_UHWdVcA7IDviCtJuIM0RgtnynlBQUkPmMJ3H6CqmesoHsEpnRtuBXK9r4P4ulbh0QlfGSAwTofWdsDheLxY-iKbfiU1rtjRdzVkErdvLLI_uHMZRFa1Ris2OASlOgy5p26kE7EpZMIPGYCVi0eTucg_q7Vr3Oi85lxA0OD3PpIRRiTi9nDz', 'text': '지난 시즌1 촬영에 이어 또…', 'emotion': {'1': 870, '7': 162, '8': 49, '2': 1}} \n",
      "\n",
      "{'date': '18. 11. 6. 오후 2:14', 'writer': 'https://www.facebook.com/미드로-영어공부-290416378263820/?__tn__=kC-R&eid=ARC8KnKpZy4QEHL8ZRM70uz5ErOCvGiQlvm4uJbs5JXU3ODIN3YeQxGqvHwru8ccVDb_Fk1DKZ0jfkIp&hc_ref=ARQdWn36izw7fEWwZFQMjiKuffQ5HwxAiqWEAMquozGEE4u5znk_wN5FhFGjQ3kcRbU&fref=nf&__xts__%5B0%5D=68.ARBDrK8Hny4sAth6CudmV4N59dvJtLlDwou7fzCFqqlgy8HieSdgtsinrBKdAKYSPrb0KKvyY2GJqd-9_36QRTLWCvzaMxWSx__SO1r4mOTB_sMbwA9xRg2mZwM_ANzDiSnEobT9aVN4aBExcjBhoTT0V-ugSA6AejB_f6CTBjI-e-r_dusg-ganfROPSssNDvQyOX6bL5djGYVKCiiq8AwGDUnaBM9UJpCxAERNowH_1-kbWgX7-YkMplZqih2qqMLefr1lsv81RlLpLY0t4QRKLB7XwnHbwUhKcK6yq4MvDILjYk6lSs7772QZx0S-vYo', 'text': '돈 아까워서 아직 넷플릭스 구독 못하는 사람들 개꿀팁ㅋㅋㅋ 친구들하고 넷플릭스계 만듦 (feat.토스 공동계좌)', 'emotion': {'1': 61}} \n",
      "\n"
     ]
    }
   ],
   "source": [
    "with requests.Session() as session:\n",
    "    r = session.get(URL1)\n",
    "    cookie = r.headers['set-cookie']\n",
    "    headers = {\n",
    "        'User-Agent': 'Mozilla/5.0 (Windows NT 10.0; Win64; x64) AppleWebKit/537.36 (KHTML, like Gecko) Chrome/73.0.3683.103 Safari/537.36', \n",
    "        'Accept-Encoding': 'gzip, deflate', \n",
    "        'Accept': '*/*', \n",
    "        'Connection': 'keep-alive',\n",
    "        'cookie' : cookie,\n",
    "    }\n",
    "    session.headers['user-agent'] = 'Mozilla/5.0 (Windows NT 10.0; Win64; x64) AppleWebKit/537.36 (KHTML, like Gecko) Chrome/73.0.3683.103 Safari/537.36'\n",
    "    r = session.post(URL2, data = login_form, headers = headers)\n",
    "    fb_crawl('파이썬',session)\n",
    "    fb_crawl('넷플릭스',session)"
   ]
  }
 ],
 "metadata": {
  "kernelspec": {
   "display_name": "Python 3",
   "language": "python",
   "name": "python3"
  },
  "language_info": {
   "codemirror_mode": {
    "name": "ipython",
    "version": 3
   },
   "file_extension": ".py",
   "mimetype": "text/x-python",
   "name": "python",
   "nbconvert_exporter": "python",
   "pygments_lexer": "ipython3",
   "version": "3.6.5"
  }
 },
 "nbformat": 4,
 "nbformat_minor": 2
}
