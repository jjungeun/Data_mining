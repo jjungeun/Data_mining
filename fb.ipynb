{
 "cells": [
  {
   "cell_type": "code",
   "execution_count": 1,
   "metadata": {},
   "outputs": [],
   "source": [
    "import requests\n",
    "import json\n",
    "from bs4 import BeautifulSoup\n",
    "import base64\n",
    "import urllib"
   ]
  },
  {
   "cell_type": "code",
   "execution_count": 2,
   "metadata": {},
   "outputs": [],
   "source": [
    "login_form = {\n",
    "    'email' : '821080299729',\n",
    "    'pass' : 'godforever01',\n",
    "}"
   ]
  },
  {
   "cell_type": "code",
   "execution_count": 3,
   "metadata": {},
   "outputs": [],
   "source": [
    "data = {\n",
    "    'data' : '{\"view\":\"list\",\"encoded_query\":\"{\\\"bqf\\\":\\\"keywords_search(\\\\u0025ED\\\\u00258C\\\\u00258C\\\\u0025EC\\\\u00259D\\\\u0025B4\\\\u0025EC\\\\u00258D\\\\u0025AC)\\\",\\\"browse_sid\\\":\\\"6f56b10a584f5990140cf2199c90bac3\\\",\\\"typeahead_sid\\\":null,\\\"vertical\\\":\\\"content\\\",\\\"post_search_vertical\\\":\\\"feed\\\",\\\"intent_data\\\":null,\\\"requestParams\\\":[],\\\"has_chrono_sort\\\":false,\\\"query_analysis\\\":null,\\\"subrequest_disabled\\\":false,\\\"token_role\\\":\\\"NONE\\\",\\\"preloaded_story_ids\\\":[],\\\"extra_data\\\":null,\\\"disable_main_browse_unicorn\\\":false,\\\"entry_point_scope\\\":null,\\\"entry_point_surface\\\":null,\\\"entry_point_action\\\":\\\"SEARCH_BOX\\\",\\\"squashed_ent_ids\\\":[],\\\"source_session_id\\\":null,\\\"preloaded_entity_ids\\\":[],\\\"preloaded_entity_type\\\":null,\\\"block_preloaded_entity_ids_deduping\\\":false,\\\"high_confidence_argument\\\":null,\\\"query_source\\\":null,\\\"logging_unit_id\\\":\\\"browse_serp:dfa23c31-ad1a-28f9-cb39-5aefc0345656\\\",\\\"query_title\\\":null,\\\"serp_decider_outcome\\\":null}\",\"encoded_title\":\"WyJcdTAwMjVFRFx1MDAyNThDXHUwMDI1OENcdTAwMjVFQ1x1MDAyNTlEXHUwMDI1QjRcdTAwMjVFQ1x1MDAyNThEXHUwMDI1QUMiXQ\",\"ref\":\"unknown\",\"logger_source\":\"www_main\",\"typeahead_sid\":\"\",\"tl_log\":false,\"impression_id\":\"0zrG0uMeWCgiUvfTl\",\"filter_ids\":{\"150315075024307\":150315075024307},\"experience_type\":\"grammar\",\"exclude_ids\":null,\"browse_location\":\"browse_location:browse\",\"trending_source\":null,\"reaction_surface\":null,\"reaction_session_id\":null,\"ref_path\":\"/search/top/\",\"is_trending\":false,\"topic_id\":null,\"place_id\":null,\"story_id\":null,\"callsite\":\"browse_ui:init_result_set\",\"has_top_pagelet\":true,\"display_params\":{\"crct\":\"none\",\"mrss\":true},\"cursor\":\"AboG-_1hN003fJ9QvX0a3iViN_KCp6tvGJ4dUC703-I7necU0MCiWoBho1hEPGxtP0PiKfmWZyqk6Ka0vzHnZOmhHI0i-L8NiplXRxQ_i0JR8nfLdaHLZugPnGDJ3vTUbvI-7x24VOUOCnKwkgJLA9Il9RqOwV6EXTsu-qflHAd1MA5OSLk9uD8RX-GL2BQYzK37JJ6knITvgxwLJcNRngUs2dZH7aHow5oi8Bzj7qnh6LbuosVOhXzw0VScWM1-h_bVhljVZJtfcCiQvFOqFILpTvZ0YX36HIazEgK2MnSk_LU9KUx4NB-njcy7SgfyqBWEuqk4XFbKz4VNXIlIfgAfEBkCVcvRoMqn_klNwb32AnwZ4U2SXvn2D7r14SyV18IhLigwT19lM5NfZZmNgSTQ784VJq9mcL9BYW2SfA6SMj5nwkWgGCpZ9_M828PDm-9uDofozVMMqCosxhunf0GQu-hMQf78W5nL3M9buaS3mSyqzoErwpQR52D3xAk0e3gwU-NOvm-BfEnm46-6E1QDt9pBSHywI-mTuyJYU9Kd9Yve8xLVfJrViikCIbRElH-hnTn2IklbtLvwB8cgDUqHVaHGmrIMDQ3c3ww0nlm1utLiB4z7g2wuFt-VzYkvpCRDD7pel6vgJZEU_tfMCHiIBUSgCwqjoEzvct3bjU51iKn9VspE2GCU55KVtCOu85htzTRliPqOiUwRSdKzHO2y5v-jTC2V2VQ9F5JQgYe5v0h92TbfDRA3b3hZWIglRU5L7RnckncM271whVClnk-utGFPjEJqL_UJgBa3GDK6ZfIOH0T549UKnL9b5ZE9fnZIuYkPBxJeRi-hY7MzWBqrJCvA10HqWRSXximSRFKzJ7eVnY9oMlyOuuUAzHt91CsAtbsAA_xt_0XJUTdCJr4WrUuCqDgF01dKevEEUiyPDKPCgUK9JdWnf9H2D7MqV07pekeeMmIlu5tMEOiQ2uJzyeRrU8Uyu23whGJQbWFExZ6eWL9aTkdin1SXfqnsWSHIFpYavxKGovU-OLiBPlE6UlVwTBffGUVMNTLTg1k6TIM30qOG1Ehmo5XZ5y5ZSC1CYGwSmk0yepuNc7F0GzpZieHq8z0U2-asjOPxZX7q_uICbsA3kbW73GghPTPboVB0WvQ7_qNhPcNj6gsN_9rE3imKupnQLmTsCWgQ9ReoEuXr2Mo0CzqsammsztZqhrsw05iys6z4ItSjOr31IoVIajWwIA1uCFr8N2mW641swIszG5hqIoopm33Zk4AekS0CPUPVAvcAyD3QY0-wuhp6_CTOvbcOuoE7ZOvx_FTQARy_5AYyP0oizBNVXhbaOBZeJSWY2sTX-lOM0nnU9P8Lu1Ym0kODcLpZES2jdPb2zAnSd0Q-Jt07MS_AoKldevmwfx9X72nr2x4myMsrMEPwi7Qne0y38y74E6P8OQmgm5jNa1hwiyIZebalGPu8d1iRX_s-4FyZiawkt-Ec7v6_LXKTrQRMKhQvymPAEf6_JU5W5K67nuUjr_cbIPfHbTu5xpmhIrJU2HwtYwPy6WF__RHymGsn9Q-MpR18KzkmZbPLX68L8296-aJGoF1rR_YjpwoO27MED1VMn5zl8Waswyy-UxbqlxPli3h0osMIiuXph091DHcDGz5b2YlBpzinaRneKRSjcEUsI5QWnCVnPzKJ7KXfZlU9NUdj-wPOmrLFOkJOnOG1EBGmNWoVDW2t4IEAyZtY38HKVnilFvljzSXPThRAbxTQqZPJwxgXXD-unwV2I__btbuxrIj8woHfDCY4Pu94U7CxlxFHkxlgnkBTWljR6fGy2IBUECSD9KyhwR_9I-C5rq7RZ5yFoTivvoDWBTuT6JG7zYV77hJn1kxL3rZu_w5V0rZfthPfItdhv9JZhK7VA6HfDuB1ejZssREPNNhafFQX8k7bYwKRy4qM3i7M9AO3z8H818A5wULjj2c7hq-OBFw4wI6IKdxzimquEK9EBz7co174O-0qj6JZD6mRaVh7UtmCPnGkdYw0w8tXO0Yib6wBGsRzvA2ujUiRXPgIEXbbVzTij6rF66lcWjvDOKvgBcSexo3QPkMLcj3yyue4RLl8xNHZGB4cwFRnVSZHT9VkfPbKHx5wLjZpTiwT-rStLRGhDWOvfVzm9N_OIoqiQBhEiVPEr3zpphvfSwk5QXWOQByQFfs5UsMWfJugCuQkmCvpjhLv9in9k5G7JqzsoIMmzCKpwVK9b0_67chFF14KCQooX7ddRbQs5V0y4O9T2edoaUFA4x5589JSL3BNGh7XJoQc8We_pgOQ8IlR1ZsY6M5RsvLuKanRgzjlJoWMxtpsel66dZiXRtVQxv6uVB7m3_5JX7QFp1Gj6Xli4a6ojbB63GB1eaypW0051RFWtXpzoiFVGP0SSRRFJqRDQskDaeFftflyLiK2q_R0Nn47mzS9vvEE8Q5crkSx3-trgC3y7q4kt1rJ5gw4ThGmUDNlOa7F3NXRLQpggBvdLykzgmvodaaz7XUTT8HYD5oCj0PIZnO2xsPf8tNXqHZOqxiicykg9YDRj8Q-JW08b5BgwbC0HRG5Qk1as90J0SJqOaH_DN13M9zWuNVM5vEHznnbjQMZOKnG29KILhRYOycQVd-Dw_TEcBtue5pCP7GwNlMGVSOeJQh3sAOOnxvqCwvANvQ0Ust4Xlc786_inQ9R_B2u-0gy9Zx0WjSma_id6FwSZUwyC94Fimnb342-p-LEApqjdTP41d1DlPOta6IeWI9klxQF2sHoambE5DxiRmk1CLseV4F0FQ3dYaXivD3ulm5A3VzIESyetPVKPNlCLMbNdmOZkR5yQVIZHhPlM-4VTGg-DakXw-uQ_cDJNMGKqB48G3G669c5X5hXqeONKVWjpNUOjb6WCsujZSkqnskE5lg6h0ST1IQEiSxzGst-mAWtk2KVTXfetp69MUTu7tpw84cCgl0qY8tqkrXvdAMgs6eQjTLrvpygtoH9Jriov3JeForRQn8ahCkntJBALIeTUK1axXHiZLdcUXGGK8qRG7z7VyVX0VJe125e0IEpiy-I7o14S_Ji3VyWWM0nJZlJIqierbKWEbo7SQRgdVFN5JKidIzsEqJY_TrLA10Sqba3t_3nGRH3kaiwEYshbmIwD873sGikARF1PfhD8HtACA07nC2-tUIqW_DfLJli4yX34vw-4VhSep3FXX1reTZZ6qf4RTAWwcN8bfA1prjjE7eUvxlTJL5AjIvTrswWAvXq-NXYZXa3O9zZjylYITGx3bS5jluQJO35we7O8fN5v-KJglFANjU-Hp1-JI25CEk6FeM\",\"page_number\":2,\"em\":false,\"tr\":null}'\n",
    "}"
   ]
  },
  {
   "cell_type": "code",
   "execution_count": null,
   "metadata": {},
   "outputs": [],
   "source": [
    "d = {\n",
    "    \"view\":\"list\",\n",
    "    \"encoded_query\":\"{\\\n",
    "        'bqf':'keywords_search(\\\\u0025ED\\\\u00258C\\\\u00258C\\\\u0025EC\\\\u00259D\\\\u0025B4\\\\u0025EC\\\\u00258D\\\\u0025AC)',\\\n",
    "        'browse_sid':'6f56b10a584f5990140cf2199c90bac3',\\\n",
    "        'typeahead_sid':null,\\\n",
    "        'vertical':'content',\\\n",
    "        'post_search_vertical':'feed',\\\n",
    "        'intent_data':null,\\\n",
    "        'requestParams':[],\\\n",
    "        'has_chrono_sort':false,\\\n",
    "        'query_analysis':null,\\\n",
    "        'subrequest_disabled':false,\\\n",
    "        'token_role':'NONE',\\\n",
    "        'preloaded_story_ids':[],\\\n",
    "        'extra_data':null,\\\n",
    "        'disable_main_browse_unicorn':false,\\\n",
    "        'entry_point_scope':null,\\\n",
    "        'entry_point_surface':null,\\\n",
    "        'entry_point_action':'SEARCH_BOX',\\\n",
    "        'squashed_ent_ids':[],\\\n",
    "        'source_session_id':null,\\\n",
    "        'preloaded_entity_ids':[],\\\n",
    "        'preloaded_entity_type':null,\\\n",
    "        'block_preloaded_entity_ids_deduping':false,\\\n",
    "        'high_confidence_argument':null,\\\n",
    "        'query_source':null,\\\n",
    "        'logging_unit_id':'browse_serp:dfa23c31-ad1a-28f9-cb39-5aefc0345656',\\\n",
    "        'query_title':null,\\\n",
    "        'serp_decider_outcome':null\\\n",
    "    }\",\n",
    "    \"encoded_title\":\"WyJcdTAwMjVFRFx1MDAyNThDXHUwMDI1OENcdTAwMjVFQ1x1MDAyNTlEXHUwMDI1QjRcdTAwMjVFQ1x1MDAyNThEXHUwMDI1QUMiXQ\",\n",
    "    \"ref\":\"unknown\",\n",
    "    \"logger_source\":\"www_main\",\n",
    "    \"typeahead_sid\":\"\",\n",
    "    \"tl_log\":false,\n",
    "    \"impression_id\":\"0zrG0uMeWCgiUvfTl\",\n",
    "    \"filter_ids\":{\"150315075024307\":150315075024307},\n",
    "    \"experience_type\":\"grammar\",\n",
    "    \"exclude_ids\":null,\n",
    "    \"browse_location\":\"browse_location:browse\",\n",
    "    \"trending_source\":null,\n",
    "    \"reaction_surface\":null,\n",
    "    \"reaction_session_id\":null,\n",
    "    \"ref_path\":\"/search/top/\",\n",
    "    \"is_trending\":false,\n",
    "    \"topic_id\":null,\n",
    "    \"place_id\":null,\n",
    "    \"story_id\":null,\n",
    "    \"callsite\":\"browse_ui:init_result_set\",\n",
    "    \"has_top_pagelet\":true,\n",
    "    \"display_params\":{\"crct\":\"none\",\"mrss\":true},\n",
    "    \"cursor\":\"AboG-_1hN003fJ9QvX0a3iViN_KCp6tvGJ4dUC703-I7necU0MCiWoBho1hEPGxtP0PiKfmWZyqk6Ka0vzHnZOmhHI0i-L8NiplXRxQ_i0JR8nfLdaHLZugPnGDJ3vTUbvI-7x24VOUOCnKwkgJLA9Il9RqOwV6EXTsu-qflHAd1MA5OSLk9uD8RX-GL2BQYzK37JJ6knITvgxwLJcNRngUs2dZH7aHow5oi8Bzj7qnh6LbuosVOhXzw0VScWM1-h_bVhljVZJtfcCiQvFOqFILpTvZ0YX36HIazEgK2MnSk_LU9KUx4NB-njcy7SgfyqBWEuqk4XFbKz4VNXIlIfgAfEBkCVcvRoMqn_klNwb32AnwZ4U2SXvn2D7r14SyV18IhLigwT19lM5NfZZmNgSTQ784VJq9mcL9BYW2SfA6SMj5nwkWgGCpZ9_M828PDm-9uDofozVMMqCosxhunf0GQu-hMQf78W5nL3M9buaS3mSyqzoErwpQR52D3xAk0e3gwU-NOvm-BfEnm46-6E1QDt9pBSHywI-mTuyJYU9Kd9Yve8xLVfJrViikCIbRElH-hnTn2IklbtLvwB8cgDUqHVaHGmrIMDQ3c3ww0nlm1utLiB4z7g2wuFt-VzYkvpCRDD7pel6vgJZEU_tfMCHiIBUSgCwqjoEzvct3bjU51iKn9VspE2GCU55KVtCOu85htzTRliPqOiUwRSdKzHO2y5v-jTC2V2VQ9F5JQgYe5v0h92TbfDRA3b3hZWIglRU5L7RnckncM271whVClnk-utGFPjEJqL_UJgBa3GDK6ZfIOH0T549UKnL9b5ZE9fnZIuYkPBxJeRi-hY7MzWBqrJCvA10HqWRSXximSRFKzJ7eVnY9oMlyOuuUAzHt91CsAtbsAA_xt_0XJUTdCJr4WrUuCqDgF01dKevEEUiyPDKPCgUK9JdWnf9H2D7MqV07pekeeMmIlu5tMEOiQ2uJzyeRrU8Uyu23whGJQbWFExZ6eWL9aTkdin1SXfqnsWSHIFpYavxKGovU-OLiBPlE6UlVwTBffGUVMNTLTg1k6TIM30qOG1Ehmo5XZ5y5ZSC1CYGwSmk0yepuNc7F0GzpZieHq8z0U2-asjOPxZX7q_uICbsA3kbW73GghPTPboVB0WvQ7_qNhPcNj6gsN_9rE3imKupnQLmTsCWgQ9ReoEuXr2Mo0CzqsammsztZqhrsw05iys6z4ItSjOr31IoVIajWwIA1uCFr8N2mW641swIszG5hqIoopm33Zk4AekS0CPUPVAvcAyD3QY0-wuhp6_CTOvbcOuoE7ZOvx_FTQARy_5AYyP0oizBNVXhbaOBZeJSWY2sTX-lOM0nnU9P8Lu1Ym0kODcLpZES2jdPb2zAnSd0Q-Jt07MS_AoKldevmwfx9X72nr2x4myMsrMEPwi7Qne0y38y74E6P8OQmgm5jNa1hwiyIZebalGPu8d1iRX_s-4FyZiawkt-Ec7v6_LXKTrQRMKhQvymPAEf6_JU5W5K67nuUjr_cbIPfHbTu5xpmhIrJU2HwtYwPy6WF__RHymGsn9Q-MpR18KzkmZbPLX68L8296-aJGoF1rR_YjpwoO27MED1VMn5zl8Waswyy-UxbqlxPli3h0osMIiuXph091DHcDGz5b2YlBpzinaRneKRSjcEUsI5QWnCVnPzKJ7KXfZlU9NUdj-wPOmrLFOkJOnOG1EBGmNWoVDW2t4IEAyZtY38HKVnilFvljzSXPThRAbxTQqZPJwxgXXD-unwV2I__btbuxrIj8woHfDCY4Pu94U7CxlxFHkxlgnkBTWljR6fGy2IBUECSD9KyhwR_9I-C5rq7RZ5yFoTivvoDWBTuT6JG7zYV77hJn1kxL3rZu_w5V0rZfthPfItdhv9JZhK7VA6HfDuB1ejZssREPNNhafFQX8k7bYwKRy4qM3i7M9AO3z8H818A5wULjj2c7hq-OBFw4wI6IKdxzimquEK9EBz7co174O-0qj6JZD6mRaVh7UtmCPnGkdYw0w8tXO0Yib6wBGsRzvA2ujUiRXPgIEXbbVzTij6rF66lcWjvDOKvgBcSexo3QPkMLcj3yyue4RLl8xNHZGB4cwFRnVSZHT9VkfPbKHx5wLjZpTiwT-rStLRGhDWOvfVzm9N_OIoqiQBhEiVPEr3zpphvfSwk5QXWOQByQFfs5UsMWfJugCuQkmCvpjhLv9in9k5G7JqzsoIMmzCKpwVK9b0_67chFF14KCQooX7ddRbQs5V0y4O9T2edoaUFA4x5589JSL3BNGh7XJoQc8We_pgOQ8IlR1ZsY6M5RsvLuKanRgzjlJoWMxtpsel66dZiXRtVQxv6uVB7m3_5JX7QFp1Gj6Xli4a6ojbB63GB1eaypW0051RFWtXpzoiFVGP0SSRRFJqRDQskDaeFftflyLiK2q_R0Nn47mzS9vvEE8Q5crkSx3-trgC3y7q4kt1rJ5gw4ThGmUDNlOa7F3NXRLQpggBvdLykzgmvodaaz7XUTT8HYD5oCj0PIZnO2xsPf8tNXqHZOqxiicykg9YDRj8Q-JW08b5BgwbC0HRG5Qk1as90J0SJqOaH_DN13M9zWuNVM5vEHznnbjQMZOKnG29KILhRYOycQVd-Dw_TEcBtue5pCP7GwNlMGVSOeJQh3sAOOnxvqCwvANvQ0Ust4Xlc786_inQ9R_B2u-0gy9Zx0WjSma_id6FwSZUwyC94Fimnb342-p-LEApqjdTP41d1DlPOta6IeWI9klxQF2sHoambE5DxiRmk1CLseV4F0FQ3dYaXivD3ulm5A3VzIESyetPVKPNlCLMbNdmOZkR5yQVIZHhPlM-4VTGg-DakXw-uQ_cDJNMGKqB48G3G669c5X5hXqeONKVWjpNUOjb6WCsujZSkqnskE5lg6h0ST1IQEiSxzGst-mAWtk2KVTXfetp69MUTu7tpw84cCgl0qY8tqkrXvdAMgs6eQjTLrvpygtoH9Jriov3JeForRQn8ahCkntJBALIeTUK1axXHiZLdcUXGGK8qRG7z7VyVX0VJe125e0IEpiy-I7o14S_Ji3VyWWM0nJZlJIqierbKWEbo7SQRgdVFN5JKidIzsEqJY_TrLA10Sqba3t_3nGRH3kaiwEYshbmIwD873sGikARF1PfhD8HtACA07nC2-tUIqW_DfLJli4yX34vw-4VhSep3FXX1reTZZ6qf4RTAWwcN8bfA1prjjE7eUvxlTJL5AjIvTrswWAvXq-NXYZXa3O9zZjylYITGx3bS5jluQJO35we7O8fN5v-KJglFANjU-Hp1-JI25CEk6FeM\",\n",
    "    \"page_number\":2,\n",
    "    \"em\":false,\n",
    "    \"tr\":null\n",
    "}"
   ]
  },
  {
   "cell_type": "code",
   "execution_count": 4,
   "metadata": {},
   "outputs": [],
   "source": [
    "URL1 = 'https://www.facebook.com/'\n",
    "URL2 = 'https://www.facebook.com/login/device-based/regular/login/?login_attempt=1&lwv=111'\n",
    "URL3 = 'https://www.facebook.com/'\n",
    "URL4 = 'https://www.facebook.com/search/?q=%ED%8C%8C%EC%9D%B4%EC%8D%AC&searchtype=posts&ref=side_filter&epa=FILTERS&fb_dtsg_ag=AQz-9-RsKjuxpJ7zjPpzSPE3mQvjmZOLkSGIgKCcGRE-_w%3AAQwn-gojmwVFltFwnzdVrIcZW-LtaL7ys1iXNcGvYbznwQ&jazoest=28427&filters=eyJycF9hdXRob3IiOiJ7XCJuYW1lXCI6XCJtZXJnZWRfcHVibGljX3Bvc3RzXCIsXCJhcmdzXCI6XCJcIn0ifQ%3D%3D&ajaxpipe=1&ajaxpipe_token=AXgQP9SiecVn2g3G&quickling[version]=1000612571%3B0%3B'\n",
    "URL5 = 'https://www.facebook.com/ajax/pagelet/generic.php/BrowseScrollingSetPagelet?fb_dtsg_ag=AQz-9-RsKjuxpJ7zjPpzSPE3mQvjmZOLkSGIgKCcGRE-_w%3AAQwn-gojmwVFltFwnzdVrIcZW-LtaL7ys1iXNcGvYbznwQ&'\n",
    "URL_AJAX = 'https://www.facebook.com/ajax/pagelet/generic.php/BrowseScrollingSetPagelet'"
   ]
  },
  {
   "cell_type": "code",
   "execution_count": 5,
   "metadata": {},
   "outputs": [
    {
     "name": "stdout",
     "output_type": "stream",
     "text": [
      "data=%7B%22view%22%3A%22list%22%2C%22encoded_query%22%3A%22%7B%22bqf%22%3A%22keywords_search%28%5Cu0025ED%5Cu00258C%5Cu00258C%5Cu0025EC%5Cu00259D%5Cu0025B4%5Cu0025EC%5Cu00258D%5Cu0025AC%29%22%2C%22browse_sid%22%3A%226f56b10a584f5990140cf2199c90bac3%22%2C%22typeahead_sid%22%3Anull%2C%22vertical%22%3A%22content%22%2C%22post_search_vertical%22%3A%22feed%22%2C%22intent_data%22%3Anull%2C%22requestParams%22%3A%5B%5D%2C%22has_chrono_sort%22%3Afalse%2C%22query_analysis%22%3Anull%2C%22subrequest_disabled%22%3Afalse%2C%22token_role%22%3A%22NONE%22%2C%22preloaded_story_ids%22%3A%5B%5D%2C%22extra_data%22%3Anull%2C%22disable_main_browse_unicorn%22%3Afalse%2C%22entry_point_scope%22%3Anull%2C%22entry_point_surface%22%3Anull%2C%22entry_point_action%22%3A%22SEARCH_BOX%22%2C%22squashed_ent_ids%22%3A%5B%5D%2C%22source_session_id%22%3Anull%2C%22preloaded_entity_ids%22%3A%5B%5D%2C%22preloaded_entity_type%22%3Anull%2C%22block_preloaded_entity_ids_deduping%22%3Afalse%2C%22high_confidence_argument%22%3Anull%2C%22query_source%22%3Anull%2C%22logging_unit_id%22%3A%22browse_serp%3Adfa23c31-ad1a-28f9-cb39-5aefc0345656%22%2C%22query_title%22%3Anull%2C%22serp_decider_outcome%22%3Anull%7D%22%2C%22encoded_title%22%3A%22WyJcdTAwMjVFRFx1MDAyNThDXHUwMDI1OENcdTAwMjVFQ1x1MDAyNTlEXHUwMDI1QjRcdTAwMjVFQ1x1MDAyNThEXHUwMDI1QUMiXQ%22%2C%22ref%22%3A%22unknown%22%2C%22logger_source%22%3A%22www_main%22%2C%22typeahead_sid%22%3A%22%22%2C%22tl_log%22%3Afalse%2C%22impression_id%22%3A%220zrG0uMeWCgiUvfTl%22%2C%22filter_ids%22%3A%7B%22150315075024307%22%3A150315075024307%7D%2C%22experience_type%22%3A%22grammar%22%2C%22exclude_ids%22%3Anull%2C%22browse_location%22%3A%22browse_location%3Abrowse%22%2C%22trending_source%22%3Anull%2C%22reaction_surface%22%3Anull%2C%22reaction_session_id%22%3Anull%2C%22ref_path%22%3A%22%2Fsearch%2Ftop%2F%22%2C%22is_trending%22%3Afalse%2C%22topic_id%22%3Anull%2C%22place_id%22%3Anull%2C%22story_id%22%3Anull%2C%22callsite%22%3A%22browse_ui%3Ainit_result_set%22%2C%22has_top_pagelet%22%3Atrue%2C%22display_params%22%3A%7B%22crct%22%3A%22none%22%2C%22mrss%22%3Atrue%7D%2C%22cursor%22%3A%22AboG-_1hN003fJ9QvX0a3iViN_KCp6tvGJ4dUC703-I7necU0MCiWoBho1hEPGxtP0PiKfmWZyqk6Ka0vzHnZOmhHI0i-L8NiplXRxQ_i0JR8nfLdaHLZugPnGDJ3vTUbvI-7x24VOUOCnKwkgJLA9Il9RqOwV6EXTsu-qflHAd1MA5OSLk9uD8RX-GL2BQYzK37JJ6knITvgxwLJcNRngUs2dZH7aHow5oi8Bzj7qnh6LbuosVOhXzw0VScWM1-h_bVhljVZJtfcCiQvFOqFILpTvZ0YX36HIazEgK2MnSk_LU9KUx4NB-njcy7SgfyqBWEuqk4XFbKz4VNXIlIfgAfEBkCVcvRoMqn_klNwb32AnwZ4U2SXvn2D7r14SyV18IhLigwT19lM5NfZZmNgSTQ784VJq9mcL9BYW2SfA6SMj5nwkWgGCpZ9_M828PDm-9uDofozVMMqCosxhunf0GQu-hMQf78W5nL3M9buaS3mSyqzoErwpQR52D3xAk0e3gwU-NOvm-BfEnm46-6E1QDt9pBSHywI-mTuyJYU9Kd9Yve8xLVfJrViikCIbRElH-hnTn2IklbtLvwB8cgDUqHVaHGmrIMDQ3c3ww0nlm1utLiB4z7g2wuFt-VzYkvpCRDD7pel6vgJZEU_tfMCHiIBUSgCwqjoEzvct3bjU51iKn9VspE2GCU55KVtCOu85htzTRliPqOiUwRSdKzHO2y5v-jTC2V2VQ9F5JQgYe5v0h92TbfDRA3b3hZWIglRU5L7RnckncM271whVClnk-utGFPjEJqL_UJgBa3GDK6ZfIOH0T549UKnL9b5ZE9fnZIuYkPBxJeRi-hY7MzWBqrJCvA10HqWRSXximSRFKzJ7eVnY9oMlyOuuUAzHt91CsAtbsAA_xt_0XJUTdCJr4WrUuCqDgF01dKevEEUiyPDKPCgUK9JdWnf9H2D7MqV07pekeeMmIlu5tMEOiQ2uJzyeRrU8Uyu23whGJQbWFExZ6eWL9aTkdin1SXfqnsWSHIFpYavxKGovU-OLiBPlE6UlVwTBffGUVMNTLTg1k6TIM30qOG1Ehmo5XZ5y5ZSC1CYGwSmk0yepuNc7F0GzpZieHq8z0U2-asjOPxZX7q_uICbsA3kbW73GghPTPboVB0WvQ7_qNhPcNj6gsN_9rE3imKupnQLmTsCWgQ9ReoEuXr2Mo0CzqsammsztZqhrsw05iys6z4ItSjOr31IoVIajWwIA1uCFr8N2mW641swIszG5hqIoopm33Zk4AekS0CPUPVAvcAyD3QY0-wuhp6_CTOvbcOuoE7ZOvx_FTQARy_5AYyP0oizBNVXhbaOBZeJSWY2sTX-lOM0nnU9P8Lu1Ym0kODcLpZES2jdPb2zAnSd0Q-Jt07MS_AoKldevmwfx9X72nr2x4myMsrMEPwi7Qne0y38y74E6P8OQmgm5jNa1hwiyIZebalGPu8d1iRX_s-4FyZiawkt-Ec7v6_LXKTrQRMKhQvymPAEf6_JU5W5K67nuUjr_cbIPfHbTu5xpmhIrJU2HwtYwPy6WF__RHymGsn9Q-MpR18KzkmZbPLX68L8296-aJGoF1rR_YjpwoO27MED1VMn5zl8Waswyy-UxbqlxPli3h0osMIiuXph091DHcDGz5b2YlBpzinaRneKRSjcEUsI5QWnCVnPzKJ7KXfZlU9NUdj-wPOmrLFOkJOnOG1EBGmNWoVDW2t4IEAyZtY38HKVnilFvljzSXPThRAbxTQqZPJwxgXXD-unwV2I__btbuxrIj8woHfDCY4Pu94U7CxlxFHkxlgnkBTWljR6fGy2IBUECSD9KyhwR_9I-C5rq7RZ5yFoTivvoDWBTuT6JG7zYV77hJn1kxL3rZu_w5V0rZfthPfItdhv9JZhK7VA6HfDuB1ejZssREPNNhafFQX8k7bYwKRy4qM3i7M9AO3z8H818A5wULjj2c7hq-OBFw4wI6IKdxzimquEK9EBz7co174O-0qj6JZD6mRaVh7UtmCPnGkdYw0w8tXO0Yib6wBGsRzvA2ujUiRXPgIEXbbVzTij6rF66lcWjvDOKvgBcSexo3QPkMLcj3yyue4RLl8xNHZGB4cwFRnVSZHT9VkfPbKHx5wLjZpTiwT-rStLRGhDWOvfVzm9N_OIoqiQBhEiVPEr3zpphvfSwk5QXWOQByQFfs5UsMWfJugCuQkmCvpjhLv9in9k5G7JqzsoIMmzCKpwVK9b0_67chFF14KCQooX7ddRbQs5V0y4O9T2edoaUFA4x5589JSL3BNGh7XJoQc8We_pgOQ8IlR1ZsY6M5RsvLuKanRgzjlJoWMxtpsel66dZiXRtVQxv6uVB7m3_5JX7QFp1Gj6Xli4a6ojbB63GB1eaypW0051RFWtXpzoiFVGP0SSRRFJqRDQskDaeFftflyLiK2q_R0Nn47mzS9vvEE8Q5crkSx3-trgC3y7q4kt1rJ5gw4ThGmUDNlOa7F3NXRLQpggBvdLykzgmvodaaz7XUTT8HYD5oCj0PIZnO2xsPf8tNXqHZOqxiicykg9YDRj8Q-JW08b5BgwbC0HRG5Qk1as90J0SJqOaH_DN13M9zWuNVM5vEHznnbjQMZOKnG29KILhRYOycQVd-Dw_TEcBtue5pCP7GwNlMGVSOeJQh3sAOOnxvqCwvANvQ0Ust4Xlc786_inQ9R_B2u-0gy9Zx0WjSma_id6FwSZUwyC94Fimnb342-p-LEApqjdTP41d1DlPOta6IeWI9klxQF2sHoambE5DxiRmk1CLseV4F0FQ3dYaXivD3ulm5A3VzIESyetPVKPNlCLMbNdmOZkR5yQVIZHhPlM-4VTGg-DakXw-uQ_cDJNMGKqB48G3G669c5X5hXqeONKVWjpNUOjb6WCsujZSkqnskE5lg6h0ST1IQEiSxzGst-mAWtk2KVTXfetp69MUTu7tpw84cCgl0qY8tqkrXvdAMgs6eQjTLrvpygtoH9Jriov3JeForRQn8ahCkntJBALIeTUK1axXHiZLdcUXGGK8qRG7z7VyVX0VJe125e0IEpiy-I7o14S_Ji3VyWWM0nJZlJIqierbKWEbo7SQRgdVFN5JKidIzsEqJY_TrLA10Sqba3t_3nGRH3kaiwEYshbmIwD873sGikARF1PfhD8HtACA07nC2-tUIqW_DfLJli4yX34vw-4VhSep3FXX1reTZZ6qf4RTAWwcN8bfA1prjjE7eUvxlTJL5AjIvTrswWAvXq-NXYZXa3O9zZjylYITGx3bS5jluQJO35we7O8fN5v-KJglFANjU-Hp1-JI25CEk6FeM%22%2C%22page_number%22%3A2%2C%22em%22%3Afalse%2C%22tr%22%3Anull%7D\n"
     ]
    }
   ],
   "source": [
    "print(urllib.parse.urlencode(data))"
   ]
  },
  {
   "cell_type": "code",
   "execution_count": 9,
   "metadata": {
    "scrolled": true
   },
   "outputs": [
    {
     "name": "stdout",
     "output_type": "stream",
     "text": [
      "{'c_user': '100010743251101', 'fr': '17Utb093TGW0os7fW.AWWMmQRcfNLFwRF5a4ZoR2wLQuo.BctuaW.kt.AAA.0.0.BctuaW.AWWnwNEM', 'sb': 'lua2XIKpw8_HlHg6UgLr19Xy', 'spin': 'r.1000612665_b.trunk_t.1555490455_s.1_v.2_', 'xs': '28%3AGqail_OnG48dpQ%3A2%3A1555490454%3A17724%3A10140'}\n",
      "{'user-agent': 'Mozilla/5.0 (Windows NT 10.0; Win64; x64) AppleWebKit/537.36 (KHTML, like Gecko) Chrome/73.0.3683.103 Safari/537.36', 'Accept-Encoding': 'gzip, deflate', 'Accept': '*/*', 'Connection': 'keep-alive'} \n",
      "\n",
      "https://www.facebook.com/search/?q=%ED%8C%8C%EC%9D%B4%EC%8D%AC&searchtype=posts&ref=side_filter&epa=FILTERS&fb_dtsg_ag=AQz-9-RsKjuxpJ7zjPpzSPE3mQvjmZOLkSGIgKCcGRE-_w%3AAQwn-gojmwVFltFwnzdVrIcZW-LtaL7ys1iXNcGvYbznwQ&jazoest=28427&filters=eyJycF9hdXRob3IiOiJ7XCJuYW1lXCI6XCJtZXJnZWRfcHVibGljX3Bvc3RzXCIsXCJhcmdzXCI6XCJcIn0ifQ%3D%3D&ajaxpipe=1&ajaxpipe_token=AXgQP9SiecVn2g3G&quickling[version]=1000612571%3B0%3B\n",
      "https://www.facebook.com/ajax/pagelet/generic.php/BrowseScrollingSetPagelet?fb_dtsg_ag=AQz-9-RsKjuxpJ7zjPpzSPE3mQvjmZOLkSGIgKCcGRE-_w%3AAQwn-gojmwVFltFwnzdVrIcZW-LtaL7ys1iXNcGvYbznwQ&data=%7B%22view%22%3A%22list%22%2C%22encoded_query%22%3A%22%7B%22bqf%22%3A%22keywords_search%28%5Cu0025ED%5Cu00258C%5Cu00258C%5Cu0025EC%5Cu00259D%5Cu0025B4%5Cu0025EC%5Cu00258D%5Cu0025AC%29%22%2C%22browse_sid%22%3A%226f56b10a584f5990140cf2199c90bac3%22%2C%22typeahead_sid%22%3Anull%2C%22vertical%22%3A%22content%22%2C%22post_search_vertical%22%3A%22feed%22%2C%22intent_data%22%3Anull%2C%22requestParams%22%3A%5B%5D%2C%22has_chrono_sort%22%3Afalse%2C%22query_analysis%22%3Anull%2C%22subrequest_disabled%22%3Afalse%2C%22token_role%22%3A%22NONE%22%2C%22preloaded_story_ids%22%3A%5B%5D%2C%22extra_data%22%3Anull%2C%22disable_main_browse_unicorn%22%3Afalse%2C%22entry_point_scope%22%3Anull%2C%22entry_point_surface%22%3Anull%2C%22entry_point_action%22%3A%22SEARCH_BOX%22%2C%22squashed_ent_ids%22%3A%5B%5D%2C%22source_session_id%22%3Anull%2C%22preloaded_entity_ids%22%3A%5B%5D%2C%22preloaded_entity_type%22%3Anull%2C%22block_preloaded_entity_ids_deduping%22%3Afalse%2C%22high_confidence_argument%22%3Anull%2C%22query_source%22%3Anull%2C%22logging_unit_id%22%3A%22browse_serp%3Adfa23c31-ad1a-28f9-cb39-5aefc0345656%22%2C%22query_title%22%3Anull%2C%22serp_decider_outcome%22%3Anull%7D%22%2C%22encoded_title%22%3A%22WyJcdTAwMjVFRFx1MDAyNThDXHUwMDI1OENcdTAwMjVFQ1x1MDAyNTlEXHUwMDI1QjRcdTAwMjVFQ1x1MDAyNThEXHUwMDI1QUMiXQ%22%2C%22ref%22%3A%22unknown%22%2C%22logger_source%22%3A%22www_main%22%2C%22typeahead_sid%22%3A%22%22%2C%22tl_log%22%3Afalse%2C%22impression_id%22%3A%220zrG0uMeWCgiUvfTl%22%2C%22filter_ids%22%3A%7B%22150315075024307%22%3A150315075024307%7D%2C%22experience_type%22%3A%22grammar%22%2C%22exclude_ids%22%3Anull%2C%22browse_location%22%3A%22browse_location%3Abrowse%22%2C%22trending_source%22%3Anull%2C%22reaction_surface%22%3Anull%2C%22reaction_session_id%22%3Anull%2C%22ref_path%22%3A%22%2Fsearch%2Ftop%2F%22%2C%22is_trending%22%3Afalse%2C%22topic_id%22%3Anull%2C%22place_id%22%3Anull%2C%22story_id%22%3Anull%2C%22callsite%22%3A%22browse_ui%3Ainit_result_set%22%2C%22has_top_pagelet%22%3Atrue%2C%22display_params%22%3A%7B%22crct%22%3A%22none%22%2C%22mrss%22%3Atrue%7D%2C%22cursor%22%3A%22AboG-_1hN003fJ9QvX0a3iViN_KCp6tvGJ4dUC703-I7necU0MCiWoBho1hEPGxtP0PiKfmWZyqk6Ka0vzHnZOmhHI0i-L8NiplXRxQ_i0JR8nfLdaHLZugPnGDJ3vTUbvI-7x24VOUOCnKwkgJLA9Il9RqOwV6EXTsu-qflHAd1MA5OSLk9uD8RX-GL2BQYzK37JJ6knITvgxwLJcNRngUs2dZH7aHow5oi8Bzj7qnh6LbuosVOhXzw0VScWM1-h_bVhljVZJtfcCiQvFOqFILpTvZ0YX36HIazEgK2MnSk_LU9KUx4NB-njcy7SgfyqBWEuqk4XFbKz4VNXIlIfgAfEBkCVcvRoMqn_klNwb32AnwZ4U2SXvn2D7r14SyV18IhLigwT19lM5NfZZmNgSTQ784VJq9mcL9BYW2SfA6SMj5nwkWgGCpZ9_M828PDm-9uDofozVMMqCosxhunf0GQu-hMQf78W5nL3M9buaS3mSyqzoErwpQR52D3xAk0e3gwU-NOvm-BfEnm46-6E1QDt9pBSHywI-mTuyJYU9Kd9Yve8xLVfJrViikCIbRElH-hnTn2IklbtLvwB8cgDUqHVaHGmrIMDQ3c3ww0nlm1utLiB4z7g2wuFt-VzYkvpCRDD7pel6vgJZEU_tfMCHiIBUSgCwqjoEzvct3bjU51iKn9VspE2GCU55KVtCOu85htzTRliPqOiUwRSdKzHO2y5v-jTC2V2VQ9F5JQgYe5v0h92TbfDRA3b3hZWIglRU5L7RnckncM271whVClnk-utGFPjEJqL_UJgBa3GDK6ZfIOH0T549UKnL9b5ZE9fnZIuYkPBxJeRi-hY7MzWBqrJCvA10HqWRSXximSRFKzJ7eVnY9oMlyOuuUAzHt91CsAtbsAA_xt_0XJUTdCJr4WrUuCqDgF01dKevEEUiyPDKPCgUK9JdWnf9H2D7MqV07pekeeMmIlu5tMEOiQ2uJzyeRrU8Uyu23whGJQbWFExZ6eWL9aTkdin1SXfqnsWSHIFpYavxKGovU-OLiBPlE6UlVwTBffGUVMNTLTg1k6TIM30qOG1Ehmo5XZ5y5ZSC1CYGwSmk0yepuNc7F0GzpZieHq8z0U2-asjOPxZX7q_uICbsA3kbW73GghPTPboVB0WvQ7_qNhPcNj6gsN_9rE3imKupnQLmTsCWgQ9ReoEuXr2Mo0CzqsammsztZqhrsw05iys6z4ItSjOr31IoVIajWwIA1uCFr8N2mW641swIszG5hqIoopm33Zk4AekS0CPUPVAvcAyD3QY0-wuhp6_CTOvbcOuoE7ZOvx_FTQARy_5AYyP0oizBNVXhbaOBZeJSWY2sTX-lOM0nnU9P8Lu1Ym0kODcLpZES2jdPb2zAnSd0Q-Jt07MS_AoKldevmwfx9X72nr2x4myMsrMEPwi7Qne0y38y74E6P8OQmgm5jNa1hwiyIZebalGPu8d1iRX_s-4FyZiawkt-Ec7v6_LXKTrQRMKhQvymPAEf6_JU5W5K67nuUjr_cbIPfHbTu5xpmhIrJU2HwtYwPy6WF__RHymGsn9Q-MpR18KzkmZbPLX68L8296-aJGoF1rR_YjpwoO27MED1VMn5zl8Waswyy-UxbqlxPli3h0osMIiuXph091DHcDGz5b2YlBpzinaRneKRSjcEUsI5QWnCVnPzKJ7KXfZlU9NUdj-wPOmrLFOkJOnOG1EBGmNWoVDW2t4IEAyZtY38HKVnilFvljzSXPThRAbxTQqZPJwxgXXD-unwV2I__btbuxrIj8woHfDCY4Pu94U7CxlxFHkxlgnkBTWljR6fGy2IBUECSD9KyhwR_9I-C5rq7RZ5yFoTivvoDWBTuT6JG7zYV77hJn1kxL3rZu_w5V0rZfthPfItdhv9JZhK7VA6HfDuB1ejZssREPNNhafFQX8k7bYwKRy4qM3i7M9AO3z8H818A5wULjj2c7hq-OBFw4wI6IKdxzimquEK9EBz7co174O-0qj6JZD6mRaVh7UtmCPnGkdYw0w8tXO0Yib6wBGsRzvA2ujUiRXPgIEXbbVzTij6rF66lcWjvDOKvgBcSexo3QPkMLcj3yyue4RLl8xNHZGB4cwFRnVSZHT9VkfPbKHx5wLjZpTiwT-rStLRGhDWOvfVzm9N_OIoqiQBhEiVPEr3zpphvfSwk5QXWOQByQFfs5UsMWfJugCuQkmCvpjhLv9in9k5G7JqzsoIMmzCKpwVK9b0_67chFF14KCQooX7ddRbQs5V0y4O9T2edoaUFA4x5589JSL3BNGh7XJoQc8We_pgOQ8IlR1ZsY6M5RsvLuKanRgzjlJoWMxtpsel66dZiXRtVQxv6uVB7m3_5JX7QFp1Gj6Xli4a6ojbB63GB1eaypW0051RFWtXpzoiFVGP0SSRRFJqRDQskDaeFftflyLiK2q_R0Nn47mzS9vvEE8Q5crkSx3-trgC3y7q4kt1rJ5gw4ThGmUDNlOa7F3NXRLQpggBvdLykzgmvodaaz7XUTT8HYD5oCj0PIZnO2xsPf8tNXqHZOqxiicykg9YDRj8Q-JW08b5BgwbC0HRG5Qk1as90J0SJqOaH_DN13M9zWuNVM5vEHznnbjQMZOKnG29KILhRYOycQVd-Dw_TEcBtue5pCP7GwNlMGVSOeJQh3sAOOnxvqCwvANvQ0Ust4Xlc786_inQ9R_B2u-0gy9Zx0WjSma_id6FwSZUwyC94Fimnb342-p-LEApqjdTP41d1DlPOta6IeWI9klxQF2sHoambE5DxiRmk1CLseV4F0FQ3dYaXivD3ulm5A3VzIESyetPVKPNlCLMbNdmOZkR5yQVIZHhPlM-4VTGg-DakXw-uQ_cDJNMGKqB48G3G669c5X5hXqeONKVWjpNUOjb6WCsujZSkqnskE5lg6h0ST1IQEiSxzGst-mAWtk2KVTXfetp69MUTu7tpw84cCgl0qY8tqkrXvdAMgs6eQjTLrvpygtoH9Jriov3JeForRQn8ahCkntJBALIeTUK1axXHiZLdcUXGGK8qRG7z7VyVX0VJe125e0IEpiy-I7o14S_Ji3VyWWM0nJZlJIqierbKWEbo7SQRgdVFN5JKidIzsEqJY_TrLA10Sqba3t_3nGRH3kaiwEYshbmIwD873sGikARF1PfhD8HtACA07nC2-tUIqW_DfLJli4yX34vw-4VhSep3FXX1reTZZ6qf4RTAWwcN8bfA1prjjE7eUvxlTJL5AjIvTrswWAvXq-NXYZXa3O9zZjylYITGx3bS5jluQJO35we7O8fN5v-KJglFANjU-Hp1-JI25CEk6FeM%22%2C%22page_number%22%3A2%2C%22em%22%3Afalse%2C%22tr%22%3Anull%7D&dpr=1.5&jazoest=28427\n",
      "<Response [200]>\n"
     ]
    }
   ],
   "source": [
    "with requests.Session() as session:\n",
    "    r = session.get(URL1)\n",
    "    cookie = r.headers['set-cookie']\n",
    "    headers = {\n",
    "        'User-Agent': 'Mozilla/5.0 (Windows NT 10.0; Win64; x64) AppleWebKit/537.36 (KHTML, like Gecko) Chrome/73.0.3683.103 Safari/537.36', \n",
    "        'Accept-Encoding': 'gzip, deflate', \n",
    "        'Accept': '*/*', \n",
    "        'Connection': 'keep-alive',\n",
    "        'cookie' : cookie,\n",
    "    }\n",
    "    session.headers['user-agent'] = 'Mozilla/5.0 (Windows NT 10.0; Win64; x64) AppleWebKit/537.36 (KHTML, like Gecko) Chrome/73.0.3683.103 Safari/537.36'\n",
    "    r = session.post(URL2, data = login_form, headers = headers)\n",
    "#     print(r.text)\n",
    "\n",
    "    print(dict(session.cookies))\n",
    "#     session.headers['cookie'] = session.cookies\n",
    "    r = session.get(URL3)\n",
    "    print(session.headers,'\\n')\n",
    "#     print(r.text)\n",
    "\n",
    "#     payload = _get_payload(100010743251101)\n",
    "#     print(URL4 + \"&%s\" % urllib.parse.urlencode(payload))\n",
    "    print(URL4)\n",
    "    r = session.get(URL4)\n",
    "#     r = session.get(URL4 + \"&%s\" % urllib.parse.urlencode(payload))\n",
    "#     print(session.cookies,'\\n')\n",
    "#     print(r.cookies,'\\n')\n",
    "\n",
    "#여기까진 됨!\n",
    "\n",
    "    print(URL5 + urllib.parse.urlencode(data)+ '&dpr=1.5&jazoest=28427')\n",
    "    r = session.get(URL5 + urllib.parse.urlencode(data) + '&dpr=1.5&jazoest=28427')\n",
    "    print(r)"
   ]
  },
  {
   "cell_type": "code",
   "execution_count": null,
   "metadata": {},
   "outputs": [],
   "source": []
  },
  {
   "cell_type": "code",
   "execution_count": null,
   "metadata": {},
   "outputs": [],
   "source": []
  },
  {
   "cell_type": "code",
   "execution_count": null,
   "metadata": {},
   "outputs": [],
   "source": []
  }
 ],
 "metadata": {
  "kernelspec": {
   "display_name": "Python 3",
   "language": "python",
   "name": "python3"
  },
  "language_info": {
   "codemirror_mode": {
    "name": "ipython",
    "version": 3
   },
   "file_extension": ".py",
   "mimetype": "text/x-python",
   "name": "python",
   "nbconvert_exporter": "python",
   "pygments_lexer": "ipython3",
   "version": "3.6.5"
  }
 },
 "nbformat": 4,
 "nbformat_minor": 2
}
