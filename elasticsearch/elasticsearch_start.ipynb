{
 "cells": [
  {
   "cell_type": "markdown",
   "metadata": {},
   "source": [
    "Elasticsearch 공식 문서를 보며 시작해 보자!"
   ]
  },
  {
   "cell_type": "markdown",
   "metadata": {},
   "source": [
    "1. 매핑하기\n",
    "\n",
    "타입의 매핑을 설정한다. 직접 설정할 수도 있고 한개의 샘플 데이터를 넣어 자동 매핑할 수도 있다.\n",
    "그러나 한번 정해진 매핑은 변경할 수 없음!"
   ]
  },
  {
   "cell_type": "markdown",
   "metadata": {},
   "source": [
    "```PUT engnews/1 \n",
    "{\n",
    "  \"news\": \"매일경제\",\n",
    "  \"word\": \"\",\n",
    "  \"topic\": \"\",\n",
    "  \"summary\": \"This is good man!\",\n",
    "  \"reg_date\": \"2018-03-01\"\n",
    "}```"
   ]
  },
  {
   "cell_type": "markdown",
   "metadata": {},
   "source": [
    "2. Index Template 만들기\n",
    "\n",
    "인덱스 템플릿은 인덱스를 새로 생성할때마다 미리 작성된 매핑으로 적용하는 것이다. \n",
    "\n",
    "기존에 공통적인 매핑정보를 만들고 새로운 매핑을 추가하는 방법으로 새 인덱스를 만들 수도 있다."
   ]
  },
  {
   "cell_type": "markdown",
   "metadata": {},
   "source": []
  },
  {
   "cell_type": "markdown",
   "metadata": {},
   "source": []
  },
  {
   "cell_type": "markdown",
   "metadata": {},
   "source": []
  }
 ],
 "metadata": {
  "kernelspec": {
   "display_name": "Python 3",
   "language": "python",
   "name": "python3"
  },
  "language_info": {
   "codemirror_mode": {
    "name": "ipython",
    "version": 3
   },
   "file_extension": ".py",
   "mimetype": "text/x-python",
   "name": "python",
   "nbconvert_exporter": "python",
   "pygments_lexer": "ipython3",
   "version": "3.6.5"
  }
 },
 "nbformat": 4,
 "nbformat_minor": 2
}
