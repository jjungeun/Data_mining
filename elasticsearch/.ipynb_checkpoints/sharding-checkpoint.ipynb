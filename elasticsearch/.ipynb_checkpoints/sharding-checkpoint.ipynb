{
 "cells": [
  {
   "cell_type": "markdown",
   "metadata": {},
   "source": [
    "# Elastic search 샤딩"
   ]
  },
  {
   "cell_type": "markdown",
   "metadata": {},
   "source": [
    "'news' index에 5개의 shard와 2개의 replica로 설정되어 있다.\n",
    "\n",
    "그러나 'elasticsearch' cluster에 node가 1개여서 replica는 unassigned된 상태이다."
   ]
  },
  {
   "cell_type": "markdown",
   "metadata": {},
   "source": [
    "replica를 유지하기 위해서는 최소 2개의 node가 필요하다. 그러나 하나의 노드가 다운된 상태에서도 지속성을 유지하려면 세 개의 노드가 필요하다.\n",
    "\n",
    "따라서 최대 샤드의 개수는 5 * (2 + 1) = 15개이므로 15개의 샤드를 3개의 node에 나누어 샤딩한다. (노드만 생성하면 자동으로 scaling해준다.)"
   ]
  },
  {
   "cell_type": "markdown",
   "metadata": {},
   "source": [
    "0. 엘라스틱서치 복사본을 추가적으로 2개를 설치한다. (https://www.elastic.co/guide/en/elastic-stack-get-started/7.1/get-started-elastic-stack.html#install-elasticsearch 참고)\n",
    "1. ES_PATH_CONF/elasticsearch.yml파일에 cluster.name과 node.name 설정한다.\n",
    "2. split brain상황을 피하기 위해 discovery.zen.minimum_master_nodes을 2으로 설정한다."
   ]
  },
  {
   "cell_type": "markdown",
   "metadata": {},
   "source": [
    "밑에는 노드 추가 예시 (출처 : Elasticsearch 공식 사이트 https://www.elastic.co/guide/en/elastic-stack-overview/current/encrypting-communications-hosts.html)"
   ]
  },
  {
   "cell_type": "markdown",
   "metadata": {},
   "source": [
    "예시) 기존 노드\n",
    "\n",
    "xpack.security.enabled: true\n",
    "\n",
    "cluster.name: test-cluster\n",
    "\n",
    "node.name: node-1\n",
    "\n",
    "discovery.zen.minimum_master_nodes: 2\n",
    "\n",
    "transport.tcp.port: 9301\n",
    "\n",
    "discovery.zen.ping.unicast.hosts: [\"localhost:9302\", \"localhost:9303\"]"
   ]
  },
  {
   "cell_type": "markdown",
   "metadata": {},
   "source": [
    "예시) 추가 노드\n",
    "\n",
    "xpack.security.enabled: true\n",
    "\n",
    "cluster.name: test-cluster\n",
    "\n",
    "node.name: node-2\n",
    "\n",
    "discovery.zen.minimum_master_nodes: 2\n",
    "\n",
    "transport.tcp.port: 9302\n",
    "\n",
    "discovery.zen.ping.unicast.hosts: [\"localhost:9301\", \"localhost:9303\"]"
   ]
  },
  {
   "cell_type": "markdown",
   "metadata": {},
   "source": [
    "4. 0에서 다운받은 Elasticsearch node를 시작한다. \n",
    "5. Kibana도 다시 시작한다.\n",
    "6. ```GET _cat/nodes?v```, ```GET _nodes?```, ```GET _cluster/health```로 노드생성이 성공적인지 확인한다."
   ]
  }
 ],
 "metadata": {
  "kernelspec": {
   "display_name": "Python 3",
   "language": "python",
   "name": "python3"
  },
  "language_info": {
   "codemirror_mode": {
    "name": "ipython",
    "version": 3
   },
   "file_extension": ".py",
   "mimetype": "text/x-python",
   "name": "python",
   "nbconvert_exporter": "python",
   "pygments_lexer": "ipython3",
   "version": "3.6.5"
  }
 },
 "nbformat": 4,
 "nbformat_minor": 2
}
