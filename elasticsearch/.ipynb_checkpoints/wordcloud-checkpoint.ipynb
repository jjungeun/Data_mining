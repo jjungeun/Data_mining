{
 "cells": [
  {
   "cell_type": "code",
   "execution_count": 1,
   "metadata": {},
   "outputs": [],
   "source": [
    "from elasticsearch import Elasticsearch\n",
    "from konlpy.tag import Okt\n",
    "\n",
    "import pandas as pd\n",
    "import matplotlib\n",
    "matplotlib.use(\"TkAgg\")\n",
    "import matplotlib.pyplot as plt\n",
    "\n",
    "from wordcloud import WordCloud\n",
    "from collections import Counter\n",
    "\n",
    "import re"
   ]
  },
  {
   "cell_type": "code",
   "execution_count": 2,
   "metadata": {},
   "outputs": [],
   "source": [
    "spliter = Okt()\n",
    "keeplooping = True\n",
    "Noun = \"\"\n",
    "currentCount = 0"
   ]
  },
  {
   "cell_type": "code",
   "execution_count": 3,
   "metadata": {},
   "outputs": [],
   "source": [
    "stopword = ['뉴시스','무단','이데일리''헤럴드','한국','포럼','노컷','중앙','이데일리','종목','우리나라',\\\n",
    "            '전자','라이프','누구','가운데','서울','경향','매일','한경닷컴','경제','라이온',\\\n",
    "            '오마이','아이','연합','지난해','지난달','때문','저작권','생방송','내용','네이버','영상','청춘','우스']"
   ]
  },
  {
   "cell_type": "code",
   "execution_count": 4,
   "metadata": {},
   "outputs": [],
   "source": [
    "while keeplooping:\n",
    "    es_client = Elasticsearch(hosts=[{'host': '52.141.39.217', 'port': 5000}])\n",
    "    query = {\n",
    "      \"_source\": [\"ai_keyword\"],\n",
    "      \"from\": currentCount,\n",
    "      \"size\": 10000,\n",
    "      \"sort\": [\n",
    "        {\n",
    "          \"reg_date\": {\n",
    "            \"order\": \"desc\"\n",
    "          }\n",
    "        }\n",
    "      ],\n",
    "      \"query\": {\n",
    "        \"bool\": {\n",
    "          \"must\": [\n",
    "            {\n",
    "              \"term\": {\n",
    "                \"is_ai_summary\": \"1\"\n",
    "              }\n",
    "            },\n",
    "            {\n",
    "              \"match\": {\n",
    "                \"language\": \"ko\"\n",
    "              }\n",
    "            },\n",
    "            {\n",
    "              \"range\": {\n",
    "                \"reg_date\": {\n",
    "                  \"gte\": \"2019-04-01\", \n",
    "                  \"lte\": \"2019-05-09\"\n",
    "                }\n",
    "              }\n",
    "            }\n",
    "          ]\n",
    "        }\n",
    "      }\n",
    "    }\n",
    "    res = es_client.search(index='news', doc_type='data', body=query)\n",
    "    \n",
    "    if len(res[\"hits\"][\"hits\"]) == 0:\n",
    "        keeplooping = False\n",
    "\n",
    "    for ress in res[\"hits\"][\"hits\"]:\n",
    "        for resss in ress[\"_source\"][\"ai_keyword\"]:\n",
    "            tmps = spliter.pos(resss)\n",
    "            for tmp in tmps:\n",
    "                if tmp[1] == \"Noun\" and tmp[0] not in stopword:\n",
    "                        if re.search('뉴스',tmp[0]) or re.search('신문',tmp[0]) or re.search('칼럼',tmp[0]) or re.search('일보',tmp[0])\\\n",
    "                            or re.search('대한민국',tmp[0]) or re.search('보기',tmp[0]) or re.search('경제',tmp[0]):\n",
    "                            continue\n",
    "                        Noun += \",\" + tmp[0]\n",
    "                    \n",
    "    currentCount += 10000"
   ]
  },
  {
   "cell_type": "code",
   "execution_count": null,
   "metadata": {},
   "outputs": [],
   "source": [
    "wordcloud = WordCloud(\\\n",
    "                     font_path = 'C:/Windows/Fonts/malgun.ttf',\\\n",
    "                      background_color='white',\\\n",
    "                      max_words=200,\\\n",
    "                      max_font_size=40,\\\n",
    "                      random_state=42\\\n",
    "                     ).generate(Noun)\n",
    "\n",
    "fig = plt.figure(figsize=(12,12))\n",
    "plt.imshow(wordcloud, interpolation='bilinear')\n",
    "plt.axis('off')\n",
    "plt.show()\n",
    "# fig.savefig(\"word-en.png\", dpi=900)\n",
    "fig.savefig(\"word-ko.png\")\n",
    "\n",
    "print(wordcloud.words_)"
   ]
  }
 ],
 "metadata": {
  "kernelspec": {
   "display_name": "Python 3",
   "language": "python",
   "name": "python3"
  },
  "language_info": {
   "codemirror_mode": {
    "name": "ipython",
    "version": 3
   },
   "file_extension": ".py",
   "mimetype": "text/x-python",
   "name": "python",
   "nbconvert_exporter": "python",
   "pygments_lexer": "ipython3",
   "version": "3.6.5"
  }
 },
 "nbformat": 4,
 "nbformat_minor": 2
}
