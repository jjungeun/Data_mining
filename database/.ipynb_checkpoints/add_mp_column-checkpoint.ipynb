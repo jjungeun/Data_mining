{
 "cells": [
  {
   "cell_type": "code",
   "execution_count": 1,
   "metadata": {},
   "outputs": [],
   "source": [
    "import requests\n",
    "from bs4 import BeautifulSoup\n",
    "from db import db_connect, db_close"
   ]
  },
  {
   "cell_type": "markdown",
   "metadata": {},
   "source": [
    "Election DB 스키마\n",
    "\n",
    "- area table: aid(pk), aname(지역구 명)\n",
    "- party table: pid(pk), pname(정당 명)\n",
    "- mp table: mid(pk), mname(국회의원 명), party_id(forign key), area_id(forign key), win(당선 여부), rank(순위)"
   ]
  },
  {
   "cell_type": "markdown",
   "metadata": {},
   "source": [
    "mp table에 rank 컬럼 추가\n",
    "\n",
    "사퇴한 경우 votes가 -이므로 vote_rate를 0으로 한다."
   ]
  },
  {
   "cell_type": "code",
   "execution_count": 2,
   "metadata": {},
   "outputs": [],
   "source": [
    "def get_urls():\n",
    "    url = 'https://ko.wikipedia.org/wiki/%EB%8C%80%ED%95%9C%EB%AF%BC%EA%B5%AD%EC%9D%98_%EA%B5%AD%ED%9A%8C%EC%9D%98%EC%9B%90_%EC%84%A0%EA%B1%B0'\n",
    "    area_url = []\n",
    "    \n",
    "    res = requests.get(url).text\n",
    "    soup = BeautifulSoup(res,'html.parser')\n",
    "    crawls = soup.select('table[class=\"nowraplinks collapsible autocollapse navbox-inner\"] tbody')[6]\n",
    "    crawls = crawls.select('tr')[7]\n",
    "    \n",
    "    for crawl in crawls.select('li a'):\n",
    "        area_url.append('https://ko.wikipedia.org'+crawl.get('href'))\n",
    "    \n",
    "    return area_url"
   ]
  },
  {
   "cell_type": "code",
   "execution_count": 3,
   "metadata": {},
   "outputs": [],
   "source": [
    "def push_mp(area_num, table_ls, db):\n",
    "    cursor = db.cursor()\n",
    "    for table in table_ls:\n",
    "        vote_ls = []\n",
    "        area_num += 1\n",
    "        candidates = table.select('tr:nth-child(n+3):nth-last-child(n+3):not(.sortbottom)')\n",
    "        for candidate in candidates:\n",
    "            mp_name= candidate.select('td:nth-child(3)')[0].text\n",
    "            votes = candidate.select('td:nth-child(5)')[0].text.split('표')[0].replace(',','')\n",
    "            vote_rate = candidate.select('td:nth-child(6)')[0].text.strip('\\n').split('%')[0]\n",
    "            \n",
    "            if votes == '-':\n",
    "                votes = 0\n",
    "                vote_rate = 0\n",
    "\n",
    "            vote_ls.append((mp_name,int(votes),vote_rate))\n",
    "        \n",
    "        vote_ls = sorted(vote_ls, key=lambda k: k[1], reverse=True)\n",
    "\n",
    "        for i,v in enumerate(vote_ls):\n",
    "            name = v[0]\n",
    "            rank = i+1\n",
    "            vote = v[2]\n",
    "            sql = \"UPDATE mp SET rank=%s, votes=%s WHERE area_id=%s and mname=%s;\"\n",
    "            cursor.execute(sql, (rank, vote, area_num, name))\n",
    "            db.commit()\n",
    "        \n",
    "    return area_num"
   ]
  },
  {
   "cell_type": "code",
   "execution_count": 4,
   "metadata": {},
   "outputs": [],
   "source": [
    "db = db_connect()"
   ]
  },
  {
   "cell_type": "code",
   "execution_count": 5,
   "metadata": {},
   "outputs": [],
   "source": [
    "area_url = get_urls()\n",
    "area_num = 0\n",
    "for url in area_url:\n",
    "    table_ls = []\n",
    "    res = requests.get(url).text\n",
    "    soup = BeautifulSoup(res,'html.parser')\n",
    "    crawl = soup.select('.mw-parser-output .wikitable>tbody')\n",
    "    for c in crawl[1:-1]:\n",
    "        table_ls.append(c)\n",
    "    area_num = push_mp(area_num, table_ls, db)"
   ]
  },
  {
   "cell_type": "code",
   "execution_count": 6,
   "metadata": {},
   "outputs": [],
   "source": [
    "db_close(db)"
   ]
  }
 ],
 "metadata": {
  "kernelspec": {
   "display_name": "Python 3",
   "language": "python",
   "name": "python3"
  },
  "language_info": {
   "codemirror_mode": {
    "name": "ipython",
    "version": 3
   },
   "file_extension": ".py",
   "mimetype": "text/x-python",
   "name": "python",
   "nbconvert_exporter": "python",
   "pygments_lexer": "ipython3",
   "version": "3.7.3"
  }
 },
 "nbformat": 4,
 "nbformat_minor": 2
}
