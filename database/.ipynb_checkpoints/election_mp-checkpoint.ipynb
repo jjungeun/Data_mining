{
 "cells": [
  {
   "cell_type": "code",
   "execution_count": 1,
   "metadata": {},
   "outputs": [],
   "source": [
    "import requests\n",
    "from bs4 import BeautifulSoup\n",
    "from db import db_connect, db_close"
   ]
  },
  {
   "cell_type": "markdown",
   "metadata": {},
   "source": [
    "Election DB 스키마\n",
    "- area table: aid(pk), aname(지역구 명)\n",
    "- party table: pid(pk), pname(정당 명)\n",
    "- mp table: mid(pk), mname(국회의원 명), party_id(forign key), area_id(forign key), win(당선 여부)"
   ]
  },
  {
   "cell_type": "markdown",
   "metadata": {},
   "source": [
    "무소속인 경우 party_id는 null"
   ]
  },
  {
   "cell_type": "code",
   "execution_count": 2,
   "metadata": {},
   "outputs": [],
   "source": [
    "def get_urls():\n",
    "    url = 'https://ko.wikipedia.org/wiki/%EB%8C%80%ED%95%9C%EB%AF%BC%EA%B5%AD%EC%9D%98_%EA%B5%AD%ED%9A%8C%EC%9D%98%EC%9B%90_%EC%84%A0%EA%B1%B0'\n",
    "    area_url = []\n",
    "    \n",
    "    res = requests.get(url).text\n",
    "    soup = BeautifulSoup(res,'html.parser')\n",
    "    crawls = soup.select('table[class=\"nowraplinks collapsible autocollapse navbox-inner\"] tbody')[6]\n",
    "    crawls = crawls.select('tr')[7]\n",
    "    \n",
    "    for crawl in crawls.select('li a'):\n",
    "        area_url.append('https://ko.wikipedia.org'+crawl.get('href'))\n",
    "    \n",
    "    return area_url"
   ]
  },
  {
   "cell_type": "code",
   "execution_count": 3,
   "metadata": {},
   "outputs": [],
   "source": [
    "def push_mp(area_num, table_ls, db):\n",
    "    cursor = db.cursor()\n",
    "    for table in table_ls:\n",
    "        area_num += 1\n",
    "        candidates = table.select('tr:nth-child(n+3):nth-last-child(n+3):not(.sortbottom)')\n",
    "        for candidate in candidates:\n",
    "            party_num = None\n",
    "            mp_win = 0\n",
    "            if candidate.select('td:nth-child(1)[bgcolor]') != []:\n",
    "                mp_win = 1\n",
    "            mp_name= candidate.select('td:nth-child(3)')[0].text\n",
    "            mp_party = candidate.select('td:nth-child(4)')[0].text.strip('\\n')\n",
    "            if '사회민주당' in mp_party or '통합민주당' in mp_party:\n",
    "                mp_party = '민주당'\n",
    "            elif '경제애국당' in mp_party:\n",
    "                mp_party = '친반통일당'\n",
    "\n",
    "            if '무소속' not in mp_party:\n",
    "                sql = \"select pid from party where pname=%s;\"\n",
    "                cursor.execute(sql, mp_party)\n",
    "                rows = cursor.fetchone()\n",
    "                party_num = rows[0]\n",
    "\n",
    "            sql = \"INSERT INTO mp (mname, party_id, area_id, win) VALUES (%s,%s,%s,%s);\"\n",
    "            cursor.execute(sql, (mp_name, party_num, area_num, mp_win))\n",
    "            db.commit()\n",
    "    \n",
    "    return area_num"
   ]
  },
  {
   "cell_type": "code",
   "execution_count": 4,
   "metadata": {},
   "outputs": [],
   "source": [
    "db = db_connect()"
   ]
  },
  {
   "cell_type": "code",
   "execution_count": 5,
   "metadata": {},
   "outputs": [],
   "source": [
    "area_url = get_urls()\n",
    "area_num = 0\n",
    "for url in area_url:\n",
    "    table_ls = []\n",
    "    res = requests.get(url).text\n",
    "    soup = BeautifulSoup(res,'html.parser')\n",
    "    crawl = soup.select('.mw-parser-output .wikitable>tbody')\n",
    "    for c in crawl[1:-1]:\n",
    "        table_ls.append(c)\n",
    "    area_num = push_mp(area_num, table_ls, db)"
   ]
  },
  {
   "cell_type": "code",
   "execution_count": 6,
   "metadata": {},
   "outputs": [],
   "source": [
    "db_close(db)"
   ]
  }
 ],
 "metadata": {
  "kernelspec": {
   "display_name": "Python 3",
   "language": "python",
   "name": "python3"
  },
  "language_info": {
   "codemirror_mode": {
    "name": "ipython",
    "version": 3
   },
   "file_extension": ".py",
   "mimetype": "text/x-python",
   "name": "python",
   "nbconvert_exporter": "python",
   "pygments_lexer": "ipython3",
   "version": "3.6.8"
  }
 },
 "nbformat": 4,
 "nbformat_minor": 2
}
