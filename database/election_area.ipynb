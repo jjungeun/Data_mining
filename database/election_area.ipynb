{
 "cells": [
  {
   "cell_type": "code",
   "execution_count": 1,
   "metadata": {},
   "outputs": [],
   "source": [
    "import requests\n",
    "from bs4 import BeautifulSoup\n",
    "from db import db_connect, db_close"
   ]
  },
  {
   "cell_type": "markdown",
   "metadata": {},
   "source": [
    "Election DB 스키마\n",
    "- area table: aid(pk), aname(지역구 명)\n",
    "- party table: pid(pk), pname(정당 명)\n",
    "- mp table: mid(pk), mname(국회의원 명), party_id(forign key), area_id(forign key), win(당선 여부)"
   ]
  },
  {
   "cell_type": "code",
   "execution_count": 4,
   "metadata": {},
   "outputs": [],
   "source": [
    "def get_urls():\n",
    "    url = 'https://ko.wikipedia.org/wiki/%EB%8C%80%ED%95%9C%EB%AF%BC%EA%B5%AD%EC%9D%98_%EA%B5%AD%ED%9A%8C%EC%9D%98%EC%9B%90_%EC%84%A0%EA%B1%B0'\n",
    "    area_url = []\n",
    "    \n",
    "    res = requests.get(url).text\n",
    "    soup = BeautifulSoup(res,'html.parser')\n",
    "    crawls = soup.select('table[class=\"nowraplinks collapsible autocollapse navbox-inner\"] tbody')[6]\n",
    "    crawls = crawls.select('tr')[7]\n",
    "    \n",
    "    for crawl in crawls.select('li a'):\n",
    "        area_url.append('https://ko.wikipedia.org'+crawl.get('href'))\n",
    "    \n",
    "    return area_url"
   ]
  },
  {
   "cell_type": "code",
   "execution_count": 5,
   "metadata": {},
   "outputs": [],
   "source": [
    "def get_area(area_url):\n",
    "    stopword = ['선거통계', '선거구별 결과', '지역구', '비례대표']\n",
    "    area_ls = []\n",
    "    for url in area_url:\n",
    "        res = requests.get(url).text\n",
    "        soup = BeautifulSoup(res,'html.parser')\n",
    "        crawl = soup.select('h3 span[class=\"mw-headline\"]')\n",
    "        for area in crawl:\n",
    "            if area.text not in stopword:\n",
    "                area_ls.append(\"('\"+area.text+\"')\")\n",
    "    \n",
    "    return area_ls"
   ]
  },
  {
   "cell_type": "code",
   "execution_count": 6,
   "metadata": {},
   "outputs": [],
   "source": [
    "db = db_connect()"
   ]
  },
  {
   "cell_type": "code",
   "execution_count": 7,
   "metadata": {},
   "outputs": [],
   "source": [
    "cursor = db.cursor()"
   ]
  },
  {
   "cell_type": "code",
   "execution_count": 8,
   "metadata": {},
   "outputs": [],
   "source": [
    "area_url = get_urls()\n",
    "area_ls = get_area(area_url)"
   ]
  },
  {
   "cell_type": "code",
   "execution_count": 9,
   "metadata": {},
   "outputs": [],
   "source": [
    "var_string = ','.join(area_ls)\n",
    "sql = \"INSERT INTO area (aname) VALUES %s;\" % var_string"
   ]
  },
  {
   "cell_type": "code",
   "execution_count": 10,
   "metadata": {},
   "outputs": [
    {
     "data": {
      "text/plain": [
       "253"
      ]
     },
     "execution_count": 10,
     "metadata": {},
     "output_type": "execute_result"
    }
   ],
   "source": [
    "cursor.execute(sql)"
   ]
  },
  {
   "cell_type": "code",
   "execution_count": 11,
   "metadata": {},
   "outputs": [],
   "source": [
    "db.commit()"
   ]
  },
  {
   "cell_type": "code",
   "execution_count": 12,
   "metadata": {},
   "outputs": [],
   "source": [
    "db_close(db)"
   ]
  }
 ],
 "metadata": {
  "kernelspec": {
   "display_name": "Python 3",
   "language": "python",
   "name": "python3"
  },
  "language_info": {
   "codemirror_mode": {
    "name": "ipython",
    "version": 3
   },
   "file_extension": ".py",
   "mimetype": "text/x-python",
   "name": "python",
   "nbconvert_exporter": "python",
   "pygments_lexer": "ipython3",
   "version": "3.6.8"
  }
 },
 "nbformat": 4,
 "nbformat_minor": 2
}
